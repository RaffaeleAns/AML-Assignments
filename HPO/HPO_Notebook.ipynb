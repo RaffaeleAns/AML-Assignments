{
  "nbformat": 4,
  "nbformat_minor": 0,
  "metadata": {
    "colab": {
      "name": "Raffaele_Anselmo_846842_assignment5.ipynb",
      "provenance": [],
      "collapsed_sections": []
    },
    "kernelspec": {
      "name": "python3",
      "display_name": "Python 3"
    },
    "accelerator": "GPU"
  },
  "cells": [
    {
      "cell_type": "markdown",
      "metadata": {
        "id": "Ge5QRK4AbNdF",
        "colab_type": "text"
      },
      "source": [
        "# Assignment 5\n",
        "## Anselmo Raffaele\n",
        "Matricola: 846842  \n",
        "Mail: r.anselmo@campus.unimib.it"
      ]
    },
    {
      "cell_type": "markdown",
      "metadata": {
        "id": "we-wJhTYMAex",
        "colab_type": "text"
      },
      "source": [
        "## Installing SMAC"
      ]
    },
    {
      "cell_type": "code",
      "metadata": {
        "id": "r7eGz8ZRvSgq",
        "colab_type": "code",
        "outputId": "94837ffb-7bef-47de-945f-238c5ab4e623",
        "colab": {
          "base_uri": "https://localhost:8080/",
          "height": 1000
        }
      },
      "source": [
        "#Installing SMAC\n",
        "!apt-get install swig\n",
        "!pip install smac[all]  "
      ],
      "execution_count": 1,
      "outputs": [
        {
          "output_type": "stream",
          "text": [
            "Reading package lists... Done\n",
            "Building dependency tree       \n",
            "Reading state information... Done\n",
            "The following packages were automatically installed and are no longer required:\n",
            "  cuda-cufft-10-1 cuda-cufft-dev-10-1 cuda-curand-10-1 cuda-curand-dev-10-1\n",
            "  cuda-cusolver-10-1 cuda-cusolver-dev-10-1 cuda-cusparse-10-1\n",
            "  cuda-cusparse-dev-10-1 cuda-license-10-2 cuda-npp-10-1 cuda-npp-dev-10-1\n",
            "  cuda-nsight-10-1 cuda-nsight-compute-10-1 cuda-nsight-systems-10-1\n",
            "  cuda-nvgraph-10-1 cuda-nvgraph-dev-10-1 cuda-nvjpeg-10-1\n",
            "  cuda-nvjpeg-dev-10-1 cuda-nvrtc-10-1 cuda-nvrtc-dev-10-1 cuda-nvvp-10-1\n",
            "  libcublas10 libnvidia-common-430 nsight-compute-2019.5.0\n",
            "  nsight-systems-2019.5.2\n",
            "Use 'apt autoremove' to remove them.\n",
            "The following additional packages will be installed:\n",
            "  swig3.0\n",
            "Suggested packages:\n",
            "  swig-doc swig-examples swig3.0-examples swig3.0-doc\n",
            "The following NEW packages will be installed:\n",
            "  swig swig3.0\n",
            "0 upgraded, 2 newly installed, 0 to remove and 5 not upgraded.\n",
            "Need to get 1,100 kB of archives.\n",
            "After this operation, 5,822 kB of additional disk space will be used.\n",
            "Get:1 http://archive.ubuntu.com/ubuntu bionic/universe amd64 swig3.0 amd64 3.0.12-1 [1,094 kB]\n",
            "Get:2 http://archive.ubuntu.com/ubuntu bionic/universe amd64 swig amd64 3.0.12-1 [6,460 B]\n",
            "Fetched 1,100 kB in 1s (796 kB/s)\n",
            "Selecting previously unselected package swig3.0.\n",
            "(Reading database ... 135718 files and directories currently installed.)\n",
            "Preparing to unpack .../swig3.0_3.0.12-1_amd64.deb ...\n",
            "Unpacking swig3.0 (3.0.12-1) ...\n",
            "Selecting previously unselected package swig.\n",
            "Preparing to unpack .../swig_3.0.12-1_amd64.deb ...\n",
            "Unpacking swig (3.0.12-1) ...\n",
            "Setting up swig3.0 (3.0.12-1) ...\n",
            "Setting up swig (3.0.12-1) ...\n",
            "Processing triggers for man-db (2.8.3-2ubuntu0.1) ...\n",
            "Collecting smac[all]\n",
            "\u001b[?25l  Downloading https://files.pythonhosted.org/packages/01/b7/b4d720b5eb7c705bab5b243fc38a60ca9bbc151cc09872b7e9e0a316581d/smac-0.11.1.tar.gz (161kB)\n",
            "\u001b[K     |████████████████████████████████| 163kB 4.8MB/s \n",
            "\u001b[?25hRequirement already satisfied: numpy>=1.7.1 in /usr/local/lib/python3.6/dist-packages (from smac[all]) (1.17.4)\n",
            "Requirement already satisfied: scipy>=0.18.1 in /usr/local/lib/python3.6/dist-packages (from smac[all]) (1.3.3)\n",
            "Requirement already satisfied: psutil in /usr/local/lib/python3.6/dist-packages (from smac[all]) (5.4.8)\n",
            "Collecting pynisher>=0.4.1\n",
            "  Downloading https://files.pythonhosted.org/packages/b2/21/c86c64c305da6d43fb89780d33cbc839c07736b71955a8bdb642a02b7538/pynisher-0.5.0.tar.gz\n",
            "Collecting ConfigSpace<0.5,>=0.4.6\n",
            "\u001b[?25l  Downloading https://files.pythonhosted.org/packages/be/07/ebb7c6c6d03c82ffe6314161f2c8da32599c841e74b08f5c23812fee0e6f/ConfigSpace-0.4.11.tar.gz (957kB)\n",
            "\u001b[K     |████████████████████████████████| 962kB 55.8MB/s \n",
            "\u001b[?25hRequirement already satisfied: scikit-learn>=0.18.0 in /usr/local/lib/python3.6/dist-packages (from smac[all]) (0.21.3)\n",
            "Collecting pyrfr>=0.8.0\n",
            "\u001b[?25l  Downloading https://files.pythonhosted.org/packages/ed/0f/4d7e42a9dfef3a1898e03cffa8f1cfcd1f96507d718808b2db584c6f8401/pyrfr-0.8.0.tar.gz (293kB)\n",
            "\u001b[K     |████████████████████████████████| 296kB 54.6MB/s \n",
            "\u001b[?25hCollecting sobol_seq\n",
            "  Downloading https://files.pythonhosted.org/packages/89/7a/7b374fd1f100bfea2624190f3dd879029e1aabe70d34e279ef456d522717/sobol_seq-0.1.2.zip\n",
            "Requirement already satisfied: joblib in /usr/local/lib/python3.6/dist-packages (from smac[all]) (0.14.0)\n",
            "Collecting lazy_import\n",
            "  Downloading https://files.pythonhosted.org/packages/44/2e/5378f9b9cbc893826c2ecb022646c97ece9efbaad351adf89425fff33990/lazy_import-0.2.2.tar.gz\n",
            "Collecting scikit-optimize\n",
            "\u001b[?25l  Downloading https://files.pythonhosted.org/packages/f4/44/60f82c97d1caa98752c7da2c1681cab5c7a390a0fdd3a55fac672b321cac/scikit_optimize-0.5.2-py2.py3-none-any.whl (74kB)\n",
            "\u001b[K     |████████████████████████████████| 81kB 13.7MB/s \n",
            "\u001b[?25hCollecting pyDOE\n",
            "  Downloading https://files.pythonhosted.org/packages/bc/ac/91fe4c039e2744466621343d3b8af4a485193ed0aab53af5b1db03be0989/pyDOE-0.3.8.zip\n",
            "Collecting emcee>=2.1.0\n",
            "\u001b[?25l  Downloading https://files.pythonhosted.org/packages/97/f4/00151f5f843088337c6a53edd6cbb2df340f1044d23080c662f95219cc3f/emcee-3.0.2-py2.py3-none-any.whl (41kB)\n",
            "\u001b[K     |████████████████████████████████| 51kB 8.8MB/s \n",
            "\u001b[?25hRequirement already satisfied: docutils>=0.3 in /usr/local/lib/python3.6/dist-packages (from pynisher>=0.4.1->smac[all]) (0.15.2)\n",
            "Requirement already satisfied: setuptools in /usr/local/lib/python3.6/dist-packages (from pynisher>=0.4.1->smac[all]) (42.0.1)\n",
            "Requirement already satisfied: cython in /usr/local/lib/python3.6/dist-packages (from ConfigSpace<0.5,>=0.4.6->smac[all]) (0.29.14)\n",
            "Requirement already satisfied: pyparsing in /usr/local/lib/python3.6/dist-packages (from ConfigSpace<0.5,>=0.4.6->smac[all]) (2.4.5)\n",
            "Requirement already satisfied: six in /usr/local/lib/python3.6/dist-packages (from lazy_import->smac[all]) (1.12.0)\n",
            "Building wheels for collected packages: smac, pynisher, ConfigSpace, pyrfr, sobol-seq, lazy-import, pyDOE\n",
            "  Building wheel for smac (setup.py) ... \u001b[?25l\u001b[?25hdone\n",
            "  Created wheel for smac: filename=smac-0.11.1-cp36-none-any.whl size=165908 sha256=e0ae2478df092a81105abf846f4308b1b87a94f03a8b301f033ea4b54a6e64a6\n",
            "  Stored in directory: /root/.cache/pip/wheels/5c/22/71/14afa2097163de1d610894f7985ff2bfbec08a9e02c5932faa\n",
            "  Building wheel for pynisher (setup.py) ... \u001b[?25l\u001b[?25hdone\n",
            "  Created wheel for pynisher: filename=pynisher-0.5.0-cp36-none-any.whl size=4360 sha256=3a4e9c6caa2a0f49f429e621e2dd85050d8bd7e5b629893adb7e56847cf3dfe1\n",
            "  Stored in directory: /root/.cache/pip/wheels/af/2a/c4/ec3abc8a2f786ef9786ea8fe6ff629a4e54812a3f98cc41b47\n",
            "  Building wheel for ConfigSpace (setup.py) ... \u001b[?25l\u001b[?25hdone\n",
            "  Created wheel for ConfigSpace: filename=ConfigSpace-0.4.11-cp36-cp36m-linux_x86_64.whl size=2907952 sha256=27c06d5b968b4f1744bf85305f3dfc73def070214a90264e8322e4fc9cdfe9ee\n",
            "  Stored in directory: /root/.cache/pip/wheels/9f/bf/27/d224e97900342ebed7f81311458a572b557b99dd9492e00bf5\n",
            "  Building wheel for pyrfr (setup.py) ... \u001b[?25l\u001b[?25hdone\n",
            "  Created wheel for pyrfr: filename=pyrfr-0.8.0-cp36-cp36m-linux_x86_64.whl size=2540514 sha256=94b2d036358c29def0e0ff6b7345a2c2f729630c3cdb98cd15bc2a6a9d8c8e3d\n",
            "  Stored in directory: /root/.cache/pip/wheels/61/1a/d2/b5aee388a492a01946143d3c976b2ca810af537480e1f16999\n",
            "  Building wheel for sobol-seq (setup.py) ... \u001b[?25l\u001b[?25hdone\n",
            "  Created wheel for sobol-seq: filename=sobol_seq-0.1.2-cp36-none-any.whl size=8191 sha256=aa5434c0bc3b5e119194ffbea876db7e99b80cd24de44cf5ad0698b4d444d856\n",
            "  Stored in directory: /root/.cache/pip/wheels/d5/72/1f/6cd8a0b472da802ee9c84fdc39626bb4ec544668c030917d9f\n",
            "  Building wheel for lazy-import (setup.py) ... \u001b[?25l\u001b[?25hdone\n",
            "  Created wheel for lazy-import: filename=lazy_import-0.2.2-py2.py3-none-any.whl size=16488 sha256=11f5e54e36b814b25dd0c4197e16f28ebc13133642aed8603be540cdf59ff7b2\n",
            "  Stored in directory: /root/.cache/pip/wheels/a9/b0/b5/8c7e6810aee14bc4ed4a542ce56e744126263bf4f4825a9094\n",
            "  Building wheel for pyDOE (setup.py) ... \u001b[?25l\u001b[?25hdone\n",
            "  Created wheel for pyDOE: filename=pyDOE-0.3.8-cp36-none-any.whl size=18178 sha256=2249f17bdc9946d422f8e6f6f488a1832245bb9b5320acf7f151ead62f45b733\n",
            "  Stored in directory: /root/.cache/pip/wheels/7c/c8/58/a6493bd415e8ba5735082b5e0c096d7c1f2933077a8ce34544\n",
            "Successfully built smac pynisher ConfigSpace pyrfr sobol-seq lazy-import pyDOE\n",
            "Installing collected packages: pynisher, ConfigSpace, pyrfr, sobol-seq, lazy-import, scikit-optimize, pyDOE, emcee, smac\n",
            "Successfully installed ConfigSpace-0.4.11 emcee-3.0.2 lazy-import-0.2.2 pyDOE-0.3.8 pynisher-0.5.0 pyrfr-0.8.0 scikit-optimize-0.5.2 smac-0.11.1 sobol-seq-0.1.2\n"
          ],
          "name": "stdout"
        }
      ]
    },
    {
      "cell_type": "markdown",
      "metadata": {
        "id": "QRAlnM6nb1d5",
        "colab_type": "text"
      },
      "source": [
        "## Import Libraries"
      ]
    },
    {
      "cell_type": "code",
      "metadata": {
        "id": "hmzbg0BRECOa",
        "colab_type": "code",
        "colab": {}
      },
      "source": [
        "from smac.facade.func_facade import fmin_smac\n",
        "from smac.facade.smac_hpo_facade import SMAC4HPO #Bayesian optimization using a Random Forest\n",
        "\n",
        "# Import ConfigSpace and different types of parameters\n",
        "from smac.configspace import ConfigurationSpace\n",
        "from ConfigSpace.hyperparameters import CategoricalHyperparameter, \\\n",
        "    UniformFloatHyperparameter, UniformIntegerHyperparameter\n",
        "from ConfigSpace.conditions import InCondition\n",
        "from smac.configspace.util import convert_configurations_to_array\n",
        "\n",
        "# Import SMAC-utilities\n",
        "from smac.tae.execute_func import ExecuteTAFuncDict\n",
        "from smac.scenario.scenario import Scenario\n",
        "from smac.optimizer.acquisition import EI, LCB\n",
        "from smac.initial_design.initial_design import InitialDesign\n",
        "from smac.initial_design.random_configuration_design import RandomConfigurations"
      ],
      "execution_count": 0,
      "outputs": []
    },
    {
      "cell_type": "code",
      "metadata": {
        "id": "UUGtySc4DCC7",
        "colab_type": "code",
        "colab": {}
      },
      "source": [
        "import numpy as np\n",
        "import pandas as pd"
      ],
      "execution_count": 0,
      "outputs": []
    },
    {
      "cell_type": "code",
      "metadata": {
        "id": "FVAMqVC9cjGC",
        "colab_type": "code",
        "outputId": "c0733f39-c042-4b3e-c91c-34b6ba5abdea",
        "colab": {
          "base_uri": "https://localhost:8080/",
          "height": 143
        }
      },
      "source": [
        "# Import utilities\n",
        "import logging\n",
        "logging.basicConfig(level=logging.INFO)\n",
        "logging.captureWarnings(capture=True)\n",
        "logger = logging.getLogger(\"py.warnings\")\n",
        "handler = logging.StreamHandler()\n",
        "logger.addHandler(handler)\n",
        "logger.addFilter(lambda record: \"ConvergenceWarning\" not in record.getMessage())\n",
        "from collections import Counter\n",
        "\n",
        "import matplotlib.pyplot as plt\n",
        "\n",
        "from scipy.stats import uniform\n",
        "\n",
        "# Import sklearn libraries \n",
        "from imblearn.over_sampling import SMOTE\n",
        "from imblearn.pipeline import Pipeline, make_pipeline\n",
        "from sklearn.model_selection import GridSearchCV, RandomizedSearchCV, cross_val_score, cross_val_predict\n",
        "from sklearn.neural_network import MLPClassifier\n",
        "from sklearn.preprocessing import StandardScaler\n",
        "from sklearn.metrics import classification_report"
      ],
      "execution_count": 4,
      "outputs": [
        {
          "output_type": "stream",
          "text": [
            "/usr/local/lib/python3.6/dist-packages/sklearn/externals/six.py:31: DeprecationWarning: The module is deprecated in version 0.21 and will be removed in version 0.23 since we've dropped support for Python 2.7. Please rely on the official version of six (https://pypi.org/project/six/).\n",
            "  \"(https://pypi.org/project/six/).\", DeprecationWarning)\n",
            "\n",
            "WARNING:py.warnings:/usr/local/lib/python3.6/dist-packages/sklearn/externals/six.py:31: DeprecationWarning: The module is deprecated in version 0.21 and will be removed in version 0.23 since we've dropped support for Python 2.7. Please rely on the official version of six (https://pypi.org/project/six/).\n",
            "  \"(https://pypi.org/project/six/).\", DeprecationWarning)\n",
            "\n"
          ],
          "name": "stderr"
        }
      ]
    },
    {
      "cell_type": "code",
      "metadata": {
        "id": "vyS3queA8Lwk",
        "colab_type": "code",
        "colab": {}
      },
      "source": [
        "seed = np.random.RandomState(42)"
      ],
      "execution_count": 0,
      "outputs": []
    },
    {
      "cell_type": "markdown",
      "metadata": {
        "id": "_YE_eLpnczTd",
        "colab_type": "text"
      },
      "source": [
        "## Import dataset"
      ]
    },
    {
      "cell_type": "code",
      "metadata": {
        "colab_type": "code",
        "id": "cAImFPSII6Jk",
        "colab": {}
      },
      "source": [
        "df = pd.read_csv(\"https://www.openml.org/data/get_csv/1587930/php9pgo5r\")\n",
        "data = np.asarray(df)"
      ],
      "execution_count": 0,
      "outputs": []
    },
    {
      "cell_type": "code",
      "metadata": {
        "colab_type": "code",
        "id": "gxXr8xzaI6Ju",
        "colab": {}
      },
      "source": [
        "y = data[:,9]\n",
        "y[y==2] = 0 #convert y values to 1-0"
      ],
      "execution_count": 0,
      "outputs": []
    },
    {
      "cell_type": "code",
      "metadata": {
        "colab_type": "code",
        "id": "nLp1QpfeI6Jx",
        "colab": {}
      },
      "source": [
        "x = data[:,0:8]"
      ],
      "execution_count": 0,
      "outputs": []
    },
    {
      "cell_type": "code",
      "metadata": {
        "id": "xu-SXcFF42Ur",
        "colab_type": "code",
        "colab": {
          "base_uri": "https://localhost:8080/",
          "height": 34
        },
        "outputId": "d3d5f925-a209-40fa-cfd2-8173e1bd68d9"
      },
      "source": [
        "Counter(y)"
      ],
      "execution_count": 9,
      "outputs": [
        {
          "output_type": "execute_result",
          "data": {
            "text/plain": [
              "Counter({0.0: 12, 1.0: 88})"
            ]
          },
          "metadata": {
            "tags": []
          },
          "execution_count": 9
        }
      ]
    },
    {
      "cell_type": "markdown",
      "metadata": {
        "id": "VvEMegCMdP3Y",
        "colab_type": "text"
      },
      "source": [
        "# STEP 1"
      ]
    },
    {
      "cell_type": "code",
      "metadata": {
        "id": "cIXsr9dMVwmm",
        "colab_type": "code",
        "colab": {}
      },
      "source": [
        "# defining results dictionary that will be populated when experiments run\n",
        "res_1 = {}"
      ],
      "execution_count": 0,
      "outputs": []
    },
    {
      "cell_type": "code",
      "metadata": {
        "id": "pgwzg40AaNdN",
        "colab_type": "code",
        "colab": {}
      },
      "source": [
        "# Hyperparameters range\n",
        "lr_lower = 0.01\n",
        "lr_upper = 0.1\n",
        "momentum_lower = 0.1\n",
        "momentum_upper = 0.9"
      ],
      "execution_count": 0,
      "outputs": []
    },
    {
      "cell_type": "markdown",
      "metadata": {
        "id": "1Si4fMy2VZ7B",
        "colab_type": "text"
      },
      "source": [
        "### Configuration Space and Scenario definition"
      ]
    },
    {
      "cell_type": "code",
      "metadata": {
        "id": "M5-2Y2V-wFg-",
        "colab_type": "code",
        "colab": {}
      },
      "source": [
        "# defining learning rate optimization range\n",
        "learn_rate = UniformFloatHyperparameter(\"learning_rate_init\", \n",
        "                                        lower=lr_lower, \n",
        "                                        upper=lr_upper)"
      ],
      "execution_count": 0,
      "outputs": []
    },
    {
      "cell_type": "code",
      "metadata": {
        "id": "ivmAVcTewdId",
        "colab_type": "code",
        "colab": {}
      },
      "source": [
        "# defining momentum rate optimization range\n",
        "momentum = UniformFloatHyperparameter(\"momentum\", \n",
        "                                      lower=momentum_lower, \n",
        "                                      upper=momentum_upper)"
      ],
      "execution_count": 0,
      "outputs": []
    },
    {
      "cell_type": "code",
      "metadata": {
        "id": "zWPWk_gUwfjs",
        "colab_type": "code",
        "colab": {}
      },
      "source": [
        "# Build Configuration Space which defines all parameters and their ranges\n",
        "cs = ConfigurationSpace()"
      ],
      "execution_count": 0,
      "outputs": []
    },
    {
      "cell_type": "code",
      "metadata": {
        "id": "jzRqjzRHxEvJ",
        "colab_type": "code",
        "outputId": "366f55ea-2ef7-4f49-a8ea-89673621c3b4",
        "colab": {
          "base_uri": "https://localhost:8080/",
          "height": 52
        }
      },
      "source": [
        "cs.add_hyperparameters([learn_rate, momentum])"
      ],
      "execution_count": 15,
      "outputs": [
        {
          "output_type": "execute_result",
          "data": {
            "text/plain": [
              "[learning_rate_init, Type: UniformFloat, Range: [0.01, 0.1], Default: 0.055,\n",
              " momentum, Type: UniformFloat, Range: [0.1, 0.9], Default: 0.5]"
            ]
          },
          "metadata": {
            "tags": []
          },
          "execution_count": 15
        }
      ]
    },
    {
      "cell_type": "code",
      "metadata": {
        "id": "mD76mLV6XSXT",
        "colab_type": "code",
        "colab": {}
      },
      "source": [
        "initial_runs = 5\n",
        "further_runs = 20"
      ],
      "execution_count": 0,
      "outputs": []
    },
    {
      "cell_type": "code",
      "metadata": {
        "id": "IN2cjK-KXBzi",
        "colab_type": "code",
        "colab": {}
      },
      "source": [
        "# defining 5 random initial configurations (the same for the different experiments)\n",
        "initial_configs = cs.sample_configuration(size = initial_runs)"
      ],
      "execution_count": 0,
      "outputs": []
    },
    {
      "cell_type": "code",
      "metadata": {
        "id": "JV4kQ1nMxLWa",
        "colab_type": "code",
        "outputId": "b14cc7fc-6825-47af-9ace-c31ee51e8527",
        "colab": {
          "base_uri": "https://localhost:8080/",
          "height": 34
        }
      },
      "source": [
        "# defining Scenario to maximize accuracy\n",
        "scenario = Scenario({\"run_obj\": \"quality\",\n",
        "                     \"runcount-limit\":initial_runs + further_runs,\n",
        "                     \"cs\":cs,\n",
        "                     \"deterministic\":\"true\"\n",
        "                     })"
      ],
      "execution_count": 18,
      "outputs": [
        {
          "output_type": "stream",
          "text": [
            "INFO:smac.utils.io.cmd_reader.CMDReader:Output to smac3-output_2019-12-09_10:49:16_494292\n"
          ],
          "name": "stderr"
        }
      ]
    },
    {
      "cell_type": "markdown",
      "metadata": {
        "id": "Rf-JHgjZwkhZ",
        "colab_type": "text"
      },
      "source": [
        "## Hyperparameter Optimization"
      ]
    },
    {
      "cell_type": "markdown",
      "metadata": {
        "id": "zSrCrHzJaZhY",
        "colab_type": "text"
      },
      "source": [
        "### Evaluation Functions"
      ]
    },
    {
      "cell_type": "code",
      "metadata": {
        "id": "hMyvXrhFWodc",
        "colab_type": "code",
        "colab": {}
      },
      "source": [
        "# plot the evolution of \"best seen\" \n",
        "def plot_bestseen(dic, runs):\n",
        "  x_ax = np.arange(runs)\n",
        "  plt.figure(figsize=(15, 8))\n",
        "  ax = plt.subplot(111)\n",
        "  for alg in dic:\n",
        "    ax.plot(x_ax, dic[alg]['bestseen'], label=alg)\n",
        "  ax.legend(loc='upper center', \n",
        "            bbox_to_anchor=(0.5, -0.05), \n",
        "            shadow=True, \n",
        "            ncol=2)\n",
        "  plt.title('Best Seen')\n",
        "  plt.show()"
      ],
      "execution_count": 0,
      "outputs": []
    },
    {
      "cell_type": "code",
      "metadata": {
        "id": "toYeNExAbo9F",
        "colab_type": "code",
        "colab": {}
      },
      "source": [
        "#Make predictions and return the classification report\n",
        "def CR(incumbent_cfg):\n",
        "  smote = SMOTE(random_state=seed)\n",
        "  mlp = MLPClassifier(hidden_layer_sizes=(4, 2,),\n",
        "                      random_state=seed,\n",
        "                      **incumbent_cfg)\n",
        "  \n",
        "  model_pipeline = make_pipeline(smote, StandardScaler(), mlp)\n",
        "  predictions = cross_val_predict(model_pipeline, x,y, cv =10)\n",
        "  CR = classification_report(y, predictions)\n",
        "  print(CR)"
      ],
      "execution_count": 0,
      "outputs": []
    },
    {
      "cell_type": "markdown",
      "metadata": {
        "id": "87fIQJlhwqEe",
        "colab_type": "text"
      },
      "source": [
        "### Smac Optimization functions"
      ]
    },
    {
      "cell_type": "code",
      "metadata": {
        "id": "uC-BOKwp73x_",
        "colab_type": "code",
        "colab": {}
      },
      "source": [
        "# Function to be optimized\n",
        "def nn_from_cfg(cfg):\n",
        "  smote = SMOTE(random_state=seed)\n",
        "  mlp = MLPClassifier(hidden_layer_sizes=(4, 2,),\n",
        "                      random_state=seed,\n",
        "                      **cfg)\n",
        "  model_pipeline = make_pipeline(smote, StandardScaler(), mlp)\n",
        "  scores = cross_val_score(model_pipeline, x, y, cv=10)\n",
        "  return 1-np.mean(scores)  # Minimize 1-accuracy (maximize accuracy!)"
      ],
      "execution_count": 0,
      "outputs": []
    },
    {
      "cell_type": "code",
      "metadata": {
        "id": "os5dN8z7ymdx",
        "colab_type": "code",
        "colab": {}
      },
      "source": [
        "# Function that run and optimize smac\n",
        "def run_smac(acquisition_function):\n",
        "    smac = SMAC4HPO(scenario=scenario, \n",
        "                   rng=seed,\n",
        "                   tae_runner=nn_from_cfg,\n",
        "                   initial_design_kwargs={'configs': initial_configs},\n",
        "                   acquisition_function=acquisition_function\n",
        "                   )\n",
        "\n",
        "    incumbent = smac.optimize()\n",
        "    bestseen = 1-np.minimum.accumulate(list(\n",
        "        smac.get_runhistory().cost_per_config.values()\n",
        "        ))\n",
        "    # put best configuration and bestseen in results dictionary\n",
        "    res_1[f\"HPO - {acquisition_function.__name__}\"] = {\n",
        "    'best_config': list(incumbent._values.values()),\n",
        "    'bestseen': bestseen\n",
        "    }\n",
        "    return incumbent"
      ],
      "execution_count": 0,
      "outputs": []
    },
    {
      "cell_type": "markdown",
      "metadata": {
        "id": "dhLib0ZayB42",
        "colab_type": "text"
      },
      "source": [
        "### Experiment 1: Expect Input as acquisition function"
      ]
    },
    {
      "cell_type": "code",
      "metadata": {
        "id": "xIeFd7uMx0F-",
        "colab_type": "code",
        "outputId": "5ae28674-105a-4fe3-eda7-0bd66138673e",
        "colab": {
          "base_uri": "https://localhost:8080/",
          "height": 907
        }
      },
      "source": [
        "# run HPO with Expected Input as acquisition function\n",
        "HPO_EI = run_smac(acquisition_function=EI)"
      ],
      "execution_count": 23,
      "outputs": [
        {
          "output_type": "stream",
          "text": [
            "INFO:smac.facade.smac_hpo_facade.SMAC4HPO:Optimizing a deterministic scenario for quality without a tuner timeout - will make SMAC deterministic and only evaluate one configuration per iteration!\n",
            "INFO:smac.initial_design.sobol_design.SobolDesign:Running initial design for 6 configurations\n",
            "INFO:smac.facade.smac_hpo_facade.SMAC4HPO:<class 'smac.facade.smac_hpo_facade.SMAC4HPO'>\n",
            "INFO:smac.intensification.intensification.Intensifier:Challenger (0.3603) is better than incumbent (0.3865) on 1 runs.\n",
            "INFO:smac.intensification.intensification.Intensifier:Changes in incumbent:\n",
            "INFO:smac.intensification.intensification.Intensifier:  learning_rate_init : 0.02228266487193023 -> 0.09517008174756114\n",
            "INFO:smac.intensification.intensification.Intensifier:  momentum : 0.4970542653449348 -> 0.21629677511966286\n",
            "INFO:smac.intensification.intensification.Intensifier:Challenger (0.2999) is better than incumbent (0.3603) on 1 runs.\n",
            "INFO:smac.intensification.intensification.Intensifier:Changes in incumbent:\n",
            "INFO:smac.intensification.intensification.Intensifier:  learning_rate_init : 0.09517008174756114 -> 0.08405348373596616\n",
            "INFO:smac.intensification.intensification.Intensifier:  momentum : 0.21629677511966286 -> 0.8613118285169236\n",
            "INFO:smac.intensification.intensification.Intensifier:Updated estimated cost of incumbent on 1 runs: 0.2999\n",
            "INFO:smac.intensification.intensification.Intensifier:Challenger (0.1488) is better than incumbent (0.2999) on 1 runs.\n",
            "INFO:smac.intensification.intensification.Intensifier:Changes in incumbent:\n",
            "INFO:smac.intensification.intensification.Intensifier:  learning_rate_init : 0.08405348373596616 -> 0.07551762187944336\n",
            "INFO:smac.intensification.intensification.Intensifier:  momentum : 0.8613118285169236 -> 0.858786128864302\n",
            "INFO:smac.intensification.intensification.Intensifier:Updated estimated cost of incumbent on 1 runs: 0.1488\n",
            "INFO:smac.intensification.intensification.Intensifier:Updated estimated cost of incumbent on 1 runs: 0.1488\n",
            "INFO:smac.intensification.intensification.Intensifier:Updated estimated cost of incumbent on 1 runs: 0.1488\n",
            "INFO:smac.intensification.intensification.Intensifier:Updated estimated cost of incumbent on 1 runs: 0.1488\n",
            "INFO:smac.intensification.intensification.Intensifier:Updated estimated cost of incumbent on 1 runs: 0.1488\n",
            "INFO:smac.intensification.intensification.Intensifier:Updated estimated cost of incumbent on 1 runs: 0.1488\n",
            "INFO:smac.intensification.intensification.Intensifier:Updated estimated cost of incumbent on 1 runs: 0.1488\n",
            "INFO:smac.intensification.intensification.Intensifier:Updated estimated cost of incumbent on 1 runs: 0.1488\n",
            "INFO:smac.intensification.intensification.Intensifier:Updated estimated cost of incumbent on 1 runs: 0.1488\n",
            "INFO:smac.intensification.intensification.Intensifier:Updated estimated cost of incumbent on 1 runs: 0.1488\n",
            "INFO:smac.intensification.intensification.Intensifier:Updated estimated cost of incumbent on 1 runs: 0.1488\n",
            "INFO:smac.intensification.intensification.Intensifier:Updated estimated cost of incumbent on 1 runs: 0.1488\n",
            "INFO:smac.intensification.intensification.Intensifier:Updated estimated cost of incumbent on 1 runs: 0.1488\n",
            "INFO:smac.intensification.intensification.Intensifier:Updated estimated cost of incumbent on 1 runs: 0.1488\n",
            "INFO:smac.intensification.intensification.Intensifier:Updated estimated cost of incumbent on 1 runs: 0.1488\n",
            "INFO:smac.intensification.intensification.Intensifier:Updated estimated cost of incumbent on 1 runs: 0.1488\n",
            "INFO:smac.intensification.intensification.Intensifier:Updated estimated cost of incumbent on 1 runs: 0.1488\n",
            "INFO:smac.intensification.intensification.Intensifier:Updated estimated cost of incumbent on 1 runs: 0.1488\n",
            "INFO:smac.intensification.intensification.Intensifier:Updated estimated cost of incumbent on 1 runs: 0.1488\n",
            "INFO:smac.intensification.intensification.Intensifier:Updated estimated cost of incumbent on 1 runs: 0.1488\n",
            "INFO:smac.stats.stats.Stats:##########################################################\n",
            "INFO:smac.stats.stats.Stats:Statistics:\n",
            "INFO:smac.stats.stats.Stats:#Incumbent changed: 3\n",
            "INFO:smac.stats.stats.Stats:#Target algorithm runs: 25 / 25.0\n",
            "INFO:smac.stats.stats.Stats:#Configurations: 25\n",
            "INFO:smac.stats.stats.Stats:Used wallclock time: 26.90 / inf sec \n",
            "INFO:smac.stats.stats.Stats:Used target algorithm runtime: 16.64 / inf sec\n",
            "INFO:smac.stats.stats.Stats:##########################################################\n",
            "INFO:smac.facade.smac_hpo_facade.SMAC4HPO:Final Incumbent: Configuration:\n",
            "  learning_rate_init, Value: 0.07551762187944336\n",
            "  momentum, Value: 0.858786128864302\n",
            "\n",
            "INFO:smac.facade.smac_hpo_facade.SMAC4HPO:Estimated cost of incumbent: 0.148788\n"
          ],
          "name": "stderr"
        }
      ]
    },
    {
      "cell_type": "markdown",
      "metadata": {
        "id": "AvXkzeVOz8Vg",
        "colab_type": "text"
      },
      "source": [
        "### Experiment 2: Lower Confidence Bound as acquisition function"
      ]
    },
    {
      "cell_type": "code",
      "metadata": {
        "id": "qxROEBzczcNJ",
        "colab_type": "code",
        "outputId": "60ad0ac1-b443-41f9-d68f-f9ca4451a29f",
        "colab": {
          "base_uri": "https://localhost:8080/",
          "height": 1000
        }
      },
      "source": [
        "# run HPO with LowerConfidenceBound as acquisition function\n",
        "HPO_LCB = run_smac(acquisition_function=LCB)"
      ],
      "execution_count": 24,
      "outputs": [
        {
          "output_type": "stream",
          "text": [
            "INFO:smac.facade.smac_hpo_facade.SMAC4HPO:Optimizing a deterministic scenario for quality without a tuner timeout - will make SMAC deterministic and only evaluate one configuration per iteration!\n",
            "INFO:smac.initial_design.sobol_design.SobolDesign:Running initial design for 6 configurations\n",
            "INFO:smac.facade.smac_hpo_facade.SMAC4HPO:<class 'smac.facade.smac_hpo_facade.SMAC4HPO'>\n",
            "INFO:smac.intensification.intensification.Intensifier:Challenger (0.2533) is better than incumbent (0.2956) on 1 runs.\n",
            "INFO:smac.intensification.intensification.Intensifier:Changes in incumbent:\n",
            "INFO:smac.intensification.intensification.Intensifier:  learning_rate_init : 0.02228266487193023 -> 0.027566985550730408\n",
            "INFO:smac.intensification.intensification.Intensifier:  momentum : 0.4970542653449348 -> 0.517048341649604\n",
            "INFO:smac.intensification.intensification.Intensifier:Challenger (0.2310) is better than incumbent (0.2533) on 1 runs.\n",
            "INFO:smac.intensification.intensification.Intensifier:Changes in incumbent:\n",
            "INFO:smac.intensification.intensification.Intensifier:  learning_rate_init : 0.027566985550730408 -> 0.08405348373596616\n",
            "INFO:smac.intensification.intensification.Intensifier:  momentum : 0.517048341649604 -> 0.8613118285169236\n",
            "INFO:smac.intensification.intensification.Intensifier:Updated estimated cost of incumbent on 1 runs: 0.2310\n",
            "INFO:smac.intensification.intensification.Intensifier:Updated estimated cost of incumbent on 1 runs: 0.2310\n",
            "INFO:smac.intensification.intensification.Intensifier:Updated estimated cost of incumbent on 1 runs: 0.2310\n",
            "INFO:smac.intensification.intensification.Intensifier:Challenger (0.2244) is better than incumbent (0.2310) on 1 runs.\n",
            "INFO:smac.intensification.intensification.Intensifier:Changes in incumbent:\n",
            "INFO:smac.intensification.intensification.Intensifier:  learning_rate_init : 0.08405348373596616 -> 0.086371181463019\n",
            "INFO:smac.intensification.intensification.Intensifier:  momentum : 0.8613118285169236 -> 0.8434793000597782\n",
            "INFO:smac.intensification.intensification.Intensifier:Updated estimated cost of incumbent on 1 runs: 0.2244\n",
            "INFO:smac.intensification.intensification.Intensifier:Updated estimated cost of incumbent on 1 runs: 0.2244\n",
            "INFO:smac.intensification.intensification.Intensifier:Updated estimated cost of incumbent on 1 runs: 0.2244\n",
            "INFO:smac.intensification.intensification.Intensifier:Challenger (0.1910) is better than incumbent (0.2244) on 1 runs.\n",
            "INFO:smac.intensification.intensification.Intensifier:Changes in incumbent:\n",
            "INFO:smac.intensification.intensification.Intensifier:  learning_rate_init : 0.086371181463019 -> 0.09491205420323184\n",
            "INFO:smac.intensification.intensification.Intensifier:  momentum : 0.8434793000597782 -> 0.8411813053997281\n",
            "INFO:smac.intensification.intensification.Intensifier:Updated estimated cost of incumbent on 1 runs: 0.1910\n",
            "INFO:smac.intensification.intensification.Intensifier:Updated estimated cost of incumbent on 1 runs: 0.1910\n",
            "INFO:smac.intensification.intensification.Intensifier:Updated estimated cost of incumbent on 1 runs: 0.1910\n",
            "INFO:smac.intensification.intensification.Intensifier:Challenger (0.1599) is better than incumbent (0.1910) on 1 runs.\n",
            "INFO:smac.intensification.intensification.Intensifier:Changes in incumbent:\n",
            "INFO:smac.intensification.intensification.Intensifier:  learning_rate_init : 0.09491205420323184 -> 0.0849825302406683\n",
            "INFO:smac.intensification.intensification.Intensifier:  momentum : 0.8411813053997281 -> 0.48101940620920736\n",
            "INFO:smac.intensification.intensification.Intensifier:Updated estimated cost of incumbent on 1 runs: 0.1599\n",
            "INFO:smac.intensification.intensification.Intensifier:Updated estimated cost of incumbent on 1 runs: 0.1599\n",
            "INFO:smac.intensification.intensification.Intensifier:Updated estimated cost of incumbent on 1 runs: 0.1599\n",
            "INFO:smac.intensification.intensification.Intensifier:Updated estimated cost of incumbent on 1 runs: 0.1599\n",
            "INFO:smac.intensification.intensification.Intensifier:Updated estimated cost of incumbent on 1 runs: 0.1599\n",
            "INFO:smac.intensification.intensification.Intensifier:Updated estimated cost of incumbent on 1 runs: 0.1599\n",
            "INFO:smac.intensification.intensification.Intensifier:Updated estimated cost of incumbent on 1 runs: 0.1599\n",
            "INFO:smac.intensification.intensification.Intensifier:Challenger (0.1519) is better than incumbent (0.1599) on 1 runs.\n",
            "INFO:smac.intensification.intensification.Intensifier:Changes in incumbent:\n",
            "INFO:smac.intensification.intensification.Intensifier:  learning_rate_init : 0.0849825302406683 -> 0.02255845043217998\n",
            "INFO:smac.intensification.intensification.Intensifier:  momentum : 0.48101940620920736 -> 0.481179309312069\n",
            "INFO:smac.intensification.intensification.Intensifier:Updated estimated cost of incumbent on 1 runs: 0.1519\n",
            "INFO:smac.intensification.intensification.Intensifier:Updated estimated cost of incumbent on 1 runs: 0.1519\n",
            "INFO:smac.intensification.intensification.Intensifier:Updated estimated cost of incumbent on 1 runs: 0.1519\n",
            "INFO:smac.intensification.intensification.Intensifier:Updated estimated cost of incumbent on 1 runs: 0.1519\n",
            "INFO:smac.intensification.intensification.Intensifier:Updated estimated cost of incumbent on 1 runs: 0.1519\n",
            "INFO:smac.stats.stats.Stats:##########################################################\n",
            "INFO:smac.stats.stats.Stats:Statistics:\n",
            "INFO:smac.stats.stats.Stats:#Incumbent changed: 6\n",
            "INFO:smac.stats.stats.Stats:#Target algorithm runs: 25 / 25.0\n",
            "INFO:smac.stats.stats.Stats:#Configurations: 25\n",
            "INFO:smac.stats.stats.Stats:Used wallclock time: 26.16 / inf sec \n",
            "INFO:smac.stats.stats.Stats:Used target algorithm runtime: 16.30 / inf sec\n",
            "INFO:smac.stats.stats.Stats:##########################################################\n",
            "INFO:smac.facade.smac_hpo_facade.SMAC4HPO:Final Incumbent: Configuration:\n",
            "  learning_rate_init, Value: 0.02255845043217998\n",
            "  momentum, Value: 0.481179309312069\n",
            "\n",
            "INFO:smac.facade.smac_hpo_facade.SMAC4HPO:Estimated cost of incumbent: 0.151919\n"
          ],
          "name": "stderr"
        }
      ]
    },
    {
      "cell_type": "markdown",
      "metadata": {
        "id": "sFGyby-hIb2L",
        "colab_type": "text"
      },
      "source": [
        "## Grid Search vs Random Search"
      ]
    },
    {
      "cell_type": "code",
      "metadata": {
        "id": "7Mp17s1kIbZM",
        "colab_type": "code",
        "colab": {}
      },
      "source": [
        "#Classifier RS and GS\n",
        "smote = SMOTE(random_state=seed)\n",
        "\n",
        "mlp = MLPClassifier(hidden_layer_sizes=(4,2,),\n",
        "                    random_state=seed\n",
        "                    )\n",
        "\n",
        "model_pipeline = Pipeline([('smote', smote),\n",
        "                           ('scaler',StandardScaler()), \n",
        "                           ('mlp', mlp)],\n",
        "                          verbose=True)"
      ],
      "execution_count": 0,
      "outputs": []
    },
    {
      "cell_type": "markdown",
      "metadata": {
        "id": "DWLqPcOFgLgM",
        "colab_type": "text"
      },
      "source": [
        "### Grid Search"
      ]
    },
    {
      "cell_type": "code",
      "metadata": {
        "id": "PawiMrPY22ms",
        "colab_type": "code",
        "colab": {}
      },
      "source": [
        "lr_range = np.linspace(lr_lower, lr_upper, 5)\n",
        "momentum_range = np.linspace(momentum_lower, momentum_upper, 5)\n",
        "\n",
        "grid_params = {'mlp__learning_rate_init': lr_range,\n",
        "               'mlp__momentum': momentum_range}\n",
        "\n",
        "n_folds = 10  #10 folds CV"
      ],
      "execution_count": 0,
      "outputs": []
    },
    {
      "cell_type": "code",
      "metadata": {
        "id": "lkqrNB7JIbKC",
        "colab_type": "code",
        "colab": {}
      },
      "source": [
        "grid_search = GridSearchCV(estimator=model_pipeline,\n",
        "                  param_grid=grid_params,\n",
        "                  cv=10,\n",
        "                  verbose=1)"
      ],
      "execution_count": 0,
      "outputs": []
    },
    {
      "cell_type": "code",
      "metadata": {
        "id": "tlTkcHFxKa2T",
        "colab_type": "code",
        "outputId": "64443cd3-a6e0-41ae-c44f-f8120934eb79",
        "colab": {
          "base_uri": "https://localhost:8080/",
          "height": 196
        }
      },
      "source": [
        "grid_search_result = grid_search.fit(x, y) "
      ],
      "execution_count": 28,
      "outputs": [
        {
          "output_type": "stream",
          "text": [
            "[Parallel(n_jobs=1)]: Using backend SequentialBackend with 1 concurrent workers.\n"
          ],
          "name": "stderr"
        },
        {
          "output_type": "stream",
          "text": [
            "Fitting 10 folds for each of 25 candidates, totalling 250 fits\n"
          ],
          "name": "stdout"
        },
        {
          "output_type": "stream",
          "text": [
            "[Parallel(n_jobs=1)]: Done 250 out of 250 | elapsed:   15.3s finished\n",
            "/usr/local/lib/python3.6/dist-packages/sklearn/model_selection/_search.py:814: DeprecationWarning: The default of the `iid` parameter will change from True to False in version 0.22 and will be removed in 0.24. This will change numeric results when test-set sizes are unequal.\n",
            "  DeprecationWarning)\n",
            "\n",
            "WARNING:py.warnings:/usr/local/lib/python3.6/dist-packages/sklearn/model_selection/_search.py:814: DeprecationWarning: The default of the `iid` parameter will change from True to False in version 0.22 and will be removed in 0.24. This will change numeric results when test-set sizes are unequal.\n",
            "  DeprecationWarning)\n",
            "\n"
          ],
          "name": "stderr"
        }
      ]
    },
    {
      "cell_type": "code",
      "metadata": {
        "id": "Tm0g95krXUIf",
        "colab_type": "code",
        "colab": {}
      },
      "source": [
        "prog_gs = grid_search_result.cv_results_['mean_test_score']\n",
        "best_gs = list(grid_search_result.best_params_.values())\n",
        "bestseen_gs = np.maximum.accumulate(prog_gs)\n",
        "\n",
        "res_1['GRID SEARCH'] = {\n",
        "    'best_config': best_gs,\n",
        "    'bestseen': bestseen_gs\n",
        "}"
      ],
      "execution_count": 0,
      "outputs": []
    },
    {
      "cell_type": "code",
      "metadata": {
        "id": "2bskNl6Z3g8u",
        "colab_type": "code",
        "outputId": "72df5941-d65f-4db4-a331-08a957e3a6e5",
        "colab": {
          "base_uri": "https://localhost:8080/",
          "height": 497
        }
      },
      "source": [
        "# Grid Seach Heat Map\n",
        "prog_gs = prog_gs.reshape(len(lr_range),len(momentum_range))\n",
        "plot_gs = plt.figure(figsize=(7, 8))\n",
        "plt.subplots_adjust(left=.2, right=0.95, bottom=0.15, top=0.95)\n",
        "plt.imshow(prog_gs, interpolation='nearest', cmap=plt.cm.hot)\n",
        "plt.xlabel('learning rate')\n",
        "plt.ylabel('momentum')\n",
        "plt.colorbar()\n",
        "plt.xticks(np.arange(len(lr_range)), lr_range)\n",
        "plt.yticks(np.arange(len(momentum_range)), momentum_range)\n",
        "plt.title('Grid Search Accuracy Score')\n",
        "plt.show()\n"
      ],
      "execution_count": 30,
      "outputs": [
        {
          "output_type": "display_data",
          "data": {
            "image/png": "[encoded data removed]",
            "text/plain": [
              "<Figure size 504x576 with 2 Axes>"
            ]
          },
          "metadata": {
            "tags": []
          }
        }
      ]
    },
    {
      "cell_type": "markdown",
      "metadata": {
        "id": "CUusgFB3gOTW",
        "colab_type": "text"
      },
      "source": [
        "### Random Search"
      ]
    },
    {
      "cell_type": "code",
      "metadata": {
        "id": "G30_4GHWa7tY",
        "colab_type": "code",
        "colab": {}
      },
      "source": [
        "lr_dist = uniform(lr_lower, lr_upper - lr_lower)\n",
        "lr_dist.random_state = seed\n",
        "\n",
        "mom_dist = uniform(momentum_lower, momentum_upper - momentum_lower)\n",
        "mom_dist.random_state = seed\n",
        "\n",
        "random_params = {\n",
        "    'mlp__learning_rate_init': lr_dist,\n",
        "    'mlp__momentum': mom_dist\n",
        "    }"
      ],
      "execution_count": 0,
      "outputs": []
    },
    {
      "cell_type": "code",
      "metadata": {
        "id": "JcIFwOyuV0Ah",
        "colab_type": "code",
        "colab": {}
      },
      "source": [
        "random_search = RandomizedSearchCV(estimator=model_pipeline,\n",
        "                              param_distributions=random_params,\n",
        "                              n_iter=25,\n",
        "                              cv=10,\n",
        "                              verbose=1,\n",
        "                              random_state=seed)"
      ],
      "execution_count": 0,
      "outputs": []
    },
    {
      "cell_type": "code",
      "metadata": {
        "id": "cgUUtPtyWB7x",
        "colab_type": "code",
        "outputId": "6194fb97-37bf-4857-b7a4-b50c1f9dffcd",
        "colab": {
          "base_uri": "https://localhost:8080/",
          "height": 196
        }
      },
      "source": [
        "random_search_result = random_search.fit(x, y) "
      ],
      "execution_count": 33,
      "outputs": [
        {
          "output_type": "stream",
          "text": [
            "Fitting 10 folds for each of 25 candidates, totalling 250 fits\n"
          ],
          "name": "stdout"
        },
        {
          "output_type": "stream",
          "text": [
            "[Parallel(n_jobs=1)]: Using backend SequentialBackend with 1 concurrent workers.\n",
            "[Parallel(n_jobs=1)]: Done 250 out of 250 | elapsed:   15.4s finished\n",
            "/usr/local/lib/python3.6/dist-packages/sklearn/model_selection/_search.py:814: DeprecationWarning: The default of the `iid` parameter will change from True to False in version 0.22 and will be removed in 0.24. This will change numeric results when test-set sizes are unequal.\n",
            "  DeprecationWarning)\n",
            "\n",
            "WARNING:py.warnings:/usr/local/lib/python3.6/dist-packages/sklearn/model_selection/_search.py:814: DeprecationWarning: The default of the `iid` parameter will change from True to False in version 0.22 and will be removed in 0.24. This will change numeric results when test-set sizes are unequal.\n",
            "  DeprecationWarning)\n",
            "\n"
          ],
          "name": "stderr"
        }
      ]
    },
    {
      "cell_type": "code",
      "metadata": {
        "id": "TenPnUB2Xv45",
        "colab_type": "code",
        "colab": {}
      },
      "source": [
        "prog_rs = random_search_result.cv_results_['mean_test_score']\n",
        "best_rs = list(random_search_result.best_params_.values())\n",
        "bestseen_rs = np.maximum.accumulate(prog_rs)\n",
        "\n",
        "res_1['RANDOM SEARCH'] = {\n",
        "    'best_config': best_rs,\n",
        "    'bestseen': bestseen_rs\n",
        "}"
      ],
      "execution_count": 0,
      "outputs": []
    },
    {
      "cell_type": "code",
      "metadata": {
        "id": "7PaiWpvX5eSF",
        "colab_type": "code",
        "outputId": "bf5e5a98-f8a6-4ef2-ca67-50f7b4af3dae",
        "colab": {
          "base_uri": "https://localhost:8080/",
          "height": 492
        }
      },
      "source": [
        "# Random Search Heat Map\n",
        "prog_rs = prog_rs.reshape(len(lr_range),len(momentum_range))\n",
        "\n",
        "plot_rs = plt.figure(figsize=(7, 8))\n",
        "plt.subplots_adjust(left=.2, right=0.95, bottom=0.15, top=0.95)\n",
        "plt.imshow(prog_rs, interpolation='nearest', cmap=plt.cm.hot)\n",
        "plt.xlabel('learning rate')\n",
        "plt.ylabel('momentum')\n",
        "plt.colorbar()\n",
        "plt.xticks(np.arange(len(lr_range)), lr_range)\n",
        "plt.yticks(np.arange(len(momentum_range)), momentum_range)\n",
        "plt.title('Random Search Accuracy Score')\n",
        "plt.show()"
      ],
      "execution_count": 35,
      "outputs": [
        {
          "output_type": "display_data",
          "data": {
            "image/png": "[encoded data removed]",
            "text/plain": [
              "<Figure size 504x576 with 2 Axes>"
            ]
          },
          "metadata": {
            "tags": []
          }
        }
      ]
    },
    {
      "cell_type": "markdown",
      "metadata": {
        "id": "9TUdvpP9gRMn",
        "colab_type": "text"
      },
      "source": [
        "## Best Parameters and Performances comparison "
      ]
    },
    {
      "cell_type": "markdown",
      "metadata": {
        "id": "XyRUFry_daAc",
        "colab_type": "text"
      },
      "source": [
        "### Configurations comparison"
      ]
    },
    {
      "cell_type": "code",
      "metadata": {
        "id": "-LXQiVn1aCdk",
        "colab_type": "code",
        "colab": {}
      },
      "source": [
        "best_configurations = []\n",
        "for alg in res_1:\n",
        "  best_configurations.append(res_1[alg]['best_config'])\n",
        "best_configurations = np.asarray(best_configurations)"
      ],
      "execution_count": 0,
      "outputs": []
    },
    {
      "cell_type": "code",
      "metadata": {
        "id": "gT8M0ZT-YVtY",
        "colab_type": "code",
        "outputId": "277edd03-2010-4cc8-d149-67f297256b37",
        "colab": {
          "base_uri": "https://localhost:8080/",
          "height": 107
        }
      },
      "source": [
        "best_configurations = pd.DataFrame([best_configurations[:,0], best_configurations[:,1]],\n",
        "                                   columns=['HPO_EI', 'HPO_LCB', 'GS', 'RS'], \n",
        "                                   index=['Learning Rate', 'Momentum'])\n",
        "best_configurations"
      ],
      "execution_count": 37,
      "outputs": [
        {
          "output_type": "execute_result",
          "data": {
            "text/html": [
              "<div>\n",
              "<style scoped>\n",
              "    .dataframe tbody tr th:only-of-type {\n",
              "        vertical-align: middle;\n",
              "    }\n",
              "\n",
              "    .dataframe tbody tr th {\n",
              "        vertical-align: top;\n",
              "    }\n",
              "\n",
              "    .dataframe thead th {\n",
              "        text-align: right;\n",
              "    }\n",
              "</style>\n",
              "<table border=\"1\" class=\"dataframe\">\n",
              "  <thead>\n",
              "    <tr style=\"text-align: right;\">\n",
              "      <th></th>\n",
              "      <th>HPO_EI</th>\n",
              "      <th>HPO_LCB</th>\n",
              "      <th>GS</th>\n",
              "      <th>RS</th>\n",
              "    </tr>\n",
              "  </thead>\n",
              "  <tbody>\n",
              "    <tr>\n",
              "      <th>Learning Rate</th>\n",
              "      <td>0.075518</td>\n",
              "      <td>0.022558</td>\n",
              "      <td>0.1</td>\n",
              "      <td>0.094328</td>\n",
              "    </tr>\n",
              "    <tr>\n",
              "      <th>Momentum</th>\n",
              "      <td>0.858786</td>\n",
              "      <td>0.481179</td>\n",
              "      <td>0.1</td>\n",
              "      <td>0.515128</td>\n",
              "    </tr>\n",
              "  </tbody>\n",
              "</table>\n",
              "</div>"
            ],
            "text/plain": [
              "                 HPO_EI   HPO_LCB   GS        RS\n",
              "Learning Rate  0.075518  0.022558  0.1  0.094328\n",
              "Momentum       0.858786  0.481179  0.1  0.515128"
            ]
          },
          "metadata": {
            "tags": []
          },
          "execution_count": 37
        }
      ]
    },
    {
      "cell_type": "markdown",
      "metadata": {
        "id": "CPqRr0Yqdp7x",
        "colab_type": "text"
      },
      "source": [
        "### Performances comparison"
      ]
    },
    {
      "cell_type": "code",
      "metadata": {
        "id": "Wpx1x2BeZvfH",
        "colab_type": "code",
        "outputId": "8b9ab96e-8c25-41c2-80a8-b3a3efbb6c1f",
        "colab": {
          "base_uri": "https://localhost:8080/",
          "height": 176
        }
      },
      "source": [
        "# Classification Report EI\n",
        "CR_EI = CR(HPO_EI)"
      ],
      "execution_count": 38,
      "outputs": [
        {
          "output_type": "stream",
          "text": [
            "              precision    recall  f1-score   support\n",
            "\n",
            "         0.0       0.14      0.33      0.20        12\n",
            "         1.0       0.89      0.73      0.80        88\n",
            "\n",
            "    accuracy                           0.68       100\n",
            "   macro avg       0.52      0.53      0.50       100\n",
            "weighted avg       0.80      0.68      0.73       100\n",
            "\n"
          ],
          "name": "stdout"
        }
      ]
    },
    {
      "cell_type": "code",
      "metadata": {
        "id": "RmtYX4GBdk4y",
        "colab_type": "code",
        "outputId": "ac1d2df7-b11d-43bf-a88a-8d778e66a0fc",
        "colab": {
          "base_uri": "https://localhost:8080/",
          "height": 176
        }
      },
      "source": [
        "# Classification Report LCB\n",
        "CR_LCB = CR(HPO_LCB)"
      ],
      "execution_count": 39,
      "outputs": [
        {
          "output_type": "stream",
          "text": [
            "              precision    recall  f1-score   support\n",
            "\n",
            "         0.0       0.24      0.42      0.30        12\n",
            "         1.0       0.91      0.82      0.86        88\n",
            "\n",
            "    accuracy                           0.77       100\n",
            "   macro avg       0.57      0.62      0.58       100\n",
            "weighted avg       0.83      0.77      0.80       100\n",
            "\n"
          ],
          "name": "stdout"
        }
      ]
    },
    {
      "cell_type": "code",
      "metadata": {
        "id": "lUfd9BNbsl1X",
        "colab_type": "code",
        "outputId": "b823e17d-4a9d-4c92-943e-5f18c7674b95",
        "colab": {
          "base_uri": "https://localhost:8080/",
          "height": 176
        }
      },
      "source": [
        "# Classification report Grid Search\n",
        "config_GS = best_configurations.GS # GS best Configs\n",
        "config_GS ={'learning_rate_init': config_GS[0],\n",
        "            'momentum': config_GS[1]} \n",
        "\n",
        "CR_GS = CR(config_GS)"
      ],
      "execution_count": 40,
      "outputs": [
        {
          "output_type": "stream",
          "text": [
            "              precision    recall  f1-score   support\n",
            "\n",
            "         0.0       0.16      0.33      0.22        12\n",
            "         1.0       0.89      0.76      0.82        88\n",
            "\n",
            "    accuracy                           0.71       100\n",
            "   macro avg       0.53      0.55      0.52       100\n",
            "weighted avg       0.81      0.71      0.75       100\n",
            "\n"
          ],
          "name": "stdout"
        }
      ]
    },
    {
      "cell_type": "code",
      "metadata": {
        "id": "KbkdOZAhs_-f",
        "colab_type": "code",
        "outputId": "93ca417a-c2cf-42ca-f9c4-87ae003d9fb4",
        "colab": {
          "base_uri": "https://localhost:8080/",
          "height": 176
        }
      },
      "source": [
        "# Classification report Random Search\n",
        "config_RS = best_configurations.RS # RS best Configs\n",
        "config_RS ={'learning_rate_init': config_RS[0],\n",
        "            'momentum': config_RS[1]} \n",
        "\n",
        "CR_RS = CR(config_RS)"
      ],
      "execution_count": 41,
      "outputs": [
        {
          "output_type": "stream",
          "text": [
            "              precision    recall  f1-score   support\n",
            "\n",
            "         0.0       0.16      0.33      0.22        12\n",
            "         1.0       0.89      0.76      0.82        88\n",
            "\n",
            "    accuracy                           0.71       100\n",
            "   macro avg       0.53      0.55      0.52       100\n",
            "weighted avg       0.81      0.71      0.75       100\n",
            "\n"
          ],
          "name": "stdout"
        }
      ]
    },
    {
      "cell_type": "markdown",
      "metadata": {
        "id": "bpgh_h6qdsyx",
        "colab_type": "text"
      },
      "source": [
        "### Best seen evolution"
      ]
    },
    {
      "cell_type": "code",
      "metadata": {
        "id": "5gKcbT0TdvUJ",
        "colab_type": "code",
        "outputId": "c03b99f5-de16-40a5-dc44-b6d2ed921c5f",
        "colab": {
          "base_uri": "https://localhost:8080/",
          "height": 542
        }
      },
      "source": [
        "plot_bestseen(res_1, 25)"
      ],
      "execution_count": 42,
      "outputs": [
        {
          "output_type": "display_data",
          "data": {
            "image/png": "[encoded data removed]",
            "text/plain": [
              "<Figure size 1080x576 with 1 Axes>"
            ]
          },
          "metadata": {
            "tags": []
          }
        }
      ]
    },
    {
      "cell_type": "markdown",
      "metadata": {
        "id": "HSgLgNw9CDwx",
        "colab_type": "text"
      },
      "source": [
        "# STEP 2"
      ]
    },
    {
      "cell_type": "code",
      "metadata": {
        "id": "MXLEM7n3eInX",
        "colab_type": "code",
        "colab": {}
      },
      "source": [
        "# defining results dictionary that will be populated when experiments run\n",
        "res_2 = {}"
      ],
      "execution_count": 0,
      "outputs": []
    },
    {
      "cell_type": "markdown",
      "metadata": {
        "id": "Y-1wegIh8dhc",
        "colab_type": "text"
      },
      "source": [
        "### Configuration Space and Scenario definition"
      ]
    },
    {
      "cell_type": "code",
      "metadata": {
        "colab_type": "code",
        "id": "Mvars1g_fHTu",
        "colab": {}
      },
      "source": [
        "# defining learning rate optimization range\n",
        "learn_rate = UniformFloatHyperparameter(\"learning_rate_init\", \n",
        "                                        lower=lr_lower, \n",
        "                                        upper=lr_upper)"
      ],
      "execution_count": 0,
      "outputs": []
    },
    {
      "cell_type": "code",
      "metadata": {
        "colab_type": "code",
        "id": "NRsasdfOfHTz",
        "colab": {}
      },
      "source": [
        "# defining momentum rate optimization range\n",
        "momentum = UniformFloatHyperparameter(\"momentum\", \n",
        "                                      lower=momentum_lower, \n",
        "                                      upper=momentum_upper)"
      ],
      "execution_count": 0,
      "outputs": []
    },
    {
      "cell_type": "code",
      "metadata": {
        "id": "j-8bymyq8H3p",
        "colab_type": "code",
        "colab": {}
      },
      "source": [
        "# defining first layer neurons optimization range\n",
        "neurons_1_layer = UniformIntegerHyperparameter(\"neurons_1\", 1,5)"
      ],
      "execution_count": 0,
      "outputs": []
    },
    {
      "cell_type": "code",
      "metadata": {
        "id": "JEZYsJtLJh3f",
        "colab_type": "code",
        "colab": {}
      },
      "source": [
        "# defining second layer neurons optimization range\n",
        "neurons_2_layer = UniformIntegerHyperparameter(\"neurons_2\", 1,5)"
      ],
      "execution_count": 0,
      "outputs": []
    },
    {
      "cell_type": "code",
      "metadata": {
        "colab_type": "code",
        "id": "hWsnmKBEanF0",
        "colab": {}
      },
      "source": [
        "# Build Configuration Space which defines all parameters and their ranges\n",
        "cs_step_2 = ConfigurationSpace()"
      ],
      "execution_count": 0,
      "outputs": []
    },
    {
      "cell_type": "code",
      "metadata": {
        "colab_type": "code",
        "id": "Nefg1-QRanF2",
        "outputId": "be1f0ee2-4fd1-45ba-ec3e-7870f942fc23",
        "colab": {
          "base_uri": "https://localhost:8080/",
          "height": 87
        }
      },
      "source": [
        "cs_step_2.add_hyperparameters([learn_rate, momentum, neurons_1_layer, neurons_2_layer])"
      ],
      "execution_count": 49,
      "outputs": [
        {
          "output_type": "execute_result",
          "data": {
            "text/plain": [
              "[learning_rate_init, Type: UniformFloat, Range: [0.01, 0.1], Default: 0.055,\n",
              " momentum, Type: UniformFloat, Range: [0.1, 0.9], Default: 0.5,\n",
              " neurons_1, Type: UniformInteger, Range: [1, 5], Default: 3,\n",
              " neurons_2, Type: UniformInteger, Range: [1, 5], Default: 3]"
            ]
          },
          "metadata": {
            "tags": []
          },
          "execution_count": 49
        }
      ]
    },
    {
      "cell_type": "code",
      "metadata": {
        "id": "fXYjD5ktg0qG",
        "colab_type": "code",
        "colab": {}
      },
      "source": [
        "initial_runs_2 = 10\n",
        "further_runs_2 = 100"
      ],
      "execution_count": 0,
      "outputs": []
    },
    {
      "cell_type": "code",
      "metadata": {
        "id": "ihAqamqNfkvG",
        "colab_type": "code",
        "colab": {}
      },
      "source": [
        "initial_configs_2 = cs_step_2.sample_configuration(size = initial_runs_2)"
      ],
      "execution_count": 0,
      "outputs": []
    },
    {
      "cell_type": "code",
      "metadata": {
        "colab_type": "code",
        "id": "xRlC09zQanF5",
        "outputId": "c1b08267-0473-433e-c2ed-df40fe6498be",
        "colab": {
          "base_uri": "https://localhost:8080/",
          "height": 34
        }
      },
      "source": [
        "scenario_step_2 = Scenario({\"run_obj\": \"quality\",\n",
        "                     \"runcount-limit\":initial_runs_2 + further_runs_2,\n",
        "                     \"cs\":cs_step_2,\n",
        "                     \"deterministic\":\"true\"\n",
        "                     })"
      ],
      "execution_count": 52,
      "outputs": [
        {
          "output_type": "stream",
          "text": [
            "INFO:smac.utils.io.cmd_reader.CMDReader:Output to smac3-output_2019-12-09_10:50:43_794495\n"
          ],
          "name": "stderr"
        }
      ]
    },
    {
      "cell_type": "markdown",
      "metadata": {
        "id": "QGDzNDT_8j8T",
        "colab_type": "text"
      },
      "source": [
        "## Hyperparameter Optimization"
      ]
    },
    {
      "cell_type": "markdown",
      "metadata": {
        "id": "KgNROAoqytb0",
        "colab_type": "text"
      },
      "source": [
        "### Evaluation functions"
      ]
    },
    {
      "cell_type": "code",
      "metadata": {
        "id": "PY5iJKfhMfC5",
        "colab_type": "code",
        "colab": {}
      },
      "source": [
        "# plot the evolution of \"best seen\" \n",
        "# Same as Step 1"
      ],
      "execution_count": 0,
      "outputs": []
    },
    {
      "cell_type": "code",
      "metadata": {
        "colab_type": "code",
        "id": "Y7kjkzYc_Y_X",
        "colab": {}
      },
      "source": [
        "#Make predictions and return the classification report\n",
        "\n",
        "def CR_2(incumbent_cfg):\n",
        "  smote = SMOTE(random_state=seed)\n",
        "  mlp = MLPClassifier(hidden_layer_sizes=(incumbent_cfg['neurons_1'], \n",
        "                                          incumbent_cfg['neurons_2'],),\n",
        "                      random_state=seed,\n",
        "                      learning_rate_init=incumbent_cfg['learning_rate_init'],\n",
        "                      momentum=incumbent_cfg['momentum'])\n",
        "  \n",
        "  model_pipeline = make_pipeline(smote, StandardScaler(), mlp)\n",
        "  predictions = cross_val_predict(model_pipeline, x,y, cv =10)\n",
        "  CR = classification_report(y, predictions)\n",
        "  return print(CR)"
      ],
      "execution_count": 0,
      "outputs": []
    },
    {
      "cell_type": "markdown",
      "metadata": {
        "id": "xZ4N7IEN8rdG",
        "colab_type": "text"
      },
      "source": [
        "### Smac Optimization functions"
      ]
    },
    {
      "cell_type": "code",
      "metadata": {
        "id": "76wQoz3aCNvC",
        "colab_type": "code",
        "colab": {}
      },
      "source": [
        "def nn_from_cfg_2(cfg):\n",
        "  smote = SMOTE(random_state=seed)\n",
        "  mlp = MLPClassifier(hidden_layer_sizes=(cfg['neurons_1'], \n",
        "                                          cfg['neurons_2'],),\n",
        "                      random_state=seed,\n",
        "                      learning_rate_init=cfg['learning_rate_init'],\n",
        "                      momentum=cfg['momentum'])\n",
        "  model_pipeline = make_pipeline(smote, StandardScaler(), mlp)\n",
        "  scores = cross_val_score(model_pipeline, x, y, cv=10)\n",
        "  return 1-np.mean(scores)  # Minimize!"
      ],
      "execution_count": 0,
      "outputs": []
    },
    {
      "cell_type": "code",
      "metadata": {
        "id": "a4HH_KrCbY_M",
        "colab_type": "code",
        "colab": {}
      },
      "source": [
        "# defining function that run and optimize smac\n",
        "def run_smac_2(acquisition_function):\n",
        "    smac = SMAC4HPO(scenario=scenario_step_2, \n",
        "                   rng=seed,\n",
        "                   tae_runner=nn_from_cfg_2,\n",
        "                   initial_design_kwargs={'configs': initial_configs_2},\n",
        "                   acquisition_function=acquisition_function\n",
        "                   )\n",
        "\n",
        "    incumbent = smac.optimize()\n",
        "    bestseen = 1-np.minimum.accumulate(list(\n",
        "        smac.get_runhistory().cost_per_config.values()\n",
        "        ))\n",
        "    # put best configuration and bestseen in results dictionary\n",
        "    res_2[f\"HPO - {acquisition_function.__name__}\"] = {\n",
        "    'best_config': list(incumbent._values.values()),\n",
        "    'bestseen': bestseen\n",
        "    }\n",
        "    return incumbent"
      ],
      "execution_count": 0,
      "outputs": []
    },
    {
      "cell_type": "markdown",
      "metadata": {
        "id": "7yKdSUlU_ie7",
        "colab_type": "text"
      },
      "source": [
        "### Experiment 2.1: Expect Input as acquisition function"
      ]
    },
    {
      "cell_type": "code",
      "metadata": {
        "id": "ETL-Nqs3fUWN",
        "colab_type": "code",
        "outputId": "4cb3ea52-79a6-491e-a5ea-bdf1c5487258",
        "colab": {
          "base_uri": "https://localhost:8080/",
          "height": 1000
        }
      },
      "source": [
        "HPO_EI_2 = run_smac_2(EI)"
      ],
      "execution_count": 57,
      "outputs": [
        {
          "output_type": "stream",
          "text": [
            "INFO:smac.facade.smac_hpo_facade.SMAC4HPO:Optimizing a deterministic scenario for quality without a tuner timeout - will make SMAC deterministic and only evaluate one configuration per iteration!\n",
            "INFO:smac.initial_design.sobol_design.SobolDesign:Running initial design for 27 configurations\n",
            "INFO:smac.facade.smac_hpo_facade.SMAC4HPO:<class 'smac.facade.smac_hpo_facade.SMAC4HPO'>\n",
            "INFO:smac.intensification.intensification.Intensifier:Challenger (0.2265) is better than incumbent (0.2446) on 1 runs.\n",
            "INFO:smac.intensification.intensification.Intensifier:Changes in incumbent:\n",
            "INFO:smac.intensification.intensification.Intensifier:  learning_rate_init : 0.05951299705016369 -> 0.06694722422959863\n",
            "INFO:smac.intensification.intensification.Intensifier:  momentum : 0.7217703915462074 -> 0.8729782457250568\n",
            "INFO:smac.intensification.intensification.Intensifier:Challenger (0.1617) is better than incumbent (0.2265) on 1 runs.\n",
            "INFO:smac.intensification.intensification.Intensifier:Changes in incumbent:\n",
            "INFO:smac.intensification.intensification.Intensifier:  learning_rate_init : 0.06694722422959863 -> 0.04344277572674672\n",
            "INFO:smac.intensification.intensification.Intensifier:  momentum : 0.8729782457250568 -> 0.8315087726935063\n",
            "INFO:smac.intensification.intensification.Intensifier:  neurons_1 : 4 -> 3\n",
            "INFO:smac.intensification.intensification.Intensifier:Updated estimated cost of incumbent on 1 runs: 0.1617\n",
            "INFO:smac.intensification.intensification.Intensifier:Updated estimated cost of incumbent on 1 runs: 0.1617\n",
            "INFO:smac.intensification.intensification.Intensifier:Updated estimated cost of incumbent on 1 runs: 0.1617\n",
            "INFO:smac.intensification.intensification.Intensifier:Updated estimated cost of incumbent on 1 runs: 0.1617\n",
            "INFO:smac.intensification.intensification.Intensifier:Updated estimated cost of incumbent on 1 runs: 0.1617\n",
            "INFO:smac.intensification.intensification.Intensifier:Updated estimated cost of incumbent on 1 runs: 0.1617\n",
            "INFO:smac.intensification.intensification.Intensifier:Updated estimated cost of incumbent on 1 runs: 0.1617\n",
            "INFO:smac.intensification.intensification.Intensifier:Updated estimated cost of incumbent on 1 runs: 0.1617\n",
            "INFO:smac.intensification.intensification.Intensifier:Updated estimated cost of incumbent on 1 runs: 0.1617\n",
            "INFO:smac.intensification.intensification.Intensifier:Updated estimated cost of incumbent on 1 runs: 0.1617\n",
            "INFO:smac.intensification.intensification.Intensifier:Updated estimated cost of incumbent on 1 runs: 0.1617\n",
            "INFO:smac.intensification.intensification.Intensifier:Updated estimated cost of incumbent on 1 runs: 0.1617\n",
            "INFO:smac.intensification.intensification.Intensifier:Updated estimated cost of incumbent on 1 runs: 0.1617\n",
            "INFO:smac.intensification.intensification.Intensifier:Updated estimated cost of incumbent on 1 runs: 0.1617\n",
            "INFO:smac.intensification.intensification.Intensifier:Updated estimated cost of incumbent on 1 runs: 0.1617\n",
            "INFO:smac.intensification.intensification.Intensifier:Updated estimated cost of incumbent on 1 runs: 0.1617\n",
            "INFO:smac.intensification.intensification.Intensifier:Updated estimated cost of incumbent on 1 runs: 0.1617\n",
            "INFO:smac.intensification.intensification.Intensifier:Updated estimated cost of incumbent on 1 runs: 0.1617\n",
            "INFO:smac.intensification.intensification.Intensifier:Challenger (0.1186) is better than incumbent (0.1617) on 1 runs.\n",
            "INFO:smac.intensification.intensification.Intensifier:Changes in incumbent:\n",
            "INFO:smac.intensification.intensification.Intensifier:  learning_rate_init : 0.04344277572674672 -> 0.01978663920554806\n",
            "INFO:smac.intensification.intensification.Intensifier:  momentum : 0.8315087726935063 -> 0.8246147210831789\n",
            "INFO:smac.intensification.intensification.Intensifier:  neurons_1 : 3 -> 2\n",
            "INFO:smac.intensification.intensification.Intensifier:  neurons_2 : 5 -> 1\n",
            "INFO:smac.intensification.intensification.Intensifier:Updated estimated cost of incumbent on 1 runs: 0.1186\n",
            "INFO:smac.intensification.intensification.Intensifier:Updated estimated cost of incumbent on 1 runs: 0.1186\n",
            "INFO:smac.intensification.intensification.Intensifier:Updated estimated cost of incumbent on 1 runs: 0.1186\n",
            "INFO:smac.intensification.intensification.Intensifier:Updated estimated cost of incumbent on 1 runs: 0.1186\n",
            "INFO:smac.intensification.intensification.Intensifier:Updated estimated cost of incumbent on 1 runs: 0.1186\n",
            "INFO:smac.intensification.intensification.Intensifier:Updated estimated cost of incumbent on 1 runs: 0.1186\n",
            "INFO:smac.intensification.intensification.Intensifier:Updated estimated cost of incumbent on 1 runs: 0.1186\n",
            "INFO:smac.intensification.intensification.Intensifier:Updated estimated cost of incumbent on 1 runs: 0.1186\n",
            "INFO:smac.intensification.intensification.Intensifier:Updated estimated cost of incumbent on 1 runs: 0.1186\n",
            "INFO:smac.intensification.intensification.Intensifier:Updated estimated cost of incumbent on 1 runs: 0.1186\n",
            "INFO:smac.intensification.intensification.Intensifier:Updated estimated cost of incumbent on 1 runs: 0.1186\n",
            "INFO:smac.intensification.intensification.Intensifier:Updated estimated cost of incumbent on 1 runs: 0.1186\n",
            "INFO:smac.intensification.intensification.Intensifier:Updated estimated cost of incumbent on 1 runs: 0.1186\n",
            "INFO:smac.intensification.intensification.Intensifier:Updated estimated cost of incumbent on 1 runs: 0.1186\n",
            "INFO:smac.intensification.intensification.Intensifier:Updated estimated cost of incumbent on 1 runs: 0.1186\n",
            "INFO:smac.intensification.intensification.Intensifier:Updated estimated cost of incumbent on 1 runs: 0.1186\n",
            "INFO:smac.intensification.intensification.Intensifier:Updated estimated cost of incumbent on 1 runs: 0.1186\n",
            "INFO:smac.intensification.intensification.Intensifier:Updated estimated cost of incumbent on 1 runs: 0.1186\n",
            "INFO:smac.intensification.intensification.Intensifier:Updated estimated cost of incumbent on 1 runs: 0.1186\n",
            "INFO:smac.intensification.intensification.Intensifier:Updated estimated cost of incumbent on 1 runs: 0.1186\n",
            "INFO:smac.intensification.intensification.Intensifier:Updated estimated cost of incumbent on 1 runs: 0.1186\n",
            "INFO:smac.intensification.intensification.Intensifier:Updated estimated cost of incumbent on 1 runs: 0.1186\n",
            "INFO:smac.intensification.intensification.Intensifier:Updated estimated cost of incumbent on 1 runs: 0.1186\n",
            "INFO:smac.intensification.intensification.Intensifier:Updated estimated cost of incumbent on 1 runs: 0.1186\n",
            "INFO:smac.intensification.intensification.Intensifier:Updated estimated cost of incumbent on 1 runs: 0.1186\n",
            "INFO:smac.intensification.intensification.Intensifier:Updated estimated cost of incumbent on 1 runs: 0.1186\n",
            "INFO:smac.intensification.intensification.Intensifier:Updated estimated cost of incumbent on 1 runs: 0.1186\n",
            "INFO:smac.intensification.intensification.Intensifier:Updated estimated cost of incumbent on 1 runs: 0.1186\n",
            "INFO:smac.intensification.intensification.Intensifier:Updated estimated cost of incumbent on 1 runs: 0.1186\n",
            "INFO:smac.intensification.intensification.Intensifier:Updated estimated cost of incumbent on 1 runs: 0.1186\n",
            "INFO:smac.intensification.intensification.Intensifier:Updated estimated cost of incumbent on 1 runs: 0.1186\n",
            "INFO:smac.intensification.intensification.Intensifier:Updated estimated cost of incumbent on 1 runs: 0.1186\n",
            "INFO:smac.intensification.intensification.Intensifier:Updated estimated cost of incumbent on 1 runs: 0.1186\n",
            "INFO:smac.intensification.intensification.Intensifier:Updated estimated cost of incumbent on 1 runs: 0.1186\n",
            "INFO:smac.intensification.intensification.Intensifier:Updated estimated cost of incumbent on 1 runs: 0.1186\n",
            "INFO:smac.intensification.intensification.Intensifier:Updated estimated cost of incumbent on 1 runs: 0.1186\n",
            "INFO:smac.intensification.intensification.Intensifier:Updated estimated cost of incumbent on 1 runs: 0.1186\n",
            "INFO:smac.intensification.intensification.Intensifier:Updated estimated cost of incumbent on 1 runs: 0.1186\n",
            "INFO:smac.intensification.intensification.Intensifier:Updated estimated cost of incumbent on 1 runs: 0.1186\n",
            "INFO:smac.intensification.intensification.Intensifier:Updated estimated cost of incumbent on 1 runs: 0.1186\n",
            "INFO:smac.intensification.intensification.Intensifier:Updated estimated cost of incumbent on 1 runs: 0.1186\n",
            "INFO:smac.intensification.intensification.Intensifier:Updated estimated cost of incumbent on 1 runs: 0.1186\n",
            "INFO:smac.intensification.intensification.Intensifier:Updated estimated cost of incumbent on 1 runs: 0.1186\n",
            "INFO:smac.intensification.intensification.Intensifier:Updated estimated cost of incumbent on 1 runs: 0.1186\n",
            "INFO:smac.intensification.intensification.Intensifier:Updated estimated cost of incumbent on 1 runs: 0.1186\n",
            "INFO:smac.intensification.intensification.Intensifier:Updated estimated cost of incumbent on 1 runs: 0.1186\n",
            "INFO:smac.intensification.intensification.Intensifier:Updated estimated cost of incumbent on 1 runs: 0.1186\n",
            "INFO:smac.intensification.intensification.Intensifier:Updated estimated cost of incumbent on 1 runs: 0.1186\n",
            "INFO:smac.intensification.intensification.Intensifier:Updated estimated cost of incumbent on 1 runs: 0.1186\n",
            "INFO:smac.intensification.intensification.Intensifier:Updated estimated cost of incumbent on 1 runs: 0.1186\n",
            "INFO:smac.intensification.intensification.Intensifier:Updated estimated cost of incumbent on 1 runs: 0.1186\n",
            "INFO:smac.intensification.intensification.Intensifier:Updated estimated cost of incumbent on 1 runs: 0.1186\n",
            "INFO:smac.intensification.intensification.Intensifier:Updated estimated cost of incumbent on 1 runs: 0.1186\n",
            "INFO:smac.intensification.intensification.Intensifier:Updated estimated cost of incumbent on 1 runs: 0.1186\n",
            "INFO:smac.intensification.intensification.Intensifier:Updated estimated cost of incumbent on 1 runs: 0.1186\n",
            "INFO:smac.intensification.intensification.Intensifier:Updated estimated cost of incumbent on 1 runs: 0.1186\n",
            "INFO:smac.intensification.intensification.Intensifier:Updated estimated cost of incumbent on 1 runs: 0.1186\n",
            "INFO:smac.intensification.intensification.Intensifier:Updated estimated cost of incumbent on 1 runs: 0.1186\n",
            "INFO:smac.intensification.intensification.Intensifier:Updated estimated cost of incumbent on 1 runs: 0.1186\n",
            "INFO:smac.intensification.intensification.Intensifier:Updated estimated cost of incumbent on 1 runs: 0.1186\n",
            "INFO:smac.intensification.intensification.Intensifier:Updated estimated cost of incumbent on 1 runs: 0.1186\n",
            "INFO:smac.intensification.intensification.Intensifier:Updated estimated cost of incumbent on 1 runs: 0.1186\n",
            "INFO:smac.intensification.intensification.Intensifier:Updated estimated cost of incumbent on 1 runs: 0.1186\n",
            "INFO:smac.intensification.intensification.Intensifier:Updated estimated cost of incumbent on 1 runs: 0.1186\n",
            "INFO:smac.intensification.intensification.Intensifier:Updated estimated cost of incumbent on 1 runs: 0.1186\n",
            "INFO:smac.intensification.intensification.Intensifier:Updated estimated cost of incumbent on 1 runs: 0.1186\n",
            "INFO:smac.intensification.intensification.Intensifier:Updated estimated cost of incumbent on 1 runs: 0.1186\n",
            "INFO:smac.intensification.intensification.Intensifier:Updated estimated cost of incumbent on 1 runs: 0.1186\n",
            "INFO:smac.intensification.intensification.Intensifier:Updated estimated cost of incumbent on 1 runs: 0.1186\n",
            "INFO:smac.intensification.intensification.Intensifier:Updated estimated cost of incumbent on 1 runs: 0.1186\n",
            "INFO:smac.intensification.intensification.Intensifier:Updated estimated cost of incumbent on 1 runs: 0.1186\n",
            "INFO:smac.intensification.intensification.Intensifier:Updated estimated cost of incumbent on 1 runs: 0.1186\n",
            "INFO:smac.intensification.intensification.Intensifier:Updated estimated cost of incumbent on 1 runs: 0.1186\n",
            "INFO:smac.intensification.intensification.Intensifier:Updated estimated cost of incumbent on 1 runs: 0.1186\n",
            "INFO:smac.intensification.intensification.Intensifier:Updated estimated cost of incumbent on 1 runs: 0.1186\n",
            "INFO:smac.intensification.intensification.Intensifier:Updated estimated cost of incumbent on 1 runs: 0.1186\n",
            "INFO:smac.intensification.intensification.Intensifier:Updated estimated cost of incumbent on 1 runs: 0.1186\n",
            "INFO:smac.intensification.intensification.Intensifier:Updated estimated cost of incumbent on 1 runs: 0.1186\n",
            "INFO:smac.intensification.intensification.Intensifier:Updated estimated cost of incumbent on 1 runs: 0.1186\n",
            "INFO:smac.intensification.intensification.Intensifier:Updated estimated cost of incumbent on 1 runs: 0.1186\n",
            "INFO:smac.intensification.intensification.Intensifier:Updated estimated cost of incumbent on 1 runs: 0.1186\n",
            "INFO:smac.intensification.intensification.Intensifier:Updated estimated cost of incumbent on 1 runs: 0.1186\n",
            "INFO:smac.intensification.intensification.Intensifier:Updated estimated cost of incumbent on 1 runs: 0.1186\n",
            "INFO:smac.stats.stats.Stats:##########################################################\n",
            "INFO:smac.stats.stats.Stats:Statistics:\n",
            "INFO:smac.stats.stats.Stats:#Incumbent changed: 3\n",
            "INFO:smac.stats.stats.Stats:#Target algorithm runs: 110 / 110.0\n",
            "INFO:smac.stats.stats.Stats:#Configurations: 110\n",
            "INFO:smac.stats.stats.Stats:Used wallclock time: 155.17 / inf sec \n",
            "INFO:smac.stats.stats.Stats:Used target algorithm runtime: 75.93 / inf sec\n",
            "INFO:smac.stats.stats.Stats:##########################################################\n",
            "INFO:smac.facade.smac_hpo_facade.SMAC4HPO:Final Incumbent: Configuration:\n",
            "  learning_rate_init, Value: 0.01978663920554806\n",
            "  momentum, Value: 0.8246147210831789\n",
            "  neurons_1, Value: 2\n",
            "  neurons_2, Value: 1\n",
            "\n",
            "INFO:smac.facade.smac_hpo_facade.SMAC4HPO:Estimated cost of incumbent: 0.118586\n"
          ],
          "name": "stderr"
        }
      ]
    },
    {
      "cell_type": "markdown",
      "metadata": {
        "id": "RPTpxaJg_ktn",
        "colab_type": "text"
      },
      "source": [
        "### Experiment 2.2: Lower Confidence Bound as acquisition function"
      ]
    },
    {
      "cell_type": "code",
      "metadata": {
        "id": "CaP_Pz0rDDAL",
        "colab_type": "code",
        "outputId": "fb588faf-f912-455b-d8b9-0f7e6dc9ca64",
        "colab": {
          "base_uri": "https://localhost:8080/",
          "height": 1000
        }
      },
      "source": [
        "HPO_LCB_2 = run_smac_2(LCB)"
      ],
      "execution_count": 58,
      "outputs": [
        {
          "output_type": "stream",
          "text": [
            "INFO:smac.facade.smac_hpo_facade.SMAC4HPO:Optimizing a deterministic scenario for quality without a tuner timeout - will make SMAC deterministic and only evaluate one configuration per iteration!\n",
            "INFO:smac.initial_design.sobol_design.SobolDesign:Running initial design for 27 configurations\n",
            "INFO:smac.facade.smac_hpo_facade.SMAC4HPO:<class 'smac.facade.smac_hpo_facade.SMAC4HPO'>\n",
            "INFO:smac.intensification.intensification.Intensifier:Challenger (0.1970) is better than incumbent (0.2272) on 1 runs.\n",
            "INFO:smac.intensification.intensification.Intensifier:Changes in incumbent:\n",
            "INFO:smac.intensification.intensification.Intensifier:  learning_rate_init : 0.05951299705016369 -> 0.06272670578037219\n",
            "INFO:smac.intensification.intensification.Intensifier:  momentum : 0.7217703915462074 -> 0.23897364696749357\n",
            "INFO:smac.intensification.intensification.Intensifier:  neurons_1 : 4 -> 1\n",
            "INFO:smac.intensification.intensification.Intensifier:  neurons_2 : 5 -> 1\n",
            "INFO:smac.intensification.intensification.Intensifier:Updated estimated cost of incumbent on 1 runs: 0.1970\n",
            "INFO:smac.intensification.intensification.Intensifier:Updated estimated cost of incumbent on 1 runs: 0.1970\n",
            "INFO:smac.intensification.intensification.Intensifier:Updated estimated cost of incumbent on 1 runs: 0.1970\n",
            "INFO:smac.intensification.intensification.Intensifier:Updated estimated cost of incumbent on 1 runs: 0.1970\n",
            "INFO:smac.intensification.intensification.Intensifier:Updated estimated cost of incumbent on 1 runs: 0.1970\n",
            "INFO:smac.intensification.intensification.Intensifier:Challenger (0.1186) is better than incumbent (0.1970) on 1 runs.\n",
            "INFO:smac.intensification.intensification.Intensifier:Changes in incumbent:\n",
            "INFO:smac.intensification.intensification.Intensifier:  learning_rate_init : 0.06272670578037219 -> 0.08961742035676812\n",
            "INFO:smac.intensification.intensification.Intensifier:  momentum : 0.23897364696749357 -> 0.47284607836215575\n",
            "INFO:smac.intensification.intensification.Intensifier:Updated estimated cost of incumbent on 1 runs: 0.1186\n",
            "INFO:smac.intensification.intensification.Intensifier:Updated estimated cost of incumbent on 1 runs: 0.1186\n",
            "INFO:smac.intensification.intensification.Intensifier:Updated estimated cost of incumbent on 1 runs: 0.1186\n",
            "INFO:smac.intensification.intensification.Intensifier:Updated estimated cost of incumbent on 1 runs: 0.1186\n",
            "INFO:smac.intensification.intensification.Intensifier:Updated estimated cost of incumbent on 1 runs: 0.1186\n",
            "INFO:smac.intensification.intensification.Intensifier:Updated estimated cost of incumbent on 1 runs: 0.1186\n",
            "INFO:smac.intensification.intensification.Intensifier:Updated estimated cost of incumbent on 1 runs: 0.1186\n",
            "INFO:smac.intensification.intensification.Intensifier:Updated estimated cost of incumbent on 1 runs: 0.1186\n",
            "INFO:smac.intensification.intensification.Intensifier:Updated estimated cost of incumbent on 1 runs: 0.1186\n",
            "INFO:smac.intensification.intensification.Intensifier:Updated estimated cost of incumbent on 1 runs: 0.1186\n",
            "INFO:smac.intensification.intensification.Intensifier:Updated estimated cost of incumbent on 1 runs: 0.1186\n",
            "INFO:smac.intensification.intensification.Intensifier:Updated estimated cost of incumbent on 1 runs: 0.1186\n",
            "INFO:smac.intensification.intensification.Intensifier:Updated estimated cost of incumbent on 1 runs: 0.1186\n",
            "INFO:smac.intensification.intensification.Intensifier:Updated estimated cost of incumbent on 1 runs: 0.1186\n",
            "INFO:smac.intensification.intensification.Intensifier:Updated estimated cost of incumbent on 1 runs: 0.1186\n",
            "INFO:smac.intensification.intensification.Intensifier:Updated estimated cost of incumbent on 1 runs: 0.1186\n",
            "INFO:smac.intensification.intensification.Intensifier:Updated estimated cost of incumbent on 1 runs: 0.1186\n",
            "INFO:smac.intensification.intensification.Intensifier:Updated estimated cost of incumbent on 1 runs: 0.1186\n",
            "INFO:smac.intensification.intensification.Intensifier:Updated estimated cost of incumbent on 1 runs: 0.1186\n",
            "INFO:smac.intensification.intensification.Intensifier:Updated estimated cost of incumbent on 1 runs: 0.1186\n",
            "INFO:smac.intensification.intensification.Intensifier:Updated estimated cost of incumbent on 1 runs: 0.1186\n",
            "INFO:smac.intensification.intensification.Intensifier:Updated estimated cost of incumbent on 1 runs: 0.1186\n",
            "INFO:smac.intensification.intensification.Intensifier:Updated estimated cost of incumbent on 1 runs: 0.1186\n",
            "INFO:smac.intensification.intensification.Intensifier:Updated estimated cost of incumbent on 1 runs: 0.1186\n",
            "INFO:smac.intensification.intensification.Intensifier:Updated estimated cost of incumbent on 1 runs: 0.1186\n",
            "INFO:smac.intensification.intensification.Intensifier:Updated estimated cost of incumbent on 1 runs: 0.1186\n",
            "INFO:smac.intensification.intensification.Intensifier:Updated estimated cost of incumbent on 1 runs: 0.1186\n",
            "INFO:smac.intensification.intensification.Intensifier:Updated estimated cost of incumbent on 1 runs: 0.1186\n",
            "INFO:smac.intensification.intensification.Intensifier:Updated estimated cost of incumbent on 1 runs: 0.1186\n",
            "INFO:smac.intensification.intensification.Intensifier:Updated estimated cost of incumbent on 1 runs: 0.1186\n",
            "INFO:smac.intensification.intensification.Intensifier:Updated estimated cost of incumbent on 1 runs: 0.1186\n",
            "INFO:smac.intensification.intensification.Intensifier:Updated estimated cost of incumbent on 1 runs: 0.1186\n",
            "INFO:smac.intensification.intensification.Intensifier:Updated estimated cost of incumbent on 1 runs: 0.1186\n",
            "INFO:smac.intensification.intensification.Intensifier:Updated estimated cost of incumbent on 1 runs: 0.1186\n",
            "INFO:smac.intensification.intensification.Intensifier:Updated estimated cost of incumbent on 1 runs: 0.1186\n",
            "INFO:smac.intensification.intensification.Intensifier:Updated estimated cost of incumbent on 1 runs: 0.1186\n",
            "INFO:smac.intensification.intensification.Intensifier:Updated estimated cost of incumbent on 1 runs: 0.1186\n",
            "INFO:smac.intensification.intensification.Intensifier:Updated estimated cost of incumbent on 1 runs: 0.1186\n",
            "INFO:smac.intensification.intensification.Intensifier:Updated estimated cost of incumbent on 1 runs: 0.1186\n",
            "INFO:smac.intensification.intensification.Intensifier:Updated estimated cost of incumbent on 1 runs: 0.1186\n",
            "INFO:smac.intensification.intensification.Intensifier:Updated estimated cost of incumbent on 1 runs: 0.1186\n",
            "INFO:smac.intensification.intensification.Intensifier:Updated estimated cost of incumbent on 1 runs: 0.1186\n",
            "INFO:smac.intensification.intensification.Intensifier:Updated estimated cost of incumbent on 1 runs: 0.1186\n",
            "INFO:smac.intensification.intensification.Intensifier:Updated estimated cost of incumbent on 1 runs: 0.1186\n",
            "INFO:smac.intensification.intensification.Intensifier:Updated estimated cost of incumbent on 1 runs: 0.1186\n",
            "INFO:smac.intensification.intensification.Intensifier:Updated estimated cost of incumbent on 1 runs: 0.1186\n",
            "INFO:smac.intensification.intensification.Intensifier:Updated estimated cost of incumbent on 1 runs: 0.1186\n",
            "INFO:smac.intensification.intensification.Intensifier:Updated estimated cost of incumbent on 1 runs: 0.1186\n",
            "INFO:smac.intensification.intensification.Intensifier:Updated estimated cost of incumbent on 1 runs: 0.1186\n",
            "INFO:smac.intensification.intensification.Intensifier:Updated estimated cost of incumbent on 1 runs: 0.1186\n",
            "INFO:smac.intensification.intensification.Intensifier:Updated estimated cost of incumbent on 1 runs: 0.1186\n",
            "INFO:smac.intensification.intensification.Intensifier:Updated estimated cost of incumbent on 1 runs: 0.1186\n",
            "INFO:smac.intensification.intensification.Intensifier:Updated estimated cost of incumbent on 1 runs: 0.1186\n",
            "INFO:smac.intensification.intensification.Intensifier:Updated estimated cost of incumbent on 1 runs: 0.1186\n",
            "INFO:smac.intensification.intensification.Intensifier:Updated estimated cost of incumbent on 1 runs: 0.1186\n",
            "INFO:smac.intensification.intensification.Intensifier:Updated estimated cost of incumbent on 1 runs: 0.1186\n",
            "INFO:smac.intensification.intensification.Intensifier:Updated estimated cost of incumbent on 1 runs: 0.1186\n",
            "INFO:smac.intensification.intensification.Intensifier:Updated estimated cost of incumbent on 1 runs: 0.1186\n",
            "INFO:smac.intensification.intensification.Intensifier:Updated estimated cost of incumbent on 1 runs: 0.1186\n",
            "INFO:smac.intensification.intensification.Intensifier:Updated estimated cost of incumbent on 1 runs: 0.1186\n",
            "INFO:smac.intensification.intensification.Intensifier:Updated estimated cost of incumbent on 1 runs: 0.1186\n",
            "INFO:smac.intensification.intensification.Intensifier:Updated estimated cost of incumbent on 1 runs: 0.1186\n",
            "INFO:smac.intensification.intensification.Intensifier:Updated estimated cost of incumbent on 1 runs: 0.1186\n",
            "INFO:smac.intensification.intensification.Intensifier:Updated estimated cost of incumbent on 1 runs: 0.1186\n",
            "INFO:smac.intensification.intensification.Intensifier:Updated estimated cost of incumbent on 1 runs: 0.1186\n",
            "INFO:smac.intensification.intensification.Intensifier:Updated estimated cost of incumbent on 1 runs: 0.1186\n",
            "INFO:smac.intensification.intensification.Intensifier:Updated estimated cost of incumbent on 1 runs: 0.1186\n",
            "INFO:smac.intensification.intensification.Intensifier:Updated estimated cost of incumbent on 1 runs: 0.1186\n",
            "INFO:smac.intensification.intensification.Intensifier:Updated estimated cost of incumbent on 1 runs: 0.1186\n",
            "INFO:smac.intensification.intensification.Intensifier:Updated estimated cost of incumbent on 1 runs: 0.1186\n",
            "INFO:smac.intensification.intensification.Intensifier:Updated estimated cost of incumbent on 1 runs: 0.1186\n",
            "INFO:smac.intensification.intensification.Intensifier:Updated estimated cost of incumbent on 1 runs: 0.1186\n",
            "INFO:smac.intensification.intensification.Intensifier:Updated estimated cost of incumbent on 1 runs: 0.1186\n",
            "INFO:smac.intensification.intensification.Intensifier:Updated estimated cost of incumbent on 1 runs: 0.1186\n",
            "INFO:smac.intensification.intensification.Intensifier:Updated estimated cost of incumbent on 1 runs: 0.1186\n",
            "INFO:smac.intensification.intensification.Intensifier:Updated estimated cost of incumbent on 1 runs: 0.1186\n",
            "INFO:smac.intensification.intensification.Intensifier:Updated estimated cost of incumbent on 1 runs: 0.1186\n",
            "INFO:smac.intensification.intensification.Intensifier:Updated estimated cost of incumbent on 1 runs: 0.1186\n",
            "INFO:smac.intensification.intensification.Intensifier:Updated estimated cost of incumbent on 1 runs: 0.1186\n",
            "INFO:smac.intensification.intensification.Intensifier:Updated estimated cost of incumbent on 1 runs: 0.1186\n",
            "INFO:smac.intensification.intensification.Intensifier:Updated estimated cost of incumbent on 1 runs: 0.1186\n",
            "INFO:smac.intensification.intensification.Intensifier:Updated estimated cost of incumbent on 1 runs: 0.1186\n",
            "INFO:smac.intensification.intensification.Intensifier:Updated estimated cost of incumbent on 1 runs: 0.1186\n",
            "INFO:smac.intensification.intensification.Intensifier:Updated estimated cost of incumbent on 1 runs: 0.1186\n",
            "INFO:smac.intensification.intensification.Intensifier:Updated estimated cost of incumbent on 1 runs: 0.1186\n",
            "INFO:smac.intensification.intensification.Intensifier:Updated estimated cost of incumbent on 1 runs: 0.1186\n",
            "INFO:smac.intensification.intensification.Intensifier:Updated estimated cost of incumbent on 1 runs: 0.1186\n",
            "INFO:smac.intensification.intensification.Intensifier:Updated estimated cost of incumbent on 1 runs: 0.1186\n",
            "INFO:smac.intensification.intensification.Intensifier:Updated estimated cost of incumbent on 1 runs: 0.1186\n",
            "INFO:smac.intensification.intensification.Intensifier:Updated estimated cost of incumbent on 1 runs: 0.1186\n",
            "INFO:smac.intensification.intensification.Intensifier:Updated estimated cost of incumbent on 1 runs: 0.1186\n",
            "INFO:smac.intensification.intensification.Intensifier:Updated estimated cost of incumbent on 1 runs: 0.1186\n",
            "INFO:smac.intensification.intensification.Intensifier:Updated estimated cost of incumbent on 1 runs: 0.1186\n",
            "INFO:smac.intensification.intensification.Intensifier:Updated estimated cost of incumbent on 1 runs: 0.1186\n",
            "INFO:smac.intensification.intensification.Intensifier:Updated estimated cost of incumbent on 1 runs: 0.1186\n",
            "INFO:smac.intensification.intensification.Intensifier:Updated estimated cost of incumbent on 1 runs: 0.1186\n",
            "INFO:smac.stats.stats.Stats:##########################################################\n",
            "INFO:smac.stats.stats.Stats:Statistics:\n",
            "INFO:smac.stats.stats.Stats:#Incumbent changed: 2\n",
            "INFO:smac.stats.stats.Stats:#Target algorithm runs: 110 / 110.0\n",
            "INFO:smac.stats.stats.Stats:#Configurations: 110\n",
            "INFO:smac.stats.stats.Stats:Used wallclock time: 141.62 / inf sec \n",
            "INFO:smac.stats.stats.Stats:Used target algorithm runtime: 63.61 / inf sec\n",
            "INFO:smac.stats.stats.Stats:##########################################################\n",
            "INFO:smac.facade.smac_hpo_facade.SMAC4HPO:Final Incumbent: Configuration:\n",
            "  learning_rate_init, Value: 0.08961742035676812\n",
            "  momentum, Value: 0.47284607836215575\n",
            "  neurons_1, Value: 1\n",
            "  neurons_2, Value: 1\n",
            "\n",
            "INFO:smac.facade.smac_hpo_facade.SMAC4HPO:Estimated cost of incumbent: 0.118586\n"
          ],
          "name": "stderr"
        }
      ]
    },
    {
      "cell_type": "markdown",
      "metadata": {
        "id": "SgSuvQ-X_sFU",
        "colab_type": "text"
      },
      "source": [
        "## Best Parameters and Performances comparison "
      ]
    },
    {
      "cell_type": "markdown",
      "metadata": {
        "id": "p9CYLspi_vJQ",
        "colab_type": "text"
      },
      "source": [
        "### Configurations coparison"
      ]
    },
    {
      "cell_type": "code",
      "metadata": {
        "colab_type": "code",
        "id": "al-T4WdbeggO",
        "colab": {}
      },
      "source": [
        "best_configurations_2 = []\n",
        "for alg in res_2:\n",
        "  best_configurations_2.append(res_2[alg]['best_config'])\n",
        "best_configurations_2 = np.asarray(best_configurations_2)"
      ],
      "execution_count": 0,
      "outputs": []
    },
    {
      "cell_type": "code",
      "metadata": {
        "colab_type": "code",
        "outputId": "bc8b3586-c99c-4306-d785-03ccbace37b7",
        "id": "PzVgFeQHeggS",
        "colab": {
          "base_uri": "https://localhost:8080/",
          "height": 167
        }
      },
      "source": [
        "best_configurations_2 = pd.DataFrame([best_configurations_2[:,0], best_configurations_2[:,1], best_configurations_2[:,2], best_configurations_2[:,3]],\n",
        "                                   columns=['HPO_EI', 'HPO_LCB'], \n",
        "                                   index=['Learning Rate', 'Momentum', 'Neurons 1st layer', 'Neurons 2nd layer'])\n",
        "best_configurations_2"
      ],
      "execution_count": 60,
      "outputs": [
        {
          "output_type": "execute_result",
          "data": {
            "text/html": [
              "<div>\n",
              "<style scoped>\n",
              "    .dataframe tbody tr th:only-of-type {\n",
              "        vertical-align: middle;\n",
              "    }\n",
              "\n",
              "    .dataframe tbody tr th {\n",
              "        vertical-align: top;\n",
              "    }\n",
              "\n",
              "    .dataframe thead th {\n",
              "        text-align: right;\n",
              "    }\n",
              "</style>\n",
              "<table border=\"1\" class=\"dataframe\">\n",
              "  <thead>\n",
              "    <tr style=\"text-align: right;\">\n",
              "      <th></th>\n",
              "      <th>HPO_EI</th>\n",
              "      <th>HPO_LCB</th>\n",
              "    </tr>\n",
              "  </thead>\n",
              "  <tbody>\n",
              "    <tr>\n",
              "      <th>Learning Rate</th>\n",
              "      <td>0.019787</td>\n",
              "      <td>0.089617</td>\n",
              "    </tr>\n",
              "    <tr>\n",
              "      <th>Momentum</th>\n",
              "      <td>0.824615</td>\n",
              "      <td>0.472846</td>\n",
              "    </tr>\n",
              "    <tr>\n",
              "      <th>Neurons 1st layer</th>\n",
              "      <td>2.000000</td>\n",
              "      <td>1.000000</td>\n",
              "    </tr>\n",
              "    <tr>\n",
              "      <th>Neurons 2nd layer</th>\n",
              "      <td>1.000000</td>\n",
              "      <td>1.000000</td>\n",
              "    </tr>\n",
              "  </tbody>\n",
              "</table>\n",
              "</div>"
            ],
            "text/plain": [
              "                     HPO_EI   HPO_LCB\n",
              "Learning Rate      0.019787  0.089617\n",
              "Momentum           0.824615  0.472846\n",
              "Neurons 1st layer  2.000000  1.000000\n",
              "Neurons 2nd layer  1.000000  1.000000"
            ]
          },
          "metadata": {
            "tags": []
          },
          "execution_count": 60
        }
      ]
    },
    {
      "cell_type": "markdown",
      "metadata": {
        "colab_type": "text",
        "id": "mneoiB5auPZj"
      },
      "source": [
        "### Performances comparison"
      ]
    },
    {
      "cell_type": "code",
      "metadata": {
        "colab_type": "code",
        "outputId": "3899cf8d-e57e-41ba-f104-943159756b26",
        "id": "pYIn5jpHuPZk",
        "colab": {
          "base_uri": "https://localhost:8080/",
          "height": 176
        }
      },
      "source": [
        "# Classification Report EI\n",
        "CR_EI_2 = CR_2(HPO_EI_2)"
      ],
      "execution_count": 61,
      "outputs": [
        {
          "output_type": "stream",
          "text": [
            "              precision    recall  f1-score   support\n",
            "\n",
            "         0.0       0.18      0.25      0.21        12\n",
            "         1.0       0.89      0.84      0.87        88\n",
            "\n",
            "    accuracy                           0.77       100\n",
            "   macro avg       0.53      0.55      0.54       100\n",
            "weighted avg       0.81      0.77      0.79       100\n",
            "\n"
          ],
          "name": "stdout"
        }
      ]
    },
    {
      "cell_type": "code",
      "metadata": {
        "colab_type": "code",
        "outputId": "9a8de0d8-66ff-441b-d325-6f8ce024f7c1",
        "id": "6ycvBzGcuPZl",
        "colab": {
          "base_uri": "https://localhost:8080/",
          "height": 303
        }
      },
      "source": [
        "# Classification Report LCB\n",
        "CR_LCB_2 = CR_2(HPO_LCB_2)"
      ],
      "execution_count": 62,
      "outputs": [
        {
          "output_type": "stream",
          "text": [
            "/usr/local/lib/python3.6/dist-packages/sklearn/metrics/classification.py:1437: UndefinedMetricWarning: Precision and F-score are ill-defined and being set to 0.0 in labels with no predicted samples.\n",
            "  'precision', 'predicted', average, warn_for)\n",
            "\n",
            "WARNING:py.warnings:/usr/local/lib/python3.6/dist-packages/sklearn/metrics/classification.py:1437: UndefinedMetricWarning: Precision and F-score are ill-defined and being set to 0.0 in labels with no predicted samples.\n",
            "  'precision', 'predicted', average, warn_for)\n",
            "\n"
          ],
          "name": "stderr"
        },
        {
          "output_type": "stream",
          "text": [
            "              precision    recall  f1-score   support\n",
            "\n",
            "         0.0       0.00      0.00      0.00        12\n",
            "         1.0       0.88      1.00      0.94        88\n",
            "\n",
            "    accuracy                           0.88       100\n",
            "   macro avg       0.44      0.50      0.47       100\n",
            "weighted avg       0.77      0.88      0.82       100\n",
            "\n"
          ],
          "name": "stdout"
        }
      ]
    },
    {
      "cell_type": "markdown",
      "metadata": {
        "id": "Ou61OkbXOsEk",
        "colab_type": "text"
      },
      "source": [
        "### Best seen evolution"
      ]
    },
    {
      "cell_type": "code",
      "metadata": {
        "id": "6z_4JKqaSK0-",
        "colab_type": "code",
        "outputId": "2ab9e1e9-d821-41ae-9a3b-1573310b5db0",
        "colab": {
          "base_uri": "https://localhost:8080/",
          "height": 526
        }
      },
      "source": [
        "plot_bestseen(res_2, 110)"
      ],
      "execution_count": 63,
      "outputs": [
        {
          "output_type": "display_data",
          "data": {
            "image/png": "[encoded data removed]",
            "text/plain": [
              "<Figure size 1080x576 with 1 Axes>"
            ]
          },
          "metadata": {
            "tags": []
          }
        }
      ]
    }
  ]
}