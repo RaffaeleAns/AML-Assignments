{
 "cells": [
  {
   "cell_type": "markdown",
   "metadata": {
    "colab_type": "text",
    "id": "uE5wfyLymgaW"
   },
   "source": [
    "# Assignment 1"
   ]
  },
  {
   "cell_type": "markdown",
   "metadata": {
    "colab_type": "text",
    "id": "XJy-x59lmp89"
   },
   "source": [
    "The assignment consists in the prediction of default payments using a neural network. \n",
    "\n",
    "The dataset contains information on default payments, demographic factors, credit data, history of payment, and bill statements of credit card clients in Taiwan from April 2005 to September 2005. \n",
    "\n",
    "The provided data comprises the training set that can be used for the training (and eventually for the validation) and the unlabelled test set.\n",
    "\n",
    "\n",
    "\n",
    "In order to be evaluated, each student should submit a zip file named Nome_Cognome_Matricola_assignment1.zip containing all and only:\n",
    "\n",
    "- the source code;\n",
    "- a brief PDF or WORD report (1 or 2 pages) with some motivations about the choices on the data processing, the number and dimension of the layers, the activation functions and the loss functions, and some comments about the results.\n",
    "- (optional) a txt file named Nome_Cognome_Matricola_score1.txt, where each line corresponds to the prediction (0/1 class) of the instances of the test set. The file should contain only one 0/1 column and with no header.\n",
    "\n",
    "\n",
    "Collaboration is allowed, but the final product must be individual.\n",
    "\n",
    "After the deadline, the name of the students with the highest classification performance (in terms of weighted F-measure) evaluated on the submitted results will be announced. Only well-formatted submissions will be considered.\n",
    "\n",
    "\n",
    "\n",
    "For any problem contact debora.nozza@unimib.it."
   ]
  },
  {
   "cell_type": "markdown",
   "metadata": {},
   "source": [
    "## Dataset introduction"
   ]
  },
  {
   "cell_type": "markdown",
   "metadata": {},
   "source": [
    "This notebook was created to learn basic techniques of data manipulation and machine learning. The idea is to use the dataset UCI_Credit_Card to improve basic skills of data cleaning, data analysis, data visualization and machine learning. It is primarily intended to help myself understanding what to do and how. Any feedback is welcome.\n",
    "\n",
    "Variables\n",
    "There are 25 variables:\n",
    "\n",
    "- ID: ID of each client\n",
    "- LIMIT_BAL: Amount of given credit in NT dollars (includes individual and family/supplementary credit\n",
    "- SEX: Gender (1=male, 2=female)\n",
    "- EDUCATION: (1=graduate school, 2=university, 3=high school, 4=others, 5=unknown, 6=unknown)\n",
    "- MARRIAGE: Marital status (1=married, 2=single, 3=others)\n",
    "- AGE: Age in years\n",
    "- PAY_0: Repayment status in September, 2005 (-1=pay duly, 1=payment delay for one month, 2=payment delay for two months, ... 8=payment delay for eight months, 9=payment delay for nine months and above)\n",
    "- PAY_2: Repayment status in August, 2005 (scale same as above)\n",
    "- PAY_3: Repayment status in July, 2005 (scale same as above)\n",
    "- PAY_4: Repayment status in June, 2005 (scale same as above)\n",
    "- PAY_5: Repayment status in May, 2005 (scale same as above)\n",
    "- PAY_6: Repayment status in April, 2005 (scale same as above)\n",
    "- BILL_AMT1: Amount of bill statement in September, 2005 (NT dollar)\n",
    "- BILL_AMT2: Amount of bill statement in August, 2005 (NT dollar)\n",
    "- BILL_AMT3: Amount of bill statement in July, 2005 (NT dollar)\n",
    "- BILL_AMT4: Amount of bill statement in June, 2005 (NT dollar)\n",
    "- BILL_AMT5: Amount of bill statement in May, 2005 (NT dollar)\n",
    "- BILL_AMT6: Amount of bill statement in April, 2005 (NT dollar)\n",
    "- PAY_AMT1: Amount of previous payment in September, 2005 (NT dollar)\n",
    "- PAY_AMT2: Amount of previous payment in August, 2005 (NT dollar)\n",
    "- PAY_AMT3: Amount of previous payment in July, 2005 (NT dollar)\n",
    "- PAY_AMT4: Amount of previous payment in June, 2005 (NT dollar)\n",
    "- PAY_AMT5: Amount of previous payment in May, 2005 (NT dollar)\n",
    "- PAY_AMT6: Amount of previous payment in April, 2005 (NT dollar)\n",
    "- default.payment.next.month: Default payment (1=yes, 0=no)"
   ]
  },
  {
   "cell_type": "markdown",
   "metadata": {
    "colab_type": "text",
    "id": "wKOpVInOmuPe"
   },
   "source": [
    "## Packages needed for analysis"
   ]
  },
  {
   "cell_type": "code",
   "execution_count": 1,
   "metadata": {
    "colab": {
     "base_uri": "https://localhost:8080/",
     "height": 35
    },
    "colab_type": "code",
    "executionInfo": {
     "elapsed": 2442,
     "status": "ok",
     "timestamp": 1571045669231,
     "user": {
      "displayName": "Lorenzo Pastore",
      "photoUrl": "",
      "userId": "15501936990516155537"
     },
     "user_tz": -120
    },
    "id": "pddkf0Jfma6I",
    "outputId": "ba192846-1c05-4ad1-8da8-c204364e5477",
    "scrolled": false
   },
   "outputs": [
    {
     "name": "stderr",
     "output_type": "stream",
     "text": [
      "/Users/raffaeleanselmo/anaconda3/envs/AML/lib/python3.7/site-packages/tensorflow/python/framework/dtypes.py:516: FutureWarning: Passing (type, 1) or '1type' as a synonym of type is deprecated; in a future version of numpy, it will be understood as (type, (1,)) / '(1,)type'.\n",
      "  _np_qint8 = np.dtype([(\"qint8\", np.int8, 1)])\n",
      "/Users/raffaeleanselmo/anaconda3/envs/AML/lib/python3.7/site-packages/tensorflow/python/framework/dtypes.py:517: FutureWarning: Passing (type, 1) or '1type' as a synonym of type is deprecated; in a future version of numpy, it will be understood as (type, (1,)) / '(1,)type'.\n",
      "  _np_quint8 = np.dtype([(\"quint8\", np.uint8, 1)])\n",
      "/Users/raffaeleanselmo/anaconda3/envs/AML/lib/python3.7/site-packages/tensorflow/python/framework/dtypes.py:518: FutureWarning: Passing (type, 1) or '1type' as a synonym of type is deprecated; in a future version of numpy, it will be understood as (type, (1,)) / '(1,)type'.\n",
      "  _np_qint16 = np.dtype([(\"qint16\", np.int16, 1)])\n",
      "/Users/raffaeleanselmo/anaconda3/envs/AML/lib/python3.7/site-packages/tensorflow/python/framework/dtypes.py:519: FutureWarning: Passing (type, 1) or '1type' as a synonym of type is deprecated; in a future version of numpy, it will be understood as (type, (1,)) / '(1,)type'.\n",
      "  _np_quint16 = np.dtype([(\"quint16\", np.uint16, 1)])\n",
      "/Users/raffaeleanselmo/anaconda3/envs/AML/lib/python3.7/site-packages/tensorflow/python/framework/dtypes.py:520: FutureWarning: Passing (type, 1) or '1type' as a synonym of type is deprecated; in a future version of numpy, it will be understood as (type, (1,)) / '(1,)type'.\n",
      "  _np_qint32 = np.dtype([(\"qint32\", np.int32, 1)])\n",
      "/Users/raffaeleanselmo/anaconda3/envs/AML/lib/python3.7/site-packages/tensorflow/python/framework/dtypes.py:525: FutureWarning: Passing (type, 1) or '1type' as a synonym of type is deprecated; in a future version of numpy, it will be understood as (type, (1,)) / '(1,)type'.\n",
      "  np_resource = np.dtype([(\"resource\", np.ubyte, 1)])\n",
      "/Users/raffaeleanselmo/anaconda3/envs/AML/lib/python3.7/site-packages/tensorboard/compat/tensorflow_stub/dtypes.py:541: FutureWarning: Passing (type, 1) or '1type' as a synonym of type is deprecated; in a future version of numpy, it will be understood as (type, (1,)) / '(1,)type'.\n",
      "  _np_qint8 = np.dtype([(\"qint8\", np.int8, 1)])\n",
      "/Users/raffaeleanselmo/anaconda3/envs/AML/lib/python3.7/site-packages/tensorboard/compat/tensorflow_stub/dtypes.py:542: FutureWarning: Passing (type, 1) or '1type' as a synonym of type is deprecated; in a future version of numpy, it will be understood as (type, (1,)) / '(1,)type'.\n",
      "  _np_quint8 = np.dtype([(\"quint8\", np.uint8, 1)])\n",
      "/Users/raffaeleanselmo/anaconda3/envs/AML/lib/python3.7/site-packages/tensorboard/compat/tensorflow_stub/dtypes.py:543: FutureWarning: Passing (type, 1) or '1type' as a synonym of type is deprecated; in a future version of numpy, it will be understood as (type, (1,)) / '(1,)type'.\n",
      "  _np_qint16 = np.dtype([(\"qint16\", np.int16, 1)])\n",
      "/Users/raffaeleanselmo/anaconda3/envs/AML/lib/python3.7/site-packages/tensorboard/compat/tensorflow_stub/dtypes.py:544: FutureWarning: Passing (type, 1) or '1type' as a synonym of type is deprecated; in a future version of numpy, it will be understood as (type, (1,)) / '(1,)type'.\n",
      "  _np_quint16 = np.dtype([(\"quint16\", np.uint16, 1)])\n",
      "/Users/raffaeleanselmo/anaconda3/envs/AML/lib/python3.7/site-packages/tensorboard/compat/tensorflow_stub/dtypes.py:545: FutureWarning: Passing (type, 1) or '1type' as a synonym of type is deprecated; in a future version of numpy, it will be understood as (type, (1,)) / '(1,)type'.\n",
      "  _np_qint32 = np.dtype([(\"qint32\", np.int32, 1)])\n",
      "/Users/raffaeleanselmo/anaconda3/envs/AML/lib/python3.7/site-packages/tensorboard/compat/tensorflow_stub/dtypes.py:550: FutureWarning: Passing (type, 1) or '1type' as a synonym of type is deprecated; in a future version of numpy, it will be understood as (type, (1,)) / '(1,)type'.\n",
      "  np_resource = np.dtype([(\"resource\", np.ubyte, 1)])\n"
     ]
    }
   ],
   "source": [
    "import numpy as np\n",
    "import scipy as sp\n",
    "import pandas as pd\n",
    "import matplotlib.pyplot as plt\n",
    "import sklearn\n",
    "import tensorflow as tf\n",
    "from tensorflow import keras\n",
    "import os\n",
    "import tempfile\n",
    "import matplotlib as mpl\n",
    "import matplotlib.pyplot as plt\n",
    "import sklearn"
   ]
  },
  {
   "cell_type": "markdown",
   "metadata": {
    "colab_type": "text",
    "id": "Btl2sC3cnpbA"
   },
   "source": [
    "## Read the data"
   ]
  },
  {
   "cell_type": "code",
   "execution_count": 2,
   "metadata": {
    "colab": {},
    "colab_type": "code",
    "id": "dksOKJ-Onvqx",
    "scrolled": false
   },
   "outputs": [
    {
     "data": {
      "text/html": [
       "<div>\n",
       "<style scoped>\n",
       "    .dataframe tbody tr th:only-of-type {\n",
       "        vertical-align: middle;\n",
       "    }\n",
       "\n",
       "    .dataframe tbody tr th {\n",
       "        vertical-align: top;\n",
       "    }\n",
       "\n",
       "    .dataframe thead th {\n",
       "        text-align: right;\n",
       "    }\n",
       "</style>\n",
       "<table border=\"1\" class=\"dataframe\">\n",
       "  <thead>\n",
       "    <tr style=\"text-align: right;\">\n",
       "      <th></th>\n",
       "      <th>LIMIT_BAL</th>\n",
       "      <th>SEX</th>\n",
       "      <th>EDUCATION</th>\n",
       "      <th>MARRIAGE</th>\n",
       "      <th>AGE</th>\n",
       "      <th>PAY_0</th>\n",
       "      <th>PAY_2</th>\n",
       "      <th>PAY_3</th>\n",
       "      <th>PAY_4</th>\n",
       "      <th>PAY_5</th>\n",
       "      <th>...</th>\n",
       "      <th>BILL_AMT4</th>\n",
       "      <th>BILL_AMT5</th>\n",
       "      <th>BILL_AMT6</th>\n",
       "      <th>PAY_AMT1</th>\n",
       "      <th>PAY_AMT2</th>\n",
       "      <th>PAY_AMT3</th>\n",
       "      <th>PAY_AMT4</th>\n",
       "      <th>PAY_AMT5</th>\n",
       "      <th>PAY_AMT6</th>\n",
       "      <th>default.payment.next.month</th>\n",
       "    </tr>\n",
       "  </thead>\n",
       "  <tbody>\n",
       "    <tr>\n",
       "      <td>12701</td>\n",
       "      <td>200000.0</td>\n",
       "      <td>1</td>\n",
       "      <td>1</td>\n",
       "      <td>2</td>\n",
       "      <td>60</td>\n",
       "      <td>-1</td>\n",
       "      <td>-1</td>\n",
       "      <td>-1</td>\n",
       "      <td>-1</td>\n",
       "      <td>-1</td>\n",
       "      <td>...</td>\n",
       "      <td>12474.0</td>\n",
       "      <td>17785.0</td>\n",
       "      <td>12500.0</td>\n",
       "      <td>12453.0</td>\n",
       "      <td>21957.0</td>\n",
       "      <td>12474.0</td>\n",
       "      <td>17811.0</td>\n",
       "      <td>12500.0</td>\n",
       "      <td>0.0</td>\n",
       "      <td>0</td>\n",
       "    </tr>\n",
       "    <tr>\n",
       "      <td>4264</td>\n",
       "      <td>260000.0</td>\n",
       "      <td>2</td>\n",
       "      <td>1</td>\n",
       "      <td>1</td>\n",
       "      <td>48</td>\n",
       "      <td>0</td>\n",
       "      <td>0</td>\n",
       "      <td>0</td>\n",
       "      <td>-2</td>\n",
       "      <td>-2</td>\n",
       "      <td>...</td>\n",
       "      <td>0.0</td>\n",
       "      <td>0.0</td>\n",
       "      <td>0.0</td>\n",
       "      <td>5000.0</td>\n",
       "      <td>0.0</td>\n",
       "      <td>0.0</td>\n",
       "      <td>0.0</td>\n",
       "      <td>0.0</td>\n",
       "      <td>0.0</td>\n",
       "      <td>0</td>\n",
       "    </tr>\n",
       "  </tbody>\n",
       "</table>\n",
       "<p>2 rows × 24 columns</p>\n",
       "</div>"
      ],
      "text/plain": [
       "       LIMIT_BAL  SEX  EDUCATION  MARRIAGE  AGE  PAY_0  PAY_2  PAY_3  PAY_4  \\\n",
       "12701   200000.0    1          1         2   60     -1     -1     -1     -1   \n",
       "4264    260000.0    2          1         1   48      0      0      0     -2   \n",
       "\n",
       "       PAY_5  ...  BILL_AMT4  BILL_AMT5  BILL_AMT6  PAY_AMT1  PAY_AMT2  \\\n",
       "12701     -1  ...    12474.0    17785.0    12500.0   12453.0   21957.0   \n",
       "4264      -2  ...        0.0        0.0        0.0    5000.0       0.0   \n",
       "\n",
       "       PAY_AMT3  PAY_AMT4  PAY_AMT5  PAY_AMT6  default.payment.next.month  \n",
       "12701   12474.0   17811.0   12500.0       0.0                           0  \n",
       "4264        0.0       0.0       0.0       0.0                           0  \n",
       "\n",
       "[2 rows x 24 columns]"
      ]
     },
     "execution_count": 2,
     "metadata": {},
     "output_type": "execute_result"
    }
   ],
   "source": [
    "train = pd.read_csv('train.csv')\n",
    "\n",
    "train.sample(2)"
   ]
  },
  {
   "cell_type": "code",
   "execution_count": 3,
   "metadata": {
    "scrolled": true
   },
   "outputs": [
    {
     "data": {
      "text/html": [
       "<div>\n",
       "<style scoped>\n",
       "    .dataframe tbody tr th:only-of-type {\n",
       "        vertical-align: middle;\n",
       "    }\n",
       "\n",
       "    .dataframe tbody tr th {\n",
       "        vertical-align: top;\n",
       "    }\n",
       "\n",
       "    .dataframe thead th {\n",
       "        text-align: right;\n",
       "    }\n",
       "</style>\n",
       "<table border=\"1\" class=\"dataframe\">\n",
       "  <thead>\n",
       "    <tr style=\"text-align: right;\">\n",
       "      <th></th>\n",
       "      <th>LIMIT_BAL</th>\n",
       "      <th>SEX</th>\n",
       "      <th>EDUCATION</th>\n",
       "      <th>MARRIAGE</th>\n",
       "      <th>AGE</th>\n",
       "      <th>PAY_0</th>\n",
       "      <th>PAY_2</th>\n",
       "      <th>PAY_3</th>\n",
       "      <th>PAY_4</th>\n",
       "      <th>PAY_5</th>\n",
       "      <th>...</th>\n",
       "      <th>BILL_AMT3</th>\n",
       "      <th>BILL_AMT4</th>\n",
       "      <th>BILL_AMT5</th>\n",
       "      <th>BILL_AMT6</th>\n",
       "      <th>PAY_AMT1</th>\n",
       "      <th>PAY_AMT2</th>\n",
       "      <th>PAY_AMT3</th>\n",
       "      <th>PAY_AMT4</th>\n",
       "      <th>PAY_AMT5</th>\n",
       "      <th>PAY_AMT6</th>\n",
       "    </tr>\n",
       "  </thead>\n",
       "  <tbody>\n",
       "    <tr>\n",
       "      <td>1579</td>\n",
       "      <td>210000.0</td>\n",
       "      <td>2</td>\n",
       "      <td>1</td>\n",
       "      <td>1</td>\n",
       "      <td>54</td>\n",
       "      <td>-1</td>\n",
       "      <td>-1</td>\n",
       "      <td>-1</td>\n",
       "      <td>-1</td>\n",
       "      <td>-1</td>\n",
       "      <td>...</td>\n",
       "      <td>11755.0</td>\n",
       "      <td>5808.0</td>\n",
       "      <td>3974.0</td>\n",
       "      <td>0.0</td>\n",
       "      <td>6555.0</td>\n",
       "      <td>11800.0</td>\n",
       "      <td>5818.0</td>\n",
       "      <td>4015.0</td>\n",
       "      <td>0.0</td>\n",
       "      <td>0.0</td>\n",
       "    </tr>\n",
       "    <tr>\n",
       "      <td>2260</td>\n",
       "      <td>100000.0</td>\n",
       "      <td>2</td>\n",
       "      <td>1</td>\n",
       "      <td>2</td>\n",
       "      <td>32</td>\n",
       "      <td>0</td>\n",
       "      <td>-1</td>\n",
       "      <td>0</td>\n",
       "      <td>0</td>\n",
       "      <td>0</td>\n",
       "      <td>...</td>\n",
       "      <td>104346.0</td>\n",
       "      <td>91025.0</td>\n",
       "      <td>91120.0</td>\n",
       "      <td>1777.0</td>\n",
       "      <td>6157.0</td>\n",
       "      <td>100000.0</td>\n",
       "      <td>2017.0</td>\n",
       "      <td>1822.0</td>\n",
       "      <td>1777.0</td>\n",
       "      <td>7748.0</td>\n",
       "    </tr>\n",
       "  </tbody>\n",
       "</table>\n",
       "<p>2 rows × 23 columns</p>\n",
       "</div>"
      ],
      "text/plain": [
       "      LIMIT_BAL  SEX  EDUCATION  MARRIAGE  AGE  PAY_0  PAY_2  PAY_3  PAY_4  \\\n",
       "1579   210000.0    2          1         1   54     -1     -1     -1     -1   \n",
       "2260   100000.0    2          1         2   32      0     -1      0      0   \n",
       "\n",
       "      PAY_5  ...  BILL_AMT3  BILL_AMT4  BILL_AMT5  BILL_AMT6  PAY_AMT1  \\\n",
       "1579     -1  ...    11755.0     5808.0     3974.0        0.0    6555.0   \n",
       "2260      0  ...   104346.0    91025.0    91120.0     1777.0    6157.0   \n",
       "\n",
       "      PAY_AMT2  PAY_AMT3  PAY_AMT4  PAY_AMT5  PAY_AMT6  \n",
       "1579   11800.0    5818.0    4015.0       0.0       0.0  \n",
       "2260  100000.0    2017.0    1822.0    1777.0    7748.0  \n",
       "\n",
       "[2 rows x 23 columns]"
      ]
     },
     "execution_count": 3,
     "metadata": {},
     "output_type": "execute_result"
    }
   ],
   "source": [
    "test = pd.read_csv('test-3.csv')\n",
    "\n",
    "test.sample(2)"
   ]
  },
  {
   "cell_type": "code",
   "execution_count": 4,
   "metadata": {
    "scrolled": false
   },
   "outputs": [
    {
     "name": "stderr",
     "output_type": "stream",
     "text": [
      "/Users/raffaeleanselmo/anaconda3/envs/AML/lib/python3.7/site-packages/pandas/core/frame.py:7123: FutureWarning: Sorting because non-concatenation axis is not aligned. A future version\n",
      "of pandas will change to not sort by default.\n",
      "\n",
      "To accept the future behavior, pass 'sort=False'.\n",
      "\n",
      "To retain the current behavior and silence the warning, pass 'sort=True'.\n",
      "\n",
      "  sort=sort,\n"
     ]
    }
   ],
   "source": [
    "df = train.append(test)"
   ]
  },
  {
   "cell_type": "code",
   "execution_count": 5,
   "metadata": {},
   "outputs": [
    {
     "data": {
      "text/html": [
       "<div>\n",
       "<style scoped>\n",
       "    .dataframe tbody tr th:only-of-type {\n",
       "        vertical-align: middle;\n",
       "    }\n",
       "\n",
       "    .dataframe tbody tr th {\n",
       "        vertical-align: top;\n",
       "    }\n",
       "\n",
       "    .dataframe thead th {\n",
       "        text-align: right;\n",
       "    }\n",
       "</style>\n",
       "<table border=\"1\" class=\"dataframe\">\n",
       "  <thead>\n",
       "    <tr style=\"text-align: right;\">\n",
       "      <th></th>\n",
       "      <th>AGE</th>\n",
       "      <th>BILL_AMT1</th>\n",
       "      <th>BILL_AMT2</th>\n",
       "      <th>BILL_AMT3</th>\n",
       "      <th>BILL_AMT4</th>\n",
       "      <th>BILL_AMT5</th>\n",
       "      <th>BILL_AMT6</th>\n",
       "      <th>EDUCATION</th>\n",
       "      <th>LIMIT_BAL</th>\n",
       "      <th>MARRIAGE</th>\n",
       "      <th>...</th>\n",
       "      <th>PAY_5</th>\n",
       "      <th>PAY_6</th>\n",
       "      <th>PAY_AMT1</th>\n",
       "      <th>PAY_AMT2</th>\n",
       "      <th>PAY_AMT3</th>\n",
       "      <th>PAY_AMT4</th>\n",
       "      <th>PAY_AMT5</th>\n",
       "      <th>PAY_AMT6</th>\n",
       "      <th>SEX</th>\n",
       "      <th>default.payment.next.month</th>\n",
       "    </tr>\n",
       "  </thead>\n",
       "  <tbody>\n",
       "    <tr>\n",
       "      <td>13991</td>\n",
       "      <td>43</td>\n",
       "      <td>172.0</td>\n",
       "      <td>1930.0</td>\n",
       "      <td>1752.0</td>\n",
       "      <td>3710.0</td>\n",
       "      <td>3848.0</td>\n",
       "      <td>4285.0</td>\n",
       "      <td>2</td>\n",
       "      <td>290000.0</td>\n",
       "      <td>1</td>\n",
       "      <td>...</td>\n",
       "      <td>0</td>\n",
       "      <td>0</td>\n",
       "      <td>1930.0</td>\n",
       "      <td>0.0</td>\n",
       "      <td>2000.0</td>\n",
       "      <td>200.0</td>\n",
       "      <td>500.0</td>\n",
       "      <td>0.0</td>\n",
       "      <td>1</td>\n",
       "      <td>0.0</td>\n",
       "    </tr>\n",
       "    <tr>\n",
       "      <td>2723</td>\n",
       "      <td>27</td>\n",
       "      <td>543.0</td>\n",
       "      <td>2070.0</td>\n",
       "      <td>370.0</td>\n",
       "      <td>-20.0</td>\n",
       "      <td>780.0</td>\n",
       "      <td>0.0</td>\n",
       "      <td>6</td>\n",
       "      <td>20000.0</td>\n",
       "      <td>2</td>\n",
       "      <td>...</td>\n",
       "      <td>-1</td>\n",
       "      <td>-1</td>\n",
       "      <td>1100.0</td>\n",
       "      <td>5193.0</td>\n",
       "      <td>0.0</td>\n",
       "      <td>800.0</td>\n",
       "      <td>0.0</td>\n",
       "      <td>0.0</td>\n",
       "      <td>1</td>\n",
       "      <td>NaN</td>\n",
       "    </tr>\n",
       "    <tr>\n",
       "      <td>137</td>\n",
       "      <td>51</td>\n",
       "      <td>60557.0</td>\n",
       "      <td>58563.0</td>\n",
       "      <td>27436.0</td>\n",
       "      <td>29752.0</td>\n",
       "      <td>30351.0</td>\n",
       "      <td>28871.0</td>\n",
       "      <td>2</td>\n",
       "      <td>60000.0</td>\n",
       "      <td>1</td>\n",
       "      <td>...</td>\n",
       "      <td>0</td>\n",
       "      <td>0</td>\n",
       "      <td>3040.0</td>\n",
       "      <td>3000.0</td>\n",
       "      <td>3000.0</td>\n",
       "      <td>4000.0</td>\n",
       "      <td>2000.0</td>\n",
       "      <td>3000.0</td>\n",
       "      <td>1</td>\n",
       "      <td>NaN</td>\n",
       "    </tr>\n",
       "    <tr>\n",
       "      <td>3325</td>\n",
       "      <td>29</td>\n",
       "      <td>24802.0</td>\n",
       "      <td>27551.0</td>\n",
       "      <td>20559.0</td>\n",
       "      <td>17228.0</td>\n",
       "      <td>6531.0</td>\n",
       "      <td>8411.0</td>\n",
       "      <td>1</td>\n",
       "      <td>90000.0</td>\n",
       "      <td>2</td>\n",
       "      <td>...</td>\n",
       "      <td>0</td>\n",
       "      <td>0</td>\n",
       "      <td>3200.0</td>\n",
       "      <td>0.0</td>\n",
       "      <td>1000.0</td>\n",
       "      <td>1000.0</td>\n",
       "      <td>2000.0</td>\n",
       "      <td>0.0</td>\n",
       "      <td>1</td>\n",
       "      <td>0.0</td>\n",
       "    </tr>\n",
       "    <tr>\n",
       "      <td>24278</td>\n",
       "      <td>37</td>\n",
       "      <td>41030.0</td>\n",
       "      <td>40120.0</td>\n",
       "      <td>51591.0</td>\n",
       "      <td>67772.0</td>\n",
       "      <td>71846.0</td>\n",
       "      <td>68876.0</td>\n",
       "      <td>2</td>\n",
       "      <td>210000.0</td>\n",
       "      <td>1</td>\n",
       "      <td>...</td>\n",
       "      <td>0</td>\n",
       "      <td>0</td>\n",
       "      <td>3012.0</td>\n",
       "      <td>15065.0</td>\n",
       "      <td>30002.0</td>\n",
       "      <td>5023.0</td>\n",
       "      <td>2149.0</td>\n",
       "      <td>3041.0</td>\n",
       "      <td>1</td>\n",
       "      <td>0.0</td>\n",
       "    </tr>\n",
       "  </tbody>\n",
       "</table>\n",
       "<p>5 rows × 24 columns</p>\n",
       "</div>"
      ],
      "text/plain": [
       "       AGE  BILL_AMT1  BILL_AMT2  BILL_AMT3  BILL_AMT4  BILL_AMT5  BILL_AMT6  \\\n",
       "13991   43      172.0     1930.0     1752.0     3710.0     3848.0     4285.0   \n",
       "2723    27      543.0     2070.0      370.0      -20.0      780.0        0.0   \n",
       "137     51    60557.0    58563.0    27436.0    29752.0    30351.0    28871.0   \n",
       "3325    29    24802.0    27551.0    20559.0    17228.0     6531.0     8411.0   \n",
       "24278   37    41030.0    40120.0    51591.0    67772.0    71846.0    68876.0   \n",
       "\n",
       "       EDUCATION  LIMIT_BAL  MARRIAGE  ...  PAY_5  PAY_6  PAY_AMT1  PAY_AMT2  \\\n",
       "13991          2   290000.0         1  ...      0      0    1930.0       0.0   \n",
       "2723           6    20000.0         2  ...     -1     -1    1100.0    5193.0   \n",
       "137            2    60000.0         1  ...      0      0    3040.0    3000.0   \n",
       "3325           1    90000.0         2  ...      0      0    3200.0       0.0   \n",
       "24278          2   210000.0         1  ...      0      0    3012.0   15065.0   \n",
       "\n",
       "       PAY_AMT3  PAY_AMT4  PAY_AMT5  PAY_AMT6  SEX  default.payment.next.month  \n",
       "13991    2000.0     200.0     500.0       0.0    1                         0.0  \n",
       "2723        0.0     800.0       0.0       0.0    1                         NaN  \n",
       "137      3000.0    4000.0    2000.0    3000.0    1                         NaN  \n",
       "3325     1000.0    1000.0    2000.0       0.0    1                         0.0  \n",
       "24278   30002.0    5023.0    2149.0    3041.0    1                         0.0  \n",
       "\n",
       "[5 rows x 24 columns]"
      ]
     },
     "execution_count": 5,
     "metadata": {},
     "output_type": "execute_result"
    }
   ],
   "source": [
    "df.sample(5)"
   ]
  },
  {
   "cell_type": "markdown",
   "metadata": {},
   "source": [
    "## Check missing data"
   ]
  },
  {
   "cell_type": "code",
   "execution_count": 1,
   "metadata": {
    "scrolled": false
   },
   "outputs": [
    {
     "ename": "NameError",
     "evalue": "name 'traini' is not defined",
     "output_type": "error",
     "traceback": [
      "\u001b[0;31m---------------------------------------------------------------------------\u001b[0m",
      "\u001b[0;31mNameError\u001b[0m                                 Traceback (most recent call last)",
      "\u001b[0;32m<ipython-input-1-e6c216b2e926>\u001b[0m in \u001b[0;36m<module>\u001b[0;34m\u001b[0m\n\u001b[0;32m----> 1\u001b[0;31m \u001b[0mtraini\u001b[0m\u001b[0;34m.\u001b[0m\u001b[0minfo\u001b[0m\u001b[0;34m(\u001b[0m\u001b[0;34m)\u001b[0m\u001b[0;34m\u001b[0m\u001b[0;34m\u001b[0m\u001b[0m\n\u001b[0m",
      "\u001b[0;31mNameError\u001b[0m: name 'traini' is not defined"
     ]
    }
   ],
   "source": [
    "train.info()"
   ]
  },
  {
   "cell_type": "code",
   "execution_count": 7,
   "metadata": {},
   "outputs": [
    {
     "name": "stdout",
     "output_type": "stream",
     "text": [
      "<class 'pandas.core.frame.DataFrame'>\n",
      "RangeIndex: 3000 entries, 0 to 2999\n",
      "Data columns (total 23 columns):\n",
      "LIMIT_BAL    3000 non-null float64\n",
      "SEX          3000 non-null int64\n",
      "EDUCATION    3000 non-null int64\n",
      "MARRIAGE     3000 non-null int64\n",
      "AGE          3000 non-null int64\n",
      "PAY_0        3000 non-null int64\n",
      "PAY_2        3000 non-null int64\n",
      "PAY_3        3000 non-null int64\n",
      "PAY_4        3000 non-null int64\n",
      "PAY_5        3000 non-null int64\n",
      "PAY_6        3000 non-null int64\n",
      "BILL_AMT1    3000 non-null float64\n",
      "BILL_AMT2    3000 non-null float64\n",
      "BILL_AMT3    3000 non-null float64\n",
      "BILL_AMT4    3000 non-null float64\n",
      "BILL_AMT5    3000 non-null float64\n",
      "BILL_AMT6    3000 non-null float64\n",
      "PAY_AMT1     3000 non-null float64\n",
      "PAY_AMT2     3000 non-null float64\n",
      "PAY_AMT3     3000 non-null float64\n",
      "PAY_AMT4     3000 non-null float64\n",
      "PAY_AMT5     3000 non-null float64\n",
      "PAY_AMT6     3000 non-null float64\n",
      "dtypes: float64(13), int64(10)\n",
      "memory usage: 539.2 KB\n"
     ]
    }
   ],
   "source": [
    "test.info()"
   ]
  },
  {
   "cell_type": "markdown",
   "metadata": {},
   "source": [
    "## Dataset Overview"
   ]
  },
  {
   "cell_type": "code",
   "execution_count": 8,
   "metadata": {
    "scrolled": true
   },
   "outputs": [
    {
     "data": {
      "text/html": [
       "<div>\n",
       "<style scoped>\n",
       "    .dataframe tbody tr th:only-of-type {\n",
       "        vertical-align: middle;\n",
       "    }\n",
       "\n",
       "    .dataframe tbody tr th {\n",
       "        vertical-align: top;\n",
       "    }\n",
       "\n",
       "    .dataframe thead th {\n",
       "        text-align: right;\n",
       "    }\n",
       "</style>\n",
       "<table border=\"1\" class=\"dataframe\">\n",
       "  <thead>\n",
       "    <tr style=\"text-align: right;\">\n",
       "      <th></th>\n",
       "      <th>SEX</th>\n",
       "      <th>EDUCATION</th>\n",
       "      <th>MARRIAGE</th>\n",
       "    </tr>\n",
       "  </thead>\n",
       "  <tbody>\n",
       "    <tr>\n",
       "      <td>count</td>\n",
       "      <td>30000.000000</td>\n",
       "      <td>30000.000000</td>\n",
       "      <td>30000.000000</td>\n",
       "    </tr>\n",
       "    <tr>\n",
       "      <td>mean</td>\n",
       "      <td>1.603733</td>\n",
       "      <td>1.853133</td>\n",
       "      <td>1.551867</td>\n",
       "    </tr>\n",
       "    <tr>\n",
       "      <td>std</td>\n",
       "      <td>0.489129</td>\n",
       "      <td>0.790349</td>\n",
       "      <td>0.521970</td>\n",
       "    </tr>\n",
       "    <tr>\n",
       "      <td>min</td>\n",
       "      <td>1.000000</td>\n",
       "      <td>0.000000</td>\n",
       "      <td>0.000000</td>\n",
       "    </tr>\n",
       "    <tr>\n",
       "      <td>25%</td>\n",
       "      <td>1.000000</td>\n",
       "      <td>1.000000</td>\n",
       "      <td>1.000000</td>\n",
       "    </tr>\n",
       "    <tr>\n",
       "      <td>50%</td>\n",
       "      <td>2.000000</td>\n",
       "      <td>2.000000</td>\n",
       "      <td>2.000000</td>\n",
       "    </tr>\n",
       "    <tr>\n",
       "      <td>75%</td>\n",
       "      <td>2.000000</td>\n",
       "      <td>2.000000</td>\n",
       "      <td>2.000000</td>\n",
       "    </tr>\n",
       "    <tr>\n",
       "      <td>max</td>\n",
       "      <td>2.000000</td>\n",
       "      <td>6.000000</td>\n",
       "      <td>3.000000</td>\n",
       "    </tr>\n",
       "  </tbody>\n",
       "</table>\n",
       "</div>"
      ],
      "text/plain": [
       "                SEX     EDUCATION      MARRIAGE\n",
       "count  30000.000000  30000.000000  30000.000000\n",
       "mean       1.603733      1.853133      1.551867\n",
       "std        0.489129      0.790349      0.521970\n",
       "min        1.000000      0.000000      0.000000\n",
       "25%        1.000000      1.000000      1.000000\n",
       "50%        2.000000      2.000000      2.000000\n",
       "75%        2.000000      2.000000      2.000000\n",
       "max        2.000000      6.000000      3.000000"
      ]
     },
     "execution_count": 8,
     "metadata": {},
     "output_type": "execute_result"
    }
   ],
   "source": [
    "df[['SEX', 'EDUCATION', 'MARRIAGE']].describe()"
   ]
  },
  {
   "cell_type": "markdown",
   "metadata": {},
   "source": [
    "Da un'analisi preliminare delle variabili non si evidenziano valori mancanti. Tuttavia le variabili categoriche \"Education\" e \"Marriage\" assumono alcuni valori non documentati nelle informazioni disponibili sul dataset."
   ]
  },
  {
   "cell_type": "code",
   "execution_count": 9,
   "metadata": {},
   "outputs": [
    {
     "data": {
      "text/html": [
       "<div>\n",
       "<style scoped>\n",
       "    .dataframe tbody tr th:only-of-type {\n",
       "        vertical-align: middle;\n",
       "    }\n",
       "\n",
       "    .dataframe tbody tr th {\n",
       "        vertical-align: top;\n",
       "    }\n",
       "\n",
       "    .dataframe thead th {\n",
       "        text-align: right;\n",
       "    }\n",
       "</style>\n",
       "<table border=\"1\" class=\"dataframe\">\n",
       "  <thead>\n",
       "    <tr style=\"text-align: right;\">\n",
       "      <th></th>\n",
       "      <th>PAY_0</th>\n",
       "      <th>PAY_2</th>\n",
       "      <th>PAY_3</th>\n",
       "      <th>PAY_4</th>\n",
       "      <th>PAY_5</th>\n",
       "      <th>PAY_6</th>\n",
       "    </tr>\n",
       "  </thead>\n",
       "  <tbody>\n",
       "    <tr>\n",
       "      <td>count</td>\n",
       "      <td>30000.000000</td>\n",
       "      <td>30000.000000</td>\n",
       "      <td>30000.000000</td>\n",
       "      <td>30000.000000</td>\n",
       "      <td>30000.000000</td>\n",
       "      <td>30000.000000</td>\n",
       "    </tr>\n",
       "    <tr>\n",
       "      <td>mean</td>\n",
       "      <td>-0.016700</td>\n",
       "      <td>-0.133767</td>\n",
       "      <td>-0.166200</td>\n",
       "      <td>-0.220667</td>\n",
       "      <td>-0.266200</td>\n",
       "      <td>-0.291100</td>\n",
       "    </tr>\n",
       "    <tr>\n",
       "      <td>std</td>\n",
       "      <td>1.123802</td>\n",
       "      <td>1.197186</td>\n",
       "      <td>1.196868</td>\n",
       "      <td>1.169139</td>\n",
       "      <td>1.133187</td>\n",
       "      <td>1.149988</td>\n",
       "    </tr>\n",
       "    <tr>\n",
       "      <td>min</td>\n",
       "      <td>-2.000000</td>\n",
       "      <td>-2.000000</td>\n",
       "      <td>-2.000000</td>\n",
       "      <td>-2.000000</td>\n",
       "      <td>-2.000000</td>\n",
       "      <td>-2.000000</td>\n",
       "    </tr>\n",
       "    <tr>\n",
       "      <td>25%</td>\n",
       "      <td>-1.000000</td>\n",
       "      <td>-1.000000</td>\n",
       "      <td>-1.000000</td>\n",
       "      <td>-1.000000</td>\n",
       "      <td>-1.000000</td>\n",
       "      <td>-1.000000</td>\n",
       "    </tr>\n",
       "    <tr>\n",
       "      <td>50%</td>\n",
       "      <td>0.000000</td>\n",
       "      <td>0.000000</td>\n",
       "      <td>0.000000</td>\n",
       "      <td>0.000000</td>\n",
       "      <td>0.000000</td>\n",
       "      <td>0.000000</td>\n",
       "    </tr>\n",
       "    <tr>\n",
       "      <td>75%</td>\n",
       "      <td>0.000000</td>\n",
       "      <td>0.000000</td>\n",
       "      <td>0.000000</td>\n",
       "      <td>0.000000</td>\n",
       "      <td>0.000000</td>\n",
       "      <td>0.000000</td>\n",
       "    </tr>\n",
       "    <tr>\n",
       "      <td>max</td>\n",
       "      <td>8.000000</td>\n",
       "      <td>8.000000</td>\n",
       "      <td>8.000000</td>\n",
       "      <td>8.000000</td>\n",
       "      <td>8.000000</td>\n",
       "      <td>8.000000</td>\n",
       "    </tr>\n",
       "  </tbody>\n",
       "</table>\n",
       "</div>"
      ],
      "text/plain": [
       "              PAY_0         PAY_2         PAY_3         PAY_4         PAY_5  \\\n",
       "count  30000.000000  30000.000000  30000.000000  30000.000000  30000.000000   \n",
       "mean      -0.016700     -0.133767     -0.166200     -0.220667     -0.266200   \n",
       "std        1.123802      1.197186      1.196868      1.169139      1.133187   \n",
       "min       -2.000000     -2.000000     -2.000000     -2.000000     -2.000000   \n",
       "25%       -1.000000     -1.000000     -1.000000     -1.000000     -1.000000   \n",
       "50%        0.000000      0.000000      0.000000      0.000000      0.000000   \n",
       "75%        0.000000      0.000000      0.000000      0.000000      0.000000   \n",
       "max        8.000000      8.000000      8.000000      8.000000      8.000000   \n",
       "\n",
       "              PAY_6  \n",
       "count  30000.000000  \n",
       "mean      -0.291100  \n",
       "std        1.149988  \n",
       "min       -2.000000  \n",
       "25%       -1.000000  \n",
       "50%        0.000000  \n",
       "75%        0.000000  \n",
       "max        8.000000  "
      ]
     },
     "execution_count": 9,
     "metadata": {},
     "output_type": "execute_result"
    }
   ],
   "source": [
    "df[['PAY_0', 'PAY_2', 'PAY_3', 'PAY_4', 'PAY_5', 'PAY_6']].describe()"
   ]
  },
  {
   "cell_type": "markdown",
   "metadata": {},
   "source": [
    "Anche in questo caso si evidenzia la presenza di un valore non documentato (-2) per tutte le variabili relative allo stato dei pagamenti precedenti \"PAY_X\"."
   ]
  },
  {
   "cell_type": "code",
   "execution_count": 10,
   "metadata": {},
   "outputs": [],
   "source": [
    "df = df.rename(columns={'PAY_0': 'PAY_1'})"
   ]
  },
  {
   "cell_type": "code",
   "execution_count": 11,
   "metadata": {
    "scrolled": true
   },
   "outputs": [
    {
     "data": {
      "text/html": [
       "<div>\n",
       "<style scoped>\n",
       "    .dataframe tbody tr th:only-of-type {\n",
       "        vertical-align: middle;\n",
       "    }\n",
       "\n",
       "    .dataframe tbody tr th {\n",
       "        vertical-align: top;\n",
       "    }\n",
       "\n",
       "    .dataframe thead th {\n",
       "        text-align: right;\n",
       "    }\n",
       "</style>\n",
       "<table border=\"1\" class=\"dataframe\">\n",
       "  <thead>\n",
       "    <tr style=\"text-align: right;\">\n",
       "      <th></th>\n",
       "      <th>BILL_AMT1</th>\n",
       "      <th>BILL_AMT2</th>\n",
       "      <th>BILL_AMT3</th>\n",
       "      <th>BILL_AMT4</th>\n",
       "      <th>BILL_AMT5</th>\n",
       "      <th>BILL_AMT6</th>\n",
       "    </tr>\n",
       "  </thead>\n",
       "  <tbody>\n",
       "    <tr>\n",
       "      <td>count</td>\n",
       "      <td>30000.000000</td>\n",
       "      <td>30000.000000</td>\n",
       "      <td>3.000000e+04</td>\n",
       "      <td>30000.000000</td>\n",
       "      <td>30000.000000</td>\n",
       "      <td>30000.000000</td>\n",
       "    </tr>\n",
       "    <tr>\n",
       "      <td>mean</td>\n",
       "      <td>51223.330900</td>\n",
       "      <td>49179.075167</td>\n",
       "      <td>4.701315e+04</td>\n",
       "      <td>43262.948967</td>\n",
       "      <td>40311.400967</td>\n",
       "      <td>38871.760400</td>\n",
       "    </tr>\n",
       "    <tr>\n",
       "      <td>std</td>\n",
       "      <td>73635.860576</td>\n",
       "      <td>71173.768783</td>\n",
       "      <td>6.934939e+04</td>\n",
       "      <td>64332.856134</td>\n",
       "      <td>60797.155770</td>\n",
       "      <td>59554.107537</td>\n",
       "    </tr>\n",
       "    <tr>\n",
       "      <td>min</td>\n",
       "      <td>-165580.000000</td>\n",
       "      <td>-69777.000000</td>\n",
       "      <td>-1.572640e+05</td>\n",
       "      <td>-170000.000000</td>\n",
       "      <td>-81334.000000</td>\n",
       "      <td>-339603.000000</td>\n",
       "    </tr>\n",
       "    <tr>\n",
       "      <td>25%</td>\n",
       "      <td>3558.750000</td>\n",
       "      <td>2984.750000</td>\n",
       "      <td>2.666250e+03</td>\n",
       "      <td>2326.750000</td>\n",
       "      <td>1763.000000</td>\n",
       "      <td>1256.000000</td>\n",
       "    </tr>\n",
       "    <tr>\n",
       "      <td>50%</td>\n",
       "      <td>22381.500000</td>\n",
       "      <td>21200.000000</td>\n",
       "      <td>2.008850e+04</td>\n",
       "      <td>19052.000000</td>\n",
       "      <td>18104.500000</td>\n",
       "      <td>17071.000000</td>\n",
       "    </tr>\n",
       "    <tr>\n",
       "      <td>75%</td>\n",
       "      <td>67091.000000</td>\n",
       "      <td>64006.250000</td>\n",
       "      <td>6.016475e+04</td>\n",
       "      <td>54506.000000</td>\n",
       "      <td>50190.500000</td>\n",
       "      <td>49198.250000</td>\n",
       "    </tr>\n",
       "    <tr>\n",
       "      <td>max</td>\n",
       "      <td>964511.000000</td>\n",
       "      <td>983931.000000</td>\n",
       "      <td>1.664089e+06</td>\n",
       "      <td>891586.000000</td>\n",
       "      <td>927171.000000</td>\n",
       "      <td>961664.000000</td>\n",
       "    </tr>\n",
       "  </tbody>\n",
       "</table>\n",
       "</div>"
      ],
      "text/plain": [
       "           BILL_AMT1      BILL_AMT2     BILL_AMT3      BILL_AMT4  \\\n",
       "count   30000.000000   30000.000000  3.000000e+04   30000.000000   \n",
       "mean    51223.330900   49179.075167  4.701315e+04   43262.948967   \n",
       "std     73635.860576   71173.768783  6.934939e+04   64332.856134   \n",
       "min   -165580.000000  -69777.000000 -1.572640e+05 -170000.000000   \n",
       "25%      3558.750000    2984.750000  2.666250e+03    2326.750000   \n",
       "50%     22381.500000   21200.000000  2.008850e+04   19052.000000   \n",
       "75%     67091.000000   64006.250000  6.016475e+04   54506.000000   \n",
       "max    964511.000000  983931.000000  1.664089e+06  891586.000000   \n",
       "\n",
       "           BILL_AMT5      BILL_AMT6  \n",
       "count   30000.000000   30000.000000  \n",
       "mean    40311.400967   38871.760400  \n",
       "std     60797.155770   59554.107537  \n",
       "min    -81334.000000 -339603.000000  \n",
       "25%      1763.000000    1256.000000  \n",
       "50%     18104.500000   17071.000000  \n",
       "75%     50190.500000   49198.250000  \n",
       "max    927171.000000  961664.000000  "
      ]
     },
     "execution_count": 11,
     "metadata": {},
     "output_type": "execute_result"
    }
   ],
   "source": [
    "df[['BILL_AMT1', 'BILL_AMT2', 'BILL_AMT3', 'BILL_AMT4', 'BILL_AMT5', 'BILL_AMT6']].describe()"
   ]
  },
  {
   "cell_type": "markdown",
   "metadata": {},
   "source": [
    "In questo caso si evidenziano i valori di minimo che assumono valori negativi, questi potrebbero tuttavia riferirsi in maniera plausibile al contesto a situazioni di credito."
   ]
  },
  {
   "cell_type": "code",
   "execution_count": 12,
   "metadata": {
    "scrolled": true
   },
   "outputs": [
    {
     "data": {
      "text/html": [
       "<div>\n",
       "<style scoped>\n",
       "    .dataframe tbody tr th:only-of-type {\n",
       "        vertical-align: middle;\n",
       "    }\n",
       "\n",
       "    .dataframe tbody tr th {\n",
       "        vertical-align: top;\n",
       "    }\n",
       "\n",
       "    .dataframe thead th {\n",
       "        text-align: right;\n",
       "    }\n",
       "</style>\n",
       "<table border=\"1\" class=\"dataframe\">\n",
       "  <thead>\n",
       "    <tr style=\"text-align: right;\">\n",
       "      <th></th>\n",
       "      <th>PAY_AMT1</th>\n",
       "      <th>PAY_AMT2</th>\n",
       "      <th>PAY_AMT3</th>\n",
       "      <th>PAY_AMT4</th>\n",
       "      <th>PAY_AMT5</th>\n",
       "      <th>PAY_AMT6</th>\n",
       "    </tr>\n",
       "  </thead>\n",
       "  <tbody>\n",
       "    <tr>\n",
       "      <td>count</td>\n",
       "      <td>30000.000000</td>\n",
       "      <td>3.000000e+04</td>\n",
       "      <td>30000.00000</td>\n",
       "      <td>30000.000000</td>\n",
       "      <td>30000.000000</td>\n",
       "      <td>30000.000000</td>\n",
       "    </tr>\n",
       "    <tr>\n",
       "      <td>mean</td>\n",
       "      <td>5663.580500</td>\n",
       "      <td>5.921163e+03</td>\n",
       "      <td>5225.68150</td>\n",
       "      <td>4826.076867</td>\n",
       "      <td>4799.387633</td>\n",
       "      <td>5215.502567</td>\n",
       "    </tr>\n",
       "    <tr>\n",
       "      <td>std</td>\n",
       "      <td>16563.280354</td>\n",
       "      <td>2.304087e+04</td>\n",
       "      <td>17606.96147</td>\n",
       "      <td>15666.159744</td>\n",
       "      <td>15278.305679</td>\n",
       "      <td>17777.465775</td>\n",
       "    </tr>\n",
       "    <tr>\n",
       "      <td>min</td>\n",
       "      <td>0.000000</td>\n",
       "      <td>0.000000e+00</td>\n",
       "      <td>0.00000</td>\n",
       "      <td>0.000000</td>\n",
       "      <td>0.000000</td>\n",
       "      <td>0.000000</td>\n",
       "    </tr>\n",
       "    <tr>\n",
       "      <td>25%</td>\n",
       "      <td>1000.000000</td>\n",
       "      <td>8.330000e+02</td>\n",
       "      <td>390.00000</td>\n",
       "      <td>296.000000</td>\n",
       "      <td>252.500000</td>\n",
       "      <td>117.750000</td>\n",
       "    </tr>\n",
       "    <tr>\n",
       "      <td>50%</td>\n",
       "      <td>2100.000000</td>\n",
       "      <td>2.009000e+03</td>\n",
       "      <td>1800.00000</td>\n",
       "      <td>1500.000000</td>\n",
       "      <td>1500.000000</td>\n",
       "      <td>1500.000000</td>\n",
       "    </tr>\n",
       "    <tr>\n",
       "      <td>75%</td>\n",
       "      <td>5006.000000</td>\n",
       "      <td>5.000000e+03</td>\n",
       "      <td>4505.00000</td>\n",
       "      <td>4013.250000</td>\n",
       "      <td>4031.500000</td>\n",
       "      <td>4000.000000</td>\n",
       "    </tr>\n",
       "    <tr>\n",
       "      <td>max</td>\n",
       "      <td>873552.000000</td>\n",
       "      <td>1.684259e+06</td>\n",
       "      <td>896040.00000</td>\n",
       "      <td>621000.000000</td>\n",
       "      <td>426529.000000</td>\n",
       "      <td>528666.000000</td>\n",
       "    </tr>\n",
       "  </tbody>\n",
       "</table>\n",
       "</div>"
      ],
      "text/plain": [
       "            PAY_AMT1      PAY_AMT2      PAY_AMT3       PAY_AMT4  \\\n",
       "count   30000.000000  3.000000e+04   30000.00000   30000.000000   \n",
       "mean     5663.580500  5.921163e+03    5225.68150    4826.076867   \n",
       "std     16563.280354  2.304087e+04   17606.96147   15666.159744   \n",
       "min         0.000000  0.000000e+00       0.00000       0.000000   \n",
       "25%      1000.000000  8.330000e+02     390.00000     296.000000   \n",
       "50%      2100.000000  2.009000e+03    1800.00000    1500.000000   \n",
       "75%      5006.000000  5.000000e+03    4505.00000    4013.250000   \n",
       "max    873552.000000  1.684259e+06  896040.00000  621000.000000   \n",
       "\n",
       "            PAY_AMT5       PAY_AMT6  \n",
       "count   30000.000000   30000.000000  \n",
       "mean     4799.387633    5215.502567  \n",
       "std     15278.305679   17777.465775  \n",
       "min         0.000000       0.000000  \n",
       "25%       252.500000     117.750000  \n",
       "50%      1500.000000    1500.000000  \n",
       "75%      4031.500000    4000.000000  \n",
       "max    426529.000000  528666.000000  "
      ]
     },
     "execution_count": 12,
     "metadata": {},
     "output_type": "execute_result"
    }
   ],
   "source": [
    "df[['PAY_AMT1', 'PAY_AMT2', 'PAY_AMT3', 'PAY_AMT4', 'PAY_AMT5', 'PAY_AMT6']].describe()"
   ]
  },
  {
   "cell_type": "markdown",
   "metadata": {},
   "source": [
    "# Data exploration"
   ]
  },
  {
   "cell_type": "code",
   "execution_count": 13,
   "metadata": {},
   "outputs": [],
   "source": [
    "import seaborn as sns"
   ]
  },
  {
   "cell_type": "markdown",
   "metadata": {},
   "source": [
    "## Check for unbalanced class"
   ]
  },
  {
   "cell_type": "markdown",
   "metadata": {},
   "source": [
    "Considerando che il nostro task principale è quello di sviluppare un modello predittivo verifichiamo la distribuzione delle classi della variabile target \"default payment next month\""
   ]
  },
  {
   "cell_type": "code",
   "execution_count": 14,
   "metadata": {},
   "outputs": [
    {
     "data": {
      "image/png": "[encoded data removed]",
      "text/plain": [
       "<Figure size 720x360 with 1 Axes>"
      ]
     },
     "metadata": {
      "needs_background": "light"
     },
     "output_type": "display_data"
    }
   ],
   "source": [
    "train = df[:27000]\n",
    "default = train[\"default.payment.next.month\"].value_counts()\n",
    "data = pd.DataFrame({'default.payment.next.month': default.index,\n",
    "                   'values': default.values})\n",
    "plt.figure(figsize = (10,5))\n",
    "sns.barplot(x = 'default.payment.next.month', y=\"values\", data=data)\n",
    "plt.show()"
   ]
  },
  {
   "cell_type": "code",
   "execution_count": 15,
   "metadata": {},
   "outputs": [
    {
     "name": "stdout",
     "output_type": "stream",
     "text": [
      "Examples:\n",
      "    Total: 27000\n",
      "    Positive: 5973 (22.12% of total)\n",
      "\n"
     ]
    }
   ],
   "source": [
    "neg, pos = np.bincount(train[\"default.payment.next.month\"])\n",
    "total = neg + pos\n",
    "print('Examples:\\n    Total: {}\\n    Positive: {} ({:.2f}% of total)\\n'.format(\n",
    "    total, pos, 100 * pos / total))"
   ]
  },
  {
   "cell_type": "markdown",
   "metadata": {},
   "source": [
    "L'analisi della variabile target ha evidenziato che **5973** clienti su **21027** risultano inadempienti (22.12%) potrebbero pertanto rivelarsi necessarie alcune operazioni preliminari sulla variabile target."
   ]
  },
  {
   "cell_type": "markdown",
   "metadata": {},
   "source": [
    "## Exploring variables relation and correlation"
   ]
  },
  {
   "cell_type": "code",
   "execution_count": 16,
   "metadata": {
    "scrolled": true
   },
   "outputs": [
    {
     "data": {
      "image/png": "[encoded data removed]",
      "text/plain": [
       "<Figure size 1080x540 with 1 Axes>"
      ]
     },
     "metadata": {
      "needs_background": "light"
     },
     "output_type": "display_data"
    }
   ],
   "source": [
    "plt.figure(figsize = (15,7.5))\n",
    "plt.title('Amount of credit limit')\n",
    "sns.distplot(train['LIMIT_BAL'],kde=True, bins=200, color=\"blue\")\n",
    "plt.show()"
   ]
  },
  {
   "cell_type": "code",
   "execution_count": 17,
   "metadata": {
    "scrolled": true
   },
   "outputs": [
    {
     "data": {
      "text/plain": [
       "50000.0      3064\n",
       "20000.0      1781\n",
       "30000.0      1431\n",
       "80000.0      1407\n",
       "200000.0     1367\n",
       "             ... \n",
       "730000.0        1\n",
       "1000000.0       1\n",
       "690000.0        1\n",
       "740000.0        1\n",
       "760000.0        1\n",
       "Name: LIMIT_BAL, Length: 80, dtype: int64"
      ]
     },
     "execution_count": 17,
     "metadata": {},
     "output_type": "execute_result"
    }
   ],
   "source": [
    "train['LIMIT_BAL'].value_counts()"
   ]
  },
  {
   "cell_type": "markdown",
   "metadata": {},
   "source": [
    "#### Credit limit vs. Age"
   ]
  },
  {
   "cell_type": "code",
   "execution_count": 18,
   "metadata": {
    "scrolled": true
   },
   "outputs": [
    {
     "data": {
      "image/png": "[encoded data removed]",
      "text/plain": [
       "<Figure size 1080x540 with 1 Axes>"
      ]
     },
     "metadata": {
      "needs_background": "light"
     },
     "output_type": "display_data"
    }
   ],
   "source": [
    "classe0 = train[train['default.payment.next.month']==0]['AGE']\n",
    "classe1 = train[train['default.payment.next.month']==1]['AGE']\n",
    "\n",
    "plt.figure(figsize = (15,7.5))\n",
    "plt.title('Amount of credit limit by Payment next month')\n",
    "sns.distplot(classe0,kde=True, bins=200, color=\"blue\")\n",
    "sns.distplot(classe1,kde=True, bins=200, color=\"orange\")\n",
    "plt.show()"
   ]
  },
  {
   "cell_type": "markdown",
   "metadata": {},
   "source": [
    "#### Credit limit vs. Target variable"
   ]
  },
  {
   "cell_type": "code",
   "execution_count": 19,
   "metadata": {
    "scrolled": true
   },
   "outputs": [
    {
     "data": {
      "image/png": "[encoded data removed]",
      "text/plain": [
       "<Figure size 1080x540 with 1 Axes>"
      ]
     },
     "metadata": {
      "needs_background": "light"
     },
     "output_type": "display_data"
    }
   ],
   "source": [
    "classe0 = train[train['default.payment.next.month']==0]['LIMIT_BAL']\n",
    "classe1 = train[train['default.payment.next.month']==1]['LIMIT_BAL']\n",
    "\n",
    "plt.figure(figsize = (15,7.5))\n",
    "plt.title('Amount of credit limit by Payment next month')\n",
    "sns.distplot(classe0,kde=True, bins=200, color=\"blue\")\n",
    "sns.distplot(classe1,kde=True, bins=200, color=\"orange\")\n",
    "plt.show()"
   ]
  },
  {
   "cell_type": "markdown",
   "metadata": {},
   "source": [
    "#### Credit limit vs. Sex"
   ]
  },
  {
   "cell_type": "code",
   "execution_count": 20,
   "metadata": {},
   "outputs": [
    {
     "data": {
      "image/png": "[encoded data removed]",
      "text/plain": [
       "<Figure size 1080x540 with 2 Axes>"
      ]
     },
     "metadata": {
      "needs_background": "light"
     },
     "output_type": "display_data"
    }
   ],
   "source": [
    "fig,(AX1, AX2)  = plt.subplots(ncols=2, figsize=(15,7.5))\n",
    "s = sns.boxplot(ax = AX1, x=\"SEX\", y=\"LIMIT_BAL\",hue=\"default.payment.next.month\", data=train,showfliers=False)\n",
    "s = sns.boxplot(ax = AX2, x=\"SEX\", y=\"LIMIT_BAL\",hue=\"default.payment.next.month\", data=train,showfliers=True)\n",
    "plt.show()"
   ]
  },
  {
   "cell_type": "markdown",
   "metadata": {},
   "source": [
    "#### Credit limit vs. Target variable and Sex"
   ]
  },
  {
   "cell_type": "code",
   "execution_count": 21,
   "metadata": {},
   "outputs": [
    {
     "data": {
      "image/png": "[encoded data removed]",
      "text/plain": [
       "<Figure size 1080x540 with 2 Axes>"
      ]
     },
     "metadata": {
      "needs_background": "light"
     },
     "output_type": "display_data"
    }
   ],
   "source": [
    "fig, (AX1, AX2)  = plt.subplots(ncols=2, figsize=(15,7.5))\n",
    "s = sns.boxplot(ax = AX1, x=\"SEX\", y=\"LIMIT_BAL\", hue=\"default.payment.next.month\",data=train,showfliers=False)\n",
    "s = sns.boxplot(ax = AX2, x=\"SEX\", y=\"LIMIT_BAL\", hue=\"default.payment.next.month\",data=train,showfliers=True)\n",
    "plt.show()"
   ]
  },
  {
   "cell_type": "markdown",
   "metadata": {},
   "source": [
    "#### Credit limit vs. Education and Sex "
   ]
  },
  {
   "cell_type": "code",
   "execution_count": 22,
   "metadata": {},
   "outputs": [
    {
     "data": {
      "image/png": "[encoded data removed]",
      "text/plain": [
       "<Figure size 1080x540 with 1 Axes>"
      ]
     },
     "metadata": {
      "needs_background": "light"
     },
     "output_type": "display_data"
    }
   ],
   "source": [
    "fig, AX2  = plt.subplots(ncols=1, figsize=(15,7.5))\n",
    "#s = sns.boxplot(ax = AX1, x=\"EDUCATION\", y=\"LIMIT_BAL\", hue=\"SEX\",data=train,showfliers=False)\n",
    "s = sns.boxplot(ax = AX2, x=\"EDUCATION\", y=\"LIMIT_BAL\", hue=\"SEX\", data=train,showfliers=True)\n",
    "plt.show()"
   ]
  },
  {
   "cell_type": "markdown",
   "metadata": {},
   "source": [
    "# Data Cleaning"
   ]
  },
  {
   "cell_type": "markdown",
   "metadata": {},
   "source": [
    "Come notato durante l'analisi preliminare alcune categorie sono etichettate in modo errato e/o non documentate. Cercherò pertanto di sistemarle prima di svolgere l'analisi."
   ]
  },
  {
   "cell_type": "markdown",
   "metadata": {},
   "source": [
    "Per le variabili Education e Marriage i valori non documentati sono stati imputati alla categoria 'Other'"
   ]
  },
  {
   "cell_type": "code",
   "execution_count": 23,
   "metadata": {},
   "outputs": [
    {
     "data": {
      "text/plain": [
       "2    14030\n",
       "1    10585\n",
       "3     4917\n",
       "4      468\n",
       "Name: EDUCATION, dtype: int64"
      ]
     },
     "execution_count": 23,
     "metadata": {},
     "output_type": "execute_result"
    }
   ],
   "source": [
    "fil = (df.EDUCATION == 5) | (df.EDUCATION == 6) | (df.EDUCATION == 0)\n",
    "df.loc[fil, 'EDUCATION'] = 4\n",
    "df.EDUCATION.value_counts()"
   ]
  },
  {
   "cell_type": "code",
   "execution_count": 24,
   "metadata": {},
   "outputs": [
    {
     "data": {
      "text/plain": [
       "2    15964\n",
       "1    13659\n",
       "3      377\n",
       "Name: MARRIAGE, dtype: int64"
      ]
     },
     "execution_count": 24,
     "metadata": {},
     "output_type": "execute_result"
    }
   ],
   "source": [
    "df.loc[df.MARRIAGE == 0, 'MARRIAGE'] = 3\n",
    "df.MARRIAGE.value_counts()"
   ]
  },
  {
   "cell_type": "code",
   "execution_count": 25,
   "metadata": {
    "scrolled": true
   },
   "outputs": [
    {
     "data": {
      "text/html": [
       "<div>\n",
       "<style scoped>\n",
       "    .dataframe tbody tr th:only-of-type {\n",
       "        vertical-align: middle;\n",
       "    }\n",
       "\n",
       "    .dataframe tbody tr th {\n",
       "        vertical-align: top;\n",
       "    }\n",
       "\n",
       "    .dataframe thead th {\n",
       "        text-align: right;\n",
       "    }\n",
       "</style>\n",
       "<table border=\"1\" class=\"dataframe\">\n",
       "  <thead>\n",
       "    <tr style=\"text-align: right;\">\n",
       "      <th></th>\n",
       "      <th>SEX</th>\n",
       "      <th>EDUCATION</th>\n",
       "      <th>MARRIAGE</th>\n",
       "    </tr>\n",
       "  </thead>\n",
       "  <tbody>\n",
       "    <tr>\n",
       "      <td>count</td>\n",
       "      <td>30000.000000</td>\n",
       "      <td>30000.000000</td>\n",
       "      <td>30000.000000</td>\n",
       "    </tr>\n",
       "    <tr>\n",
       "      <td>mean</td>\n",
       "      <td>1.603733</td>\n",
       "      <td>1.842267</td>\n",
       "      <td>1.557267</td>\n",
       "    </tr>\n",
       "    <tr>\n",
       "      <td>std</td>\n",
       "      <td>0.489129</td>\n",
       "      <td>0.744494</td>\n",
       "      <td>0.521405</td>\n",
       "    </tr>\n",
       "    <tr>\n",
       "      <td>min</td>\n",
       "      <td>1.000000</td>\n",
       "      <td>1.000000</td>\n",
       "      <td>1.000000</td>\n",
       "    </tr>\n",
       "    <tr>\n",
       "      <td>25%</td>\n",
       "      <td>1.000000</td>\n",
       "      <td>1.000000</td>\n",
       "      <td>1.000000</td>\n",
       "    </tr>\n",
       "    <tr>\n",
       "      <td>50%</td>\n",
       "      <td>2.000000</td>\n",
       "      <td>2.000000</td>\n",
       "      <td>2.000000</td>\n",
       "    </tr>\n",
       "    <tr>\n",
       "      <td>75%</td>\n",
       "      <td>2.000000</td>\n",
       "      <td>2.000000</td>\n",
       "      <td>2.000000</td>\n",
       "    </tr>\n",
       "    <tr>\n",
       "      <td>max</td>\n",
       "      <td>2.000000</td>\n",
       "      <td>4.000000</td>\n",
       "      <td>3.000000</td>\n",
       "    </tr>\n",
       "  </tbody>\n",
       "</table>\n",
       "</div>"
      ],
      "text/plain": [
       "                SEX     EDUCATION      MARRIAGE\n",
       "count  30000.000000  30000.000000  30000.000000\n",
       "mean       1.603733      1.842267      1.557267\n",
       "std        0.489129      0.744494      0.521405\n",
       "min        1.000000      1.000000      1.000000\n",
       "25%        1.000000      1.000000      1.000000\n",
       "50%        2.000000      2.000000      2.000000\n",
       "75%        2.000000      2.000000      2.000000\n",
       "max        2.000000      4.000000      3.000000"
      ]
     },
     "execution_count": 25,
     "metadata": {},
     "output_type": "execute_result"
    }
   ],
   "source": [
    "df[['SEX', 'EDUCATION', 'MARRIAGE']].describe()"
   ]
  },
  {
   "cell_type": "markdown",
   "metadata": {},
   "source": [
    "Per quanto riguarda le variabili \"PAY_X\" si nota la presenza dei valori non documentati '-2' e '0' che sono stati imputati alla categoria \"pay duly\". A questa è stato imputato valore '0' anzichè '-1'"
   ]
  },
  {
   "cell_type": "code",
   "execution_count": 26,
   "metadata": {},
   "outputs": [],
   "source": [
    "fil = (df.PAY_1 == -2) | (df.PAY_1 == -1) | (df.PAY_1 == 0)\n",
    "df.loc[fil, 'PAY_1'] = 0\n",
    "fil = (df.PAY_2 == -2) | (df.PAY_2 == -1) | (df.PAY_2 == 0)\n",
    "df.loc[fil, 'PAY_2'] = 0\n",
    "fil = (df.PAY_3 == -2) | (df.PAY_3 == -1) | (df.PAY_3 == 0)\n",
    "df.loc[fil, 'PAY_3'] = 0\n",
    "fil = (df.PAY_4 == -2) | (df.PAY_4 == -1) | (df.PAY_4 == 0)\n",
    "df.loc[fil, 'PAY_4'] = 0\n",
    "fil = (df.PAY_5 == -2) | (df.PAY_5 == -1) | (df.PAY_5 == 0)\n",
    "df.loc[fil, 'PAY_5'] = 0\n",
    "fil = (df.PAY_6 == -2) | (df.PAY_6 == -1) | (df.PAY_6 == 0)\n",
    "df.loc[fil, 'PAY_6'] = 0"
   ]
  },
  {
   "cell_type": "code",
   "execution_count": 27,
   "metadata": {},
   "outputs": [
    {
     "data": {
      "text/html": [
       "<div>\n",
       "<style scoped>\n",
       "    .dataframe tbody tr th:only-of-type {\n",
       "        vertical-align: middle;\n",
       "    }\n",
       "\n",
       "    .dataframe tbody tr th {\n",
       "        vertical-align: top;\n",
       "    }\n",
       "\n",
       "    .dataframe thead th {\n",
       "        text-align: right;\n",
       "    }\n",
       "</style>\n",
       "<table border=\"1\" class=\"dataframe\">\n",
       "  <thead>\n",
       "    <tr style=\"text-align: right;\">\n",
       "      <th></th>\n",
       "      <th>PAY_1</th>\n",
       "      <th>PAY_2</th>\n",
       "      <th>PAY_3</th>\n",
       "      <th>PAY_4</th>\n",
       "      <th>PAY_5</th>\n",
       "      <th>PAY_6</th>\n",
       "    </tr>\n",
       "  </thead>\n",
       "  <tbody>\n",
       "    <tr>\n",
       "      <td>count</td>\n",
       "      <td>30000.000000</td>\n",
       "      <td>30000.000000</td>\n",
       "      <td>30000.000000</td>\n",
       "      <td>30000.000000</td>\n",
       "      <td>30000.00000</td>\n",
       "      <td>30000.000000</td>\n",
       "    </tr>\n",
       "    <tr>\n",
       "      <td>mean</td>\n",
       "      <td>0.356767</td>\n",
       "      <td>0.320033</td>\n",
       "      <td>0.304067</td>\n",
       "      <td>0.258767</td>\n",
       "      <td>0.22150</td>\n",
       "      <td>0.226567</td>\n",
       "    </tr>\n",
       "    <tr>\n",
       "      <td>std</td>\n",
       "      <td>0.760594</td>\n",
       "      <td>0.801727</td>\n",
       "      <td>0.790589</td>\n",
       "      <td>0.761113</td>\n",
       "      <td>0.71772</td>\n",
       "      <td>0.715438</td>\n",
       "    </tr>\n",
       "    <tr>\n",
       "      <td>min</td>\n",
       "      <td>0.000000</td>\n",
       "      <td>0.000000</td>\n",
       "      <td>0.000000</td>\n",
       "      <td>0.000000</td>\n",
       "      <td>0.00000</td>\n",
       "      <td>0.000000</td>\n",
       "    </tr>\n",
       "    <tr>\n",
       "      <td>25%</td>\n",
       "      <td>0.000000</td>\n",
       "      <td>0.000000</td>\n",
       "      <td>0.000000</td>\n",
       "      <td>0.000000</td>\n",
       "      <td>0.00000</td>\n",
       "      <td>0.000000</td>\n",
       "    </tr>\n",
       "    <tr>\n",
       "      <td>50%</td>\n",
       "      <td>0.000000</td>\n",
       "      <td>0.000000</td>\n",
       "      <td>0.000000</td>\n",
       "      <td>0.000000</td>\n",
       "      <td>0.00000</td>\n",
       "      <td>0.000000</td>\n",
       "    </tr>\n",
       "    <tr>\n",
       "      <td>75%</td>\n",
       "      <td>0.000000</td>\n",
       "      <td>0.000000</td>\n",
       "      <td>0.000000</td>\n",
       "      <td>0.000000</td>\n",
       "      <td>0.00000</td>\n",
       "      <td>0.000000</td>\n",
       "    </tr>\n",
       "    <tr>\n",
       "      <td>max</td>\n",
       "      <td>8.000000</td>\n",
       "      <td>8.000000</td>\n",
       "      <td>8.000000</td>\n",
       "      <td>8.000000</td>\n",
       "      <td>8.00000</td>\n",
       "      <td>8.000000</td>\n",
       "    </tr>\n",
       "  </tbody>\n",
       "</table>\n",
       "</div>"
      ],
      "text/plain": [
       "              PAY_1         PAY_2         PAY_3         PAY_4        PAY_5  \\\n",
       "count  30000.000000  30000.000000  30000.000000  30000.000000  30000.00000   \n",
       "mean       0.356767      0.320033      0.304067      0.258767      0.22150   \n",
       "std        0.760594      0.801727      0.790589      0.761113      0.71772   \n",
       "min        0.000000      0.000000      0.000000      0.000000      0.00000   \n",
       "25%        0.000000      0.000000      0.000000      0.000000      0.00000   \n",
       "50%        0.000000      0.000000      0.000000      0.000000      0.00000   \n",
       "75%        0.000000      0.000000      0.000000      0.000000      0.00000   \n",
       "max        8.000000      8.000000      8.000000      8.000000      8.00000   \n",
       "\n",
       "              PAY_6  \n",
       "count  30000.000000  \n",
       "mean       0.226567  \n",
       "std        0.715438  \n",
       "min        0.000000  \n",
       "25%        0.000000  \n",
       "50%        0.000000  \n",
       "75%        0.000000  \n",
       "max        8.000000  "
      ]
     },
     "execution_count": 27,
     "metadata": {},
     "output_type": "execute_result"
    }
   ],
   "source": [
    "df[['PAY_1', 'PAY_2', 'PAY_3', 'PAY_4', 'PAY_5', 'PAY_6']].describe()"
   ]
  },
  {
   "cell_type": "markdown",
   "metadata": {},
   "source": [
    "# Modelling using Keras"
   ]
  },
  {
   "cell_type": "code",
   "execution_count": 28,
   "metadata": {},
   "outputs": [],
   "source": [
    "import sklearn\n",
    "from sklearn.metrics import confusion_matrix\n",
    "from sklearn.model_selection import train_test_split\n",
    "from sklearn.preprocessing import StandardScaler\n",
    "from sklearn.metrics import accuracy_score\n",
    "from sklearn.metrics import classification_report\n",
    "from sklearn.metrics import precision_recall_fscore_support"
   ]
  },
  {
   "cell_type": "code",
   "execution_count": 29,
   "metadata": {},
   "outputs": [],
   "source": [
    "from __future__ import absolute_import, division, print_function, unicode_literals"
   ]
  },
  {
   "cell_type": "code",
   "execution_count": 30,
   "metadata": {},
   "outputs": [],
   "source": [
    "mpl.rcParams['figure.figsize'] = (18, 12)\n",
    "colors = plt.rcParams['axes.prop_cycle'].by_key()['color']"
   ]
  },
  {
   "cell_type": "markdown",
   "metadata": {},
   "source": [
    "### Metrics\n",
    "\n",
    "Definizione delle metriche utili alla valutazione del modello"
   ]
  },
  {
   "cell_type": "code",
   "execution_count": 31,
   "metadata": {},
   "outputs": [],
   "source": [
    "METRICS = [\n",
    "      tf.keras.metrics.TruePositives(name='tp'),\n",
    "      tf.keras.metrics.FalsePositives(name='fp'),\n",
    "      tf.keras.metrics.TrueNegatives(name='tn'),\n",
    "      tf.keras.metrics.FalseNegatives(name='fn'), \n",
    "      tf.keras.metrics.BinaryAccuracy(name='accuracy'),\n",
    "      tf.keras.metrics.Precision(name='precision'),\n",
    "      tf.keras.metrics.Recall(name='recall'),\n",
    "      tf.keras.metrics.AUC(name='auc'),\n",
    "]"
   ]
  },
  {
   "cell_type": "markdown",
   "metadata": {},
   "source": [
    "### Model Definition"
   ]
  },
  {
   "cell_type": "markdown",
   "metadata": {},
   "source": [
    "Definizione della rete neurale con __due hidden layer__ da 50 neuroni (il primo) e 25 (il secondo). Sono state inoltre aggiunti due Layer di Dropout con rate = 0.5 per evitare l'Overfitting.\n",
    "\n",
    "\n",
    "Per inizializzare i pesi si è scelta la funzione __TruncatedNormal__ che genera una distribuzione Normale troncata e forzano la stessa varianza forward/backward tra i layers. É uguale alla _RandomNormal_ ad eccezione del fatto che i valori che differiscono della media per due volte la deviazione standard sono eliminati e ridefiniti.\n",
    "La scelta del set iniziale di pesi è importante perché può determinare la convergenza dell'algoritmo.\n",
    "\n",
    "Dalla prospettiva dell’ottimizzazione i pesi devono essere abbastanza grandi da poter propagare l’informazione efficientemente. \n",
    "Dalla prospettiva della regolarizzazione devono essere abbastanza piccoli da rendere il modello più robusto per la generalizzazione\n",
    "\n",
    "In generale si ricerca un set di pesi che riesca a __\"rompere la simmetria\"__ tra le unità.\n",
    "\n",
    "Inoltre i pesi iniziali assegnati alla prima rete neurale sono salvati in \"initial_weights\" e sono stati riassegnati a tutti i modelli successivi per migliorare il confronto fra diversi modelli. \n",
    "\n",
    "I neuroni degli hidden layer sono caratterizzati dalla funzione di attivazione Rectified Linear Unit (ReLU), che è efficiente nella back propagation degli errori e ha la caratteristica di attivare pochi neuroni in momenti diversi rendendo la __rete sparsa__ e di facile computazione.\n",
    "\n",
    "Il layer di output contiene un solo neurone, caratterizzato dalla funzione di attivazione __sigmoid__,che assicura un gradiente forte oltre ad essere molto comune nei problemi di classificazione. \n",
    "\n",
    "Come ottimizzatore è stato usato un algoritmo con learning rate adattivo, __Adam__ (Adaptive Moments), che è una variazione di RMSProp + Momentum:\n",
    "Il momentum è incorporato direttamente nella stima dei momenti di primo ordine.\n",
    "Nell’RMSProp il momentum è incluso dopo avere riscalato i gradienti. \n",
    "Adam aggiunge anche una correzione del bias nei momenti.\n",
    "\n",
    "La funzione di perdita da ottimizzare è rappresentata dalla __Binary CrossEntropy__. Altre funzioni di perdita come il MAE o il MAE, quando combinate con le unità di output saturano e producono gradienti bassi.  \n"
   ]
  },
  {
   "cell_type": "code",
   "execution_count": 32,
   "metadata": {},
   "outputs": [],
   "source": [
    "initial_weights = os.path.join(tempfile.mkdtemp(),'initial_weights')"
   ]
  },
  {
   "cell_type": "code",
   "execution_count": 48,
   "metadata": {},
   "outputs": [],
   "source": [
    " def make_model(metrics = METRICS):\n",
    "  model = keras.Sequential([\n",
    "      keras.layers.Dense(16, activation='relu',kernel_initializer='TruncatedNormal', input_shape=(23,)),\n",
    "      keras.layers.Dropout(0.5),\n",
    "      keras.layers.Dense(64, activation='relu'),\n",
    "      keras.layers.Dropout(0.5),\n",
    "      keras.layers.Dense(1, activation='sigmoid'),\n",
    "  ])\n",
    "  model.compile(\n",
    "      optimizer=keras.optimizers.Adam(),\n",
    "      loss=keras.losses.binary_crossentropy,\n",
    "      metrics=metrics)\n",
    "\n",
    "  return model"
   ]
  },
  {
   "cell_type": "markdown",
   "metadata": {},
   "source": [
    "### Useful functions"
   ]
  },
  {
   "cell_type": "markdown",
   "metadata": {},
   "source": [
    "La funzione seguente, __plot_metrics__ , produce 4 plot utili a valutare l'andamento di _loss, AUC, Precision e Recall_ durante le diverse epoche nel Train e nel Validation set."
   ]
  },
  {
   "cell_type": "code",
   "execution_count": 35,
   "metadata": {},
   "outputs": [],
   "source": [
    "def plot_metrics(history):\n",
    "  metrics =  ['loss', 'auc', 'precision', 'recall']\n",
    "  for n, metric in enumerate(metrics):\n",
    "    name = metric.replace(\"_\",\" \").capitalize()\n",
    "    plt.subplot(2,2,n+1)\n",
    "    plt.plot(history.epoch,  history.history[metric], color=colors[0], label='Train')\n",
    "    plt.plot(history.epoch, history.history['val_'+metric],\n",
    "             color=colors[0], linestyle=\"--\", label='Val')\n",
    "    plt.xlabel('Epoch')\n",
    "    plt.ylabel(name)\n",
    "    if metric == 'loss':\n",
    "      plt.ylim([0, plt.ylim()[1]])\n",
    "    elif metric == 'auc':\n",
    "      plt.ylim([0.2,1])\n",
    "    else:\n",
    "      plt.ylim([0,1])\n",
    "\n",
    "    plt.legend()"
   ]
  },
  {
   "cell_type": "markdown",
   "metadata": {},
   "source": [
    "Per visualizzare la matrice di confusione e le relative misure di performance si definisce la funzione __plot_cm__ "
   ]
  },
  {
   "cell_type": "code",
   "execution_count": 36,
   "metadata": {},
   "outputs": [],
   "source": [
    "def plot_cm(labels, predictions, p=0.5):\n",
    "  cm = confusion_matrix(labels, predictions > p)\n",
    "  plt.figure(figsize=(5,5))\n",
    "  sns.heatmap(cm, annot=True, fmt=\"d\")\n",
    "  plt.title('Confusion matrix @{:.2f}'.format(p))\n",
    "  plt.ylabel('Actual label')\n",
    "  plt.xlabel('Predicted label')\n",
    "\n",
    "  print('Legitimate Transactions Detected (True Negatives): ', cm[0][0])\n",
    "  print('Legitimate Transactions Incorrectly Detected (False Positives): ', cm[0][1])\n",
    "  print('Fraudulent Transactions Missed (False Negatives): ', cm[1][0])\n",
    "  print('Fraudulent Transactions Detected (True Positives): ', cm[1][1])\n",
    "  print('Total Fraudulent Transactions: ', np.sum(cm[1]))"
   ]
  },
  {
   "cell_type": "markdown",
   "metadata": {},
   "source": [
    "Infine si definisce la funzione __plot_roc__ per visualizzare la ROC Curve."
   ]
  },
  {
   "cell_type": "code",
   "execution_count": 37,
   "metadata": {},
   "outputs": [],
   "source": [
    "def plot_roc(name, labels, predictions, **kwargs):\n",
    "  fp, tp, _ = sklearn.metrics.roc_curve(labels, predictions)\n",
    "\n",
    "  plt.plot(100*fp, 100*tp, label=name, linewidth=2, **kwargs)\n",
    "  plt.xlabel('False positives [%]')\n",
    "  plt.ylabel('True positives [%]')\n",
    "  plt.xlim([-0.5,100])\n",
    "  plt.ylim([0,100])\n",
    "  plt.grid(True)\n",
    "  ax = plt.gca()\n",
    "  ax.set_aspect('equal')"
   ]
  },
  {
   "cell_type": "markdown",
   "metadata": {},
   "source": [
    "### Data Split and Standardization\n",
    "\n",
    "\n",
    "Divisione del dataset df in Train Set, Validation Set e Test Set"
   ]
  },
  {
   "cell_type": "code",
   "execution_count": 38,
   "metadata": {},
   "outputs": [],
   "source": [
    "train = df[:27000]\n",
    "test = df[27000:]"
   ]
  },
  {
   "cell_type": "code",
   "execution_count": 39,
   "metadata": {},
   "outputs": [],
   "source": [
    "test = test.drop('default.payment.next.month', axis=1)"
   ]
  },
  {
   "cell_type": "code",
   "execution_count": 40,
   "metadata": {
    "scrolled": true
   },
   "outputs": [],
   "source": [
    "# Train-Va split\n",
    "train_x, val_x = train_test_split(train, test_size=0.2)"
   ]
  },
  {
   "cell_type": "code",
   "execution_count": 41,
   "metadata": {},
   "outputs": [],
   "source": [
    "train_y = np.array(train_x.pop('default.payment.next.month'))\n",
    "val_y = np.array(val_x.pop('default.payment.next.month'))\n",
    " \n",
    "train_x = np.array(train_x)\n",
    "val_x = np.array(val_x)\n",
    "test_x= np.array(test)"
   ]
  },
  {
   "cell_type": "markdown",
   "metadata": {},
   "source": [
    "Standardizzazione dei dati"
   ]
  },
  {
   "cell_type": "code",
   "execution_count": 42,
   "metadata": {},
   "outputs": [
    {
     "name": "stdout",
     "output_type": "stream",
     "text": [
      "Training labels (21600,)\n",
      "Validation labels (5400,)\n",
      "Training features (21600, 23)\n",
      "Validation features (5400, 23)\n",
      "Test features (3000, 23)\n"
     ]
    }
   ],
   "source": [
    "scaler= StandardScaler()\n",
    "train_x = scaler.fit_transform(train_x)\n",
    "val_x = scaler.transform(val_x)\n",
    "test_x = scaler.fit_transform(test_x)\n",
    "print('Training labels', train_y.shape)\n",
    "print('Validation labels', val_y.shape)\n",
    "\n",
    "print('Training features', train_x.shape)\n",
    "print('Validation features', val_x.shape)\n",
    "print('Test features', test_x.shape)"
   ]
  },
  {
   "cell_type": "markdown",
   "metadata": {},
   "source": [
    "Ad ogni iterazione viene campionata randomicamente una __minibatch da 2048 esempi__, abbastanza ampia da contenere al proprio interno sufficienti campioni della classe rara.\n",
    "\n",
    "Per trainare l'algoritmo si utilizzano 100 epoche, a meno dell'intervento dell'__Early Stopping__, che ferma il training quando non si ha un miglioramento sostanziale dell'AUC (Area Under the Curve) per più di 10 epoche. "
   ]
  },
  {
   "cell_type": "code",
   "execution_count": 51,
   "metadata": {},
   "outputs": [],
   "source": [
    "EPOCHS = 100\n",
    "BATCH_SIZE = 2048\n",
    "\n",
    "early_stopping = tf.keras.callbacks.EarlyStopping(\n",
    "    monitor='val_auc', \n",
    "    verbose=1,\n",
    "    patience=8,\n",
    "    mode='max',\n",
    "    restore_best_weights=True)"
   ]
  },
  {
   "cell_type": "markdown",
   "metadata": {},
   "source": [
    "## BASELINE MODEL"
   ]
  },
  {
   "cell_type": "code",
   "execution_count": 52,
   "metadata": {
    "scrolled": false
   },
   "outputs": [
    {
     "name": "stdout",
     "output_type": "stream",
     "text": [
      "Model: \"sequential_3\"\n",
      "_________________________________________________________________\n",
      "Layer (type)                 Output Shape              Param #   \n",
      "=================================================================\n",
      "dense_9 (Dense)              (None, 16)                384       \n",
      "_________________________________________________________________\n",
      "dropout_6 (Dropout)          (None, 16)                0         \n",
      "_________________________________________________________________\n",
      "dense_10 (Dense)             (None, 64)                1088      \n",
      "_________________________________________________________________\n",
      "dropout_7 (Dropout)          (None, 64)                0         \n",
      "_________________________________________________________________\n",
      "dense_11 (Dense)             (None, 1)                 65        \n",
      "=================================================================\n",
      "Total params: 1,537\n",
      "Trainable params: 1,537\n",
      "Non-trainable params: 0\n",
      "_________________________________________________________________\n"
     ]
    }
   ],
   "source": [
    "model = make_model()\n",
    "model.summary()"
   ]
  },
  {
   "cell_type": "code",
   "execution_count": 53,
   "metadata": {},
   "outputs": [],
   "source": [
    "model.save_weights(initial_weights)"
   ]
  },
  {
   "cell_type": "code",
   "execution_count": 54,
   "metadata": {},
   "outputs": [
    {
     "data": {
      "text/plain": [
       "<tensorflow.python.training.tracking.util.CheckpointLoadStatus at 0x1a3f8c7e90>"
      ]
     },
     "execution_count": 54,
     "metadata": {},
     "output_type": "execute_result"
    }
   ],
   "source": [
    "model = make_model()\n",
    "model.load_weights(initial_weights)"
   ]
  },
  {
   "cell_type": "code",
   "execution_count": 55,
   "metadata": {
    "scrolled": true
   },
   "outputs": [
    {
     "name": "stdout",
     "output_type": "stream",
     "text": [
      "Train on 21600 samples, validate on 5400 samples\n",
      "Epoch 1/100\n",
      "21600/21600 [==============================] - 1s 67us/sample - loss: 0.7032 - tp: 2923.0000 - fp: 9606.0000 - tn: 7230.0000 - fn: 1841.0000 - accuracy: 0.4700 - precision: 0.2333 - recall: 0.6136 - auc: 0.5327 - val_loss: 0.6691 - val_tp: 159.0000 - val_fp: 184.0000 - val_tn: 4007.0000 - val_fn: 1050.0000 - val_accuracy: 0.7715 - val_precision: 0.4636 - val_recall: 0.1315 - val_auc: 0.5694\n",
      "Epoch 2/100\n",
      "21600/21600 [==============================] - 0s 11us/sample - loss: 0.6598 - tp: 991.0000 - fp: 1882.0000 - tn: 14954.0000 - fn: 3773.0000 - accuracy: 0.7382 - precision: 0.3449 - recall: 0.2080 - auc: 0.5495 - val_loss: 0.6322 - val_tp: 16.0000 - val_fp: 10.0000 - val_tn: 4181.0000 - val_fn: 1193.0000 - val_accuracy: 0.7772 - val_precision: 0.6154 - val_recall: 0.0132 - val_auc: 0.6084\n",
      "Epoch 3/100\n",
      "21600/21600 [==============================] - 0s 11us/sample - loss: 0.6223 - tp: 498.0000 - fp: 436.0000 - tn: 16400.0000 - fn: 4266.0000 - accuracy: 0.7823 - precision: 0.5332 - recall: 0.1045 - auc: 0.5895 - val_loss: 0.5931 - val_tp: 12.0000 - val_fp: 4.0000 - val_tn: 4187.0000 - val_fn: 1197.0000 - val_accuracy: 0.7776 - val_precision: 0.7500 - val_recall: 0.0099 - val_auc: 0.6606\n",
      "Epoch 4/100\n",
      "21600/21600 [==============================] - 0s 11us/sample - loss: 0.5840 - tp: 369.0000 - fp: 239.0000 - tn: 16597.0000 - fn: 4395.0000 - accuracy: 0.7855 - precision: 0.6069 - recall: 0.0775 - auc: 0.6235 - val_loss: 0.5506 - val_tp: 14.0000 - val_fp: 5.0000 - val_tn: 4186.0000 - val_fn: 1195.0000 - val_accuracy: 0.7778 - val_precision: 0.7368 - val_recall: 0.0116 - val_auc: 0.6943\n",
      "Epoch 5/100\n",
      "21600/21600 [==============================] - 0s 11us/sample - loss: 0.5456 - tp: 329.0000 - fp: 195.0000 - tn: 16641.0000 - fn: 4435.0000 - accuracy: 0.7856 - precision: 0.6279 - recall: 0.0691 - auc: 0.6512 - val_loss: 0.5094 - val_tp: 26.0000 - val_fp: 18.0000 - val_tn: 4173.0000 - val_fn: 1183.0000 - val_accuracy: 0.7776 - val_precision: 0.5909 - val_recall: 0.0215 - val_auc: 0.7127\n",
      "Epoch 6/100\n",
      "21600/21600 [==============================] - 0s 11us/sample - loss: 0.5119 - tp: 488.0000 - fp: 254.0000 - tn: 16582.0000 - fn: 4276.0000 - accuracy: 0.7903 - precision: 0.6577 - recall: 0.1024 - auc: 0.6776 - val_loss: 0.4818 - val_tp: 142.0000 - val_fp: 64.0000 - val_tn: 4127.0000 - val_fn: 1067.0000 - val_accuracy: 0.7906 - val_precision: 0.6893 - val_recall: 0.1175 - val_auc: 0.7158\n",
      "Epoch 7/100\n",
      "21600/21600 [==============================] - 0s 10us/sample - loss: 0.4932 - tp: 670.0000 - fp: 317.0000 - tn: 16519.0000 - fn: 4094.0000 - accuracy: 0.7958 - precision: 0.6788 - recall: 0.1406 - auc: 0.6914 - val_loss: 0.4696 - val_tp: 236.0000 - val_fp: 123.0000 - val_tn: 4068.0000 - val_fn: 973.0000 - val_accuracy: 0.7970 - val_precision: 0.6574 - val_recall: 0.1952 - val_auc: 0.7219\n",
      "Epoch 8/100\n",
      "21600/21600 [==============================] - 0s 10us/sample - loss: 0.4860 - tp: 891.0000 - fp: 479.0000 - tn: 16357.0000 - fn: 3873.0000 - accuracy: 0.7985 - precision: 0.6504 - recall: 0.1870 - auc: 0.7037 - val_loss: 0.4621 - val_tp: 278.0000 - val_fp: 159.0000 - val_tn: 4032.0000 - val_fn: 931.0000 - val_accuracy: 0.7981 - val_precision: 0.6362 - val_recall: 0.2299 - val_auc: 0.7363\n",
      "Epoch 9/100\n",
      "21600/21600 [==============================] - 0s 10us/sample - loss: 0.4808 - tp: 1084.0000 - fp: 603.0000 - tn: 16233.0000 - fn: 3680.0000 - accuracy: 0.8017 - precision: 0.6426 - recall: 0.2275 - auc: 0.7126 - val_loss: 0.4577 - val_tp: 344.0000 - val_fp: 190.0000 - val_tn: 4001.0000 - val_fn: 865.0000 - val_accuracy: 0.8046 - val_precision: 0.6442 - val_recall: 0.2845 - val_auc: 0.7474\n",
      "Epoch 10/100\n",
      "21600/21600 [==============================] - 0s 10us/sample - loss: 0.4747 - tp: 1169.0000 - fp: 673.0000 - tn: 16163.0000 - fn: 3595.0000 - accuracy: 0.8024 - precision: 0.6346 - recall: 0.2454 - auc: 0.7205 - val_loss: 0.4546 - val_tp: 371.0000 - val_fp: 215.0000 - val_tn: 3976.0000 - val_fn: 838.0000 - val_accuracy: 0.8050 - val_precision: 0.6331 - val_recall: 0.3069 - val_auc: 0.7515\n",
      "Epoch 11/100\n",
      "21600/21600 [==============================] - 0s 10us/sample - loss: 0.4713 - tp: 1232.0000 - fp: 697.0000 - tn: 16139.0000 - fn: 3532.0000 - accuracy: 0.8042 - precision: 0.6387 - recall: 0.2586 - auc: 0.7250 - val_loss: 0.4525 - val_tp: 384.0000 - val_fp: 218.0000 - val_tn: 3973.0000 - val_fn: 825.0000 - val_accuracy: 0.8069 - val_precision: 0.6379 - val_recall: 0.3176 - val_auc: 0.7562\n",
      "Epoch 12/100\n",
      "21600/21600 [==============================] - 0s 10us/sample - loss: 0.4666 - tp: 1257.0000 - fp: 705.0000 - tn: 16131.0000 - fn: 3507.0000 - accuracy: 0.8050 - precision: 0.6407 - recall: 0.2639 - auc: 0.7344 - val_loss: 0.4507 - val_tp: 395.0000 - val_fp: 213.0000 - val_tn: 3978.0000 - val_fn: 814.0000 - val_accuracy: 0.8098 - val_precision: 0.6497 - val_recall: 0.3267 - val_auc: 0.7562\n",
      "Epoch 13/100\n",
      "21600/21600 [==============================] - 0s 10us/sample - loss: 0.4654 - tp: 1303.0000 - fp: 743.0000 - tn: 16093.0000 - fn: 3461.0000 - accuracy: 0.8054 - precision: 0.6369 - recall: 0.2735 - auc: 0.7355 - val_loss: 0.4492 - val_tp: 416.0000 - val_fp: 220.0000 - val_tn: 3971.0000 - val_fn: 793.0000 - val_accuracy: 0.8124 - val_precision: 0.6541 - val_recall: 0.3441 - val_auc: 0.7579\n",
      "Epoch 14/100\n",
      "21600/21600 [==============================] - 0s 10us/sample - loss: 0.4644 - tp: 1410.0000 - fp: 776.0000 - tn: 16060.0000 - fn: 3354.0000 - accuracy: 0.8088 - precision: 0.6450 - recall: 0.2960 - auc: 0.7360 - val_loss: 0.4480 - val_tp: 432.0000 - val_fp: 235.0000 - val_tn: 3956.0000 - val_fn: 777.0000 - val_accuracy: 0.8126 - val_precision: 0.6477 - val_recall: 0.3573 - val_auc: 0.7601\n",
      "Epoch 15/100\n",
      "21600/21600 [==============================] - 0s 10us/sample - loss: 0.4621 - tp: 1424.0000 - fp: 763.0000 - tn: 16073.0000 - fn: 3340.0000 - accuracy: 0.8100 - precision: 0.6511 - recall: 0.2989 - auc: 0.7371 - val_loss: 0.4473 - val_tp: 434.0000 - val_fp: 233.0000 - val_tn: 3958.0000 - val_fn: 775.0000 - val_accuracy: 0.8133 - val_precision: 0.6507 - val_recall: 0.3590 - val_auc: 0.7601\n",
      "Epoch 16/100\n",
      "21600/21600 [==============================] - 0s 10us/sample - loss: 0.4597 - tp: 1445.0000 - fp: 742.0000 - tn: 16094.0000 - fn: 3319.0000 - accuracy: 0.8120 - precision: 0.6607 - recall: 0.3033 - auc: 0.7425 - val_loss: 0.4463 - val_tp: 439.0000 - val_fp: 242.0000 - val_tn: 3949.0000 - val_fn: 770.0000 - val_accuracy: 0.8126 - val_precision: 0.6446 - val_recall: 0.3631 - val_auc: 0.7618\n",
      "Epoch 17/100\n",
      "21600/21600 [==============================] - 0s 10us/sample - loss: 0.4572 - tp: 1449.0000 - fp: 721.0000 - tn: 16115.0000 - fn: 3315.0000 - accuracy: 0.8131 - precision: 0.6677 - recall: 0.3042 - auc: 0.7429 - val_loss: 0.4456 - val_tp: 444.0000 - val_fp: 240.0000 - val_tn: 3951.0000 - val_fn: 765.0000 - val_accuracy: 0.8139 - val_precision: 0.6491 - val_recall: 0.3672 - val_auc: 0.7633\n",
      "Epoch 18/100\n",
      "21600/21600 [==============================] - 0s 11us/sample - loss: 0.4576 - tp: 1483.0000 - fp: 760.0000 - tn: 16076.0000 - fn: 3281.0000 - accuracy: 0.8129 - precision: 0.6612 - recall: 0.3113 - auc: 0.7416 - val_loss: 0.4450 - val_tp: 446.0000 - val_fp: 236.0000 - val_tn: 3955.0000 - val_fn: 763.0000 - val_accuracy: 0.8150 - val_precision: 0.6540 - val_recall: 0.3689 - val_auc: 0.7633\n",
      "Epoch 19/100\n",
      "21600/21600 [==============================] - 0s 11us/sample - loss: 0.4552 - tp: 1490.0000 - fp: 727.0000 - tn: 16109.0000 - fn: 3274.0000 - accuracy: 0.8148 - precision: 0.6721 - recall: 0.3128 - auc: 0.7440 - val_loss: 0.4445 - val_tp: 459.0000 - val_fp: 241.0000 - val_tn: 3950.0000 - val_fn: 750.0000 - val_accuracy: 0.8165 - val_precision: 0.6557 - val_recall: 0.3797 - val_auc: 0.7636\n",
      "Epoch 20/100\n",
      "21600/21600 [==============================] - 0s 11us/sample - loss: 0.4554 - tp: 1551.0000 - fp: 783.0000 - tn: 16053.0000 - fn: 3213.0000 - accuracy: 0.8150 - precision: 0.6645 - recall: 0.3256 - auc: 0.7443 - val_loss: 0.4442 - val_tp: 455.0000 - val_fp: 238.0000 - val_tn: 3953.0000 - val_fn: 754.0000 - val_accuracy: 0.8163 - val_precision: 0.6566 - val_recall: 0.3763 - val_auc: 0.7637\n",
      "Epoch 21/100\n",
      "21600/21600 [==============================] - 0s 10us/sample - loss: 0.4554 - tp: 1482.0000 - fp: 775.0000 - tn: 16061.0000 - fn: 3282.0000 - accuracy: 0.8122 - precision: 0.6566 - recall: 0.3111 - auc: 0.7456 - val_loss: 0.4439 - val_tp: 450.0000 - val_fp: 234.0000 - val_tn: 3957.0000 - val_fn: 759.0000 - val_accuracy: 0.8161 - val_precision: 0.6579 - val_recall: 0.3722 - val_auc: 0.7635\n",
      "Epoch 22/100\n",
      "21600/21600 [==============================] - 0s 11us/sample - loss: 0.4570 - tp: 1469.0000 - fp: 744.0000 - tn: 16092.0000 - fn: 3295.0000 - accuracy: 0.8130 - precision: 0.6638 - recall: 0.3084 - auc: 0.7419 - val_loss: 0.4441 - val_tp: 449.0000 - val_fp: 237.0000 - val_tn: 3954.0000 - val_fn: 760.0000 - val_accuracy: 0.8154 - val_precision: 0.6545 - val_recall: 0.3714 - val_auc: 0.7642\n",
      "Epoch 23/100\n",
      "21600/21600 [==============================] - 0s 11us/sample - loss: 0.4558 - tp: 1491.0000 - fp: 716.0000 - tn: 16120.0000 - fn: 3273.0000 - accuracy: 0.8153 - precision: 0.6756 - recall: 0.3130 - auc: 0.7417 - val_loss: 0.4438 - val_tp: 450.0000 - val_fp: 235.0000 - val_tn: 3956.0000 - val_fn: 759.0000 - val_accuracy: 0.8159 - val_precision: 0.6569 - val_recall: 0.3722 - val_auc: 0.7646\n",
      "Epoch 24/100\n",
      "21600/21600 [==============================] - 0s 11us/sample - loss: 0.4555 - tp: 1526.0000 - fp: 764.0000 - tn: 16072.0000 - fn: 3238.0000 - accuracy: 0.8147 - precision: 0.6664 - recall: 0.3203 - auc: 0.7404 - val_loss: 0.4437 - val_tp: 447.0000 - val_fp: 236.0000 - val_tn: 3955.0000 - val_fn: 762.0000 - val_accuracy: 0.8152 - val_precision: 0.6545 - val_recall: 0.3697 - val_auc: 0.7642\n",
      "Epoch 25/100\n",
      "21600/21600 [==============================] - 0s 10us/sample - loss: 0.4562 - tp: 1511.0000 - fp: 737.0000 - tn: 16099.0000 - fn: 3253.0000 - accuracy: 0.8153 - precision: 0.6722 - recall: 0.3172 - auc: 0.7411 - val_loss: 0.4436 - val_tp: 457.0000 - val_fp: 240.0000 - val_tn: 3951.0000 - val_fn: 752.0000 - val_accuracy: 0.8163 - val_precision: 0.6557 - val_recall: 0.3780 - val_auc: 0.7642\n",
      "Epoch 26/100\n",
      "21600/21600 [==============================] - 0s 11us/sample - loss: 0.4547 - tp: 1513.0000 - fp: 747.0000 - tn: 16089.0000 - fn: 3251.0000 - accuracy: 0.8149 - precision: 0.6695 - recall: 0.3176 - auc: 0.7421 - val_loss: 0.4433 - val_tp: 458.0000 - val_fp: 243.0000 - val_tn: 3948.0000 - val_fn: 751.0000 - val_accuracy: 0.8159 - val_precision: 0.6534 - val_recall: 0.3788 - val_auc: 0.7651\n",
      "Epoch 27/100\n",
      "21600/21600 [==============================] - 0s 11us/sample - loss: 0.4557 - tp: 1547.0000 - fp: 779.0000 - tn: 16057.0000 - fn: 3217.0000 - accuracy: 0.8150 - precision: 0.6651 - recall: 0.3247 - auc: 0.7400 - val_loss: 0.4432 - val_tp: 460.0000 - val_fp: 245.0000 - val_tn: 3946.0000 - val_fn: 749.0000 - val_accuracy: 0.8159 - val_precision: 0.6525 - val_recall: 0.3805 - val_auc: 0.7647\n",
      "Epoch 28/100\n",
      "21600/21600 [==============================] - 0s 10us/sample - loss: 0.4534 - tp: 1549.0000 - fp: 795.0000 - tn: 16041.0000 - fn: 3215.0000 - accuracy: 0.8144 - precision: 0.6608 - recall: 0.3251 - auc: 0.7433 - val_loss: 0.4430 - val_tp: 455.0000 - val_fp: 244.0000 - val_tn: 3947.0000 - val_fn: 754.0000 - val_accuracy: 0.8152 - val_precision: 0.6509 - val_recall: 0.3763 - val_auc: 0.7653\n",
      "Epoch 29/100\n",
      "21600/21600 [==============================] - 0s 10us/sample - loss: 0.4520 - tp: 1518.0000 - fp: 754.0000 - tn: 16082.0000 - fn: 3246.0000 - accuracy: 0.8148 - precision: 0.6681 - recall: 0.3186 - auc: 0.7443 - val_loss: 0.4431 - val_tp: 446.0000 - val_fp: 241.0000 - val_tn: 3950.0000 - val_fn: 763.0000 - val_accuracy: 0.8141 - val_precision: 0.6492 - val_recall: 0.3689 - val_auc: 0.7652\n",
      "Epoch 30/100\n",
      "21600/21600 [==============================] - 0s 11us/sample - loss: 0.4533 - tp: 1559.0000 - fp: 739.0000 - tn: 16097.0000 - fn: 3205.0000 - accuracy: 0.8174 - precision: 0.6784 - recall: 0.3272 - auc: 0.7435 - val_loss: 0.4433 - val_tp: 441.0000 - val_fp: 237.0000 - val_tn: 3954.0000 - val_fn: 768.0000 - val_accuracy: 0.8139 - val_precision: 0.6504 - val_recall: 0.3648 - val_auc: 0.7659\n",
      "Epoch 31/100\n",
      "21600/21600 [==============================] - 0s 11us/sample - loss: 0.4539 - tp: 1516.0000 - fp: 724.0000 - tn: 16112.0000 - fn: 3248.0000 - accuracy: 0.8161 - precision: 0.6768 - recall: 0.3182 - auc: 0.7419 - val_loss: 0.4431 - val_tp: 450.0000 - val_fp: 240.0000 - val_tn: 3951.0000 - val_fn: 759.0000 - val_accuracy: 0.8150 - val_precision: 0.6522 - val_recall: 0.3722 - val_auc: 0.7653\n",
      "Epoch 32/100\n",
      "21600/21600 [==============================] - 0s 12us/sample - loss: 0.4527 - tp: 1546.0000 - fp: 779.0000 - tn: 16057.0000 - fn: 3218.0000 - accuracy: 0.8150 - precision: 0.6649 - recall: 0.3245 - auc: 0.7453 - val_loss: 0.4429 - val_tp: 461.0000 - val_fp: 246.0000 - val_tn: 3945.0000 - val_fn: 748.0000 - val_accuracy: 0.8159 - val_precision: 0.6521 - val_recall: 0.3813 - val_auc: 0.7646\n",
      "Epoch 33/100\n",
      "21600/21600 [==============================] - 0s 12us/sample - loss: 0.4536 - tp: 1576.0000 - fp: 790.0000 - tn: 16046.0000 - fn: 3188.0000 - accuracy: 0.8158 - precision: 0.6661 - recall: 0.3308 - auc: 0.7425 - val_loss: 0.4430 - val_tp: 457.0000 - val_fp: 245.0000 - val_tn: 3946.0000 - val_fn: 752.0000 - val_accuracy: 0.8154 - val_precision: 0.6510 - val_recall: 0.3780 - val_auc: 0.7639\n",
      "Epoch 34/100\n",
      "21600/21600 [==============================] - 0s 11us/sample - loss: 0.4526 - tp: 1570.0000 - fp: 760.0000 - tn: 16076.0000 - fn: 3194.0000 - accuracy: 0.8169 - precision: 0.6738 - recall: 0.3296 - auc: 0.7437 - val_loss: 0.4429 - val_tp: 452.0000 - val_fp: 245.0000 - val_tn: 3946.0000 - val_fn: 757.0000 - val_accuracy: 0.8144 - val_precision: 0.6485 - val_recall: 0.3739 - val_auc: 0.7646\n",
      "Epoch 35/100\n",
      "21600/21600 [==============================] - 0s 9us/sample - loss: 0.4518 - tp: 1569.0000 - fp: 745.0000 - tn: 16091.0000 - fn: 3195.0000 - accuracy: 0.8176 - precision: 0.6780 - recall: 0.3293 - auc: 0.7455 - val_loss: 0.4427 - val_tp: 462.0000 - val_fp: 246.0000 - val_tn: 3945.0000 - val_fn: 747.0000 - val_accuracy: 0.8161 - val_precision: 0.6525 - val_recall: 0.3821 - val_auc: 0.7653\n",
      "Epoch 36/100\n",
      "21600/21600 [==============================] - 0s 10us/sample - loss: 0.4484 - tp: 1593.0000 - fp: 788.0000 - tn: 16048.0000 - fn: 3171.0000 - accuracy: 0.8167 - precision: 0.6690 - recall: 0.3344 - auc: 0.7502 - val_loss: 0.4425 - val_tp: 461.0000 - val_fp: 245.0000 - val_tn: 3946.0000 - val_fn: 748.0000 - val_accuracy: 0.8161 - val_precision: 0.6530 - val_recall: 0.3813 - val_auc: 0.7654\n",
      "Epoch 37/100\n",
      "21600/21600 [==============================] - 0s 11us/sample - loss: 0.4495 - tp: 1606.0000 - fp: 791.0000 - tn: 16045.0000 - fn: 3158.0000 - accuracy: 0.8172 - precision: 0.6700 - recall: 0.3371 - auc: 0.7482 - val_loss: 0.4427 - val_tp: 463.0000 - val_fp: 247.0000 - val_tn: 3944.0000 - val_fn: 746.0000 - val_accuracy: 0.8161 - val_precision: 0.6521 - val_recall: 0.3830 - val_auc: 0.7656\n",
      "Epoch 38/100\n",
      "20480/21600 [===========================>..] - ETA: 0s - loss: 0.4518 - tp: 1566.0000 - fp: 782.0000 - tn: 15169.0000 - fn: 2963.0000 - accuracy: 0.8171 - precision: 0.6670 - recall: 0.3458 - auc: 0.7435Restoring model weights from the end of the best epoch.\n",
      "21600/21600 [==============================] - 0s 23us/sample - loss: 0.4510 - tp: 1646.0000 - fp: 819.0000 - tn: 16017.0000 - fn: 3118.0000 - accuracy: 0.8177 - precision: 0.6677 - recall: 0.3455 - auc: 0.7436 - val_loss: 0.4429 - val_tp: 463.0000 - val_fp: 248.0000 - val_tn: 3943.0000 - val_fn: 746.0000 - val_accuracy: 0.8159 - val_precision: 0.6512 - val_recall: 0.3830 - val_auc: 0.7645\n",
      "Epoch 00038: early stopping\n"
     ]
    }
   ],
   "source": [
    "baseline_history = model.fit(\n",
    "    train_x,\n",
    "    train_y,\n",
    "    batch_size=BATCH_SIZE,\n",
    "    epochs=EPOCHS,\n",
    "    callbacks = [early_stopping],\n",
    "    validation_data=(val_x, val_y))"
   ]
  },
  {
   "cell_type": "code",
   "execution_count": 56,
   "metadata": {
    "scrolled": false
   },
   "outputs": [
    {
     "data": {
      "image/png": "[encoded data removed]",
      "text/plain": [
       "<Figure size 1296x864 with 4 Axes>"
      ]
     },
     "metadata": {
      "needs_background": "light"
     },
     "output_type": "display_data"
    }
   ],
   "source": [
    "plot_metrics(baseline_history)"
   ]
  },
  {
   "cell_type": "code",
   "execution_count": 57,
   "metadata": {
    "scrolled": true
   },
   "outputs": [],
   "source": [
    "train_predictions_baseline = model.predict(train_x, batch_size=BATCH_SIZE)\n",
    "val_predictions_baseline = model.predict(val_x, batch_size=BATCH_SIZE)"
   ]
  },
  {
   "cell_type": "code",
   "execution_count": 58,
   "metadata": {
    "scrolled": true
   },
   "outputs": [
    {
     "name": "stdout",
     "output_type": "stream",
     "text": [
      "loss :  0.4432679785622491\n",
      "tp :  441.0\n",
      "fp :  237.0\n",
      "tn :  3954.0\n",
      "fn :  768.0\n",
      "accuracy :  0.8138889\n",
      "precision :  0.6504425\n",
      "recall :  0.36476427\n",
      "auc :  0.76592755\n",
      "\n",
      "Legitimate Transactions Detected (True Negatives):  3954\n",
      "Legitimate Transactions Incorrectly Detected (False Positives):  237\n",
      "Fraudulent Transactions Missed (False Negatives):  768\n",
      "Fraudulent Transactions Detected (True Positives):  441\n",
      "Total Fraudulent Transactions:  1209\n"
     ]
    },
    {
     "data": {
      "image/png": "[encoded data removed]",
      "text/plain": [
       "<Figure size 360x360 with 2 Axes>"
      ]
     },
     "metadata": {
      "needs_background": "light"
     },
     "output_type": "display_data"
    }
   ],
   "source": [
    "baseline_results = model.evaluate(val_x, val_y, batch_size=BATCH_SIZE, verbose=0)\n",
    "\n",
    "for name, value in zip(model.metrics_names, baseline_results):\n",
    "  print(name, ': ', value)\n",
    "print()\n",
    "\n",
    "plot_cm(val_y, val_predictions_baseline)"
   ]
  },
  {
   "cell_type": "markdown",
   "metadata": {},
   "source": [
    "### Model Evaluation\n",
    "\n",
    "Malgrado l'accuracy sia molto alta, non può essere utilizzata per valutare il classificatore a causa delle classi sbilanciate.\n",
    "\n",
    "Ponendo l'attenzione sull'F-Measure si nota come il classificatore non è efficiente e quindi vanno effettuate delle correzioni per le classi sbilanciate.\n",
    "\n",
    "Può essere utile concentrarsi sulla diminuizione dei Falsi Negativi, in quanto il loro costo potrebbe essere più elevato rispetto a quello dei Falsi Positivi (nel primo caso \"perderemmo\" delle transazioni fraudolente, nel secondo probabilmente manderemmo una mail al cliente chiedendo di attenzionare la propria situazione finanziaria)"
   ]
  },
  {
   "cell_type": "code",
   "execution_count": 59,
   "metadata": {},
   "outputs": [
    {
     "data": {
      "text/plain": [
       "<matplotlib.legend.Legend at 0x1a49e750d0>"
      ]
     },
     "execution_count": 59,
     "metadata": {},
     "output_type": "execute_result"
    },
    {
     "data": {
      "image/png": "[encoded data removed]",
      "text/plain": [
       "<Figure size 1296x864 with 1 Axes>"
      ]
     },
     "metadata": {
      "needs_background": "light"
     },
     "output_type": "display_data"
    }
   ],
   "source": [
    "plot_roc(\"Train Baseline\", train_y, train_predictions_baseline, color=colors[0])\n",
    "plot_roc(\"Validation Baseline\", val_y, val_predictions_baseline, color=colors[0], linestyle='--')\n",
    "plt.legend(loc='lower right')"
   ]
  },
  {
   "cell_type": "markdown",
   "metadata": {},
   "source": [
    "## WEIGHTED MODEL\n",
    "\n",
    "Managing unbalanced classes"
   ]
  },
  {
   "cell_type": "markdown",
   "metadata": {},
   "source": [
    "Un rimedio utile nel caso di classificazione a classi sbilanciate è rappresentato dall'imposizione di un sistema di pesi che dia più valore alla classe rara nella fase di Training (esistono anche altri metodi come Oversampling ecc..)"
   ]
  },
  {
   "cell_type": "code",
   "execution_count": 60,
   "metadata": {},
   "outputs": [
    {
     "name": "stdout",
     "output_type": "stream",
     "text": [
      "Weight for class 0: 0.64\n",
      "Weight for class 1: 2.26\n"
     ]
    }
   ],
   "source": [
    "# Scaling by total/2 helps keep the loss to a similar magnitude.\n",
    "# The sum of the weights of all examples stays the same.\n",
    "weight_for_0 = (1 / neg)*(total)/2.0 \n",
    "weight_for_1 = (1 / pos)*(total)/2.0\n",
    "\n",
    "class_weight = {0: weight_for_0, 1: weight_for_1}\n",
    "\n",
    "print('Weight for class 0: {:.2f}'.format(weight_for_0))\n",
    "print('Weight for class 1: {:.2f}'.format(weight_for_1))"
   ]
  },
  {
   "cell_type": "code",
   "execution_count": 61,
   "metadata": {},
   "outputs": [],
   "source": [
    "import random"
   ]
  },
  {
   "cell_type": "code",
   "execution_count": 62,
   "metadata": {
    "scrolled": true
   },
   "outputs": [
    {
     "data": {
      "text/plain": [
       "<tensorflow.python.training.tracking.util.CheckpointLoadStatus at 0x1a49f0f190>"
      ]
     },
     "execution_count": 62,
     "metadata": {},
     "output_type": "execute_result"
    }
   ],
   "source": [
    "random.seed(22)\n",
    "weighted_model = make_model()\n",
    "weighted_model.load_weights(initial_weights)"
   ]
  },
  {
   "cell_type": "code",
   "execution_count": 63,
   "metadata": {
    "scrolled": true
   },
   "outputs": [
    {
     "name": "stdout",
     "output_type": "stream",
     "text": [
      "Model: \"sequential_5\"\n",
      "_________________________________________________________________\n",
      "Layer (type)                 Output Shape              Param #   \n",
      "=================================================================\n",
      "dense_15 (Dense)             (None, 16)                384       \n",
      "_________________________________________________________________\n",
      "dropout_10 (Dropout)         (None, 16)                0         \n",
      "_________________________________________________________________\n",
      "dense_16 (Dense)             (None, 64)                1088      \n",
      "_________________________________________________________________\n",
      "dropout_11 (Dropout)         (None, 64)                0         \n",
      "_________________________________________________________________\n",
      "dense_17 (Dense)             (None, 1)                 65        \n",
      "=================================================================\n",
      "Total params: 1,537\n",
      "Trainable params: 1,537\n",
      "Non-trainable params: 0\n",
      "_________________________________________________________________\n"
     ]
    }
   ],
   "source": [
    "weighted_model.summary()"
   ]
  },
  {
   "cell_type": "code",
   "execution_count": 64,
   "metadata": {
    "scrolled": true
   },
   "outputs": [
    {
     "name": "stdout",
     "output_type": "stream",
     "text": [
      "Train on 21600 samples, validate on 5400 samples\n",
      "Epoch 1/100\n",
      "21600/21600 [==============================] - 2s 77us/sample - loss: 0.6868 - tp: 3843.0000 - fp: 12872.0000 - tn: 3964.0000 - fn: 921.0000 - accuracy: 0.3614 - precision: 0.2299 - recall: 0.8067 - auc: 0.5714 - val_loss: 0.6962 - val_tp: 974.0000 - val_fp: 2478.0000 - val_tn: 1713.0000 - val_fn: 235.0000 - val_accuracy: 0.4976 - val_precision: 0.2822 - val_recall: 0.8056 - val_auc: 0.6940\n",
      "Epoch 2/100\n",
      "21600/21600 [==============================] - 0s 11us/sample - loss: 0.6690 - tp: 3500.0000 - fp: 9622.0000 - tn: 7214.0000 - fn: 1264.0000 - accuracy: 0.4960 - precision: 0.2667 - recall: 0.7347 - auc: 0.6482 - val_loss: 0.6853 - val_tp: 857.0000 - val_fp: 1645.0000 - val_tn: 2546.0000 - val_fn: 352.0000 - val_accuracy: 0.6302 - val_precision: 0.3425 - val_recall: 0.7089 - val_auc: 0.7290\n",
      "Epoch 3/100\n",
      "21600/21600 [==============================] - 0s 11us/sample - loss: 0.6483 - tp: 3270.0000 - fp: 6919.0000 - tn: 9917.0000 - fn: 1494.0000 - accuracy: 0.6105 - precision: 0.3209 - recall: 0.6864 - auc: 0.6974 - val_loss: 0.6741 - val_tp: 795.0000 - val_fp: 1191.0000 - val_tn: 3000.0000 - val_fn: 414.0000 - val_accuracy: 0.7028 - val_precision: 0.4003 - val_recall: 0.6576 - val_auc: 0.7415\n",
      "Epoch 4/100\n",
      "21600/21600 [==============================] - 0s 11us/sample - loss: 0.6338 - tp: 2929.0000 - fp: 4740.0000 - tn: 12096.0000 - fn: 1835.0000 - accuracy: 0.6956 - precision: 0.3819 - recall: 0.6148 - auc: 0.7156 - val_loss: 0.6614 - val_tp: 713.0000 - val_fp: 839.0000 - val_tn: 3352.0000 - val_fn: 496.0000 - val_accuracy: 0.7528 - val_precision: 0.4594 - val_recall: 0.5897 - val_auc: 0.7439\n",
      "Epoch 5/100\n",
      "21600/21600 [==============================] - 0s 11us/sample - loss: 0.6207 - tp: 2762.0000 - fp: 3468.0000 - tn: 13368.0000 - fn: 2002.0000 - accuracy: 0.7468 - precision: 0.4433 - recall: 0.5798 - auc: 0.7312 - val_loss: 0.6406 - val_tp: 689.0000 - val_fp: 743.0000 - val_tn: 3448.0000 - val_fn: 520.0000 - val_accuracy: 0.7661 - val_precision: 0.4811 - val_recall: 0.5699 - val_auc: 0.7484\n",
      "Epoch 6/100\n",
      "21600/21600 [==============================] - 0s 11us/sample - loss: 0.6135 - tp: 2607.0000 - fp: 2903.0000 - tn: 13933.0000 - fn: 2157.0000 - accuracy: 0.7657 - precision: 0.4731 - recall: 0.5472 - auc: 0.7325 - val_loss: 0.6129 - val_tp: 690.0000 - val_fp: 703.0000 - val_tn: 3488.0000 - val_fn: 519.0000 - val_accuracy: 0.7737 - val_precision: 0.4953 - val_recall: 0.5707 - val_auc: 0.7529\n",
      "Epoch 7/100\n",
      "21600/21600 [==============================] - 0s 11us/sample - loss: 0.6038 - tp: 2622.0000 - fp: 2798.0000 - tn: 14038.0000 - fn: 2142.0000 - accuracy: 0.7713 - precision: 0.4838 - recall: 0.5504 - auc: 0.7407 - val_loss: 0.5923 - val_tp: 696.0000 - val_fp: 710.0000 - val_tn: 3481.0000 - val_fn: 513.0000 - val_accuracy: 0.7735 - val_precision: 0.4950 - val_recall: 0.5757 - val_auc: 0.7584\n",
      "Epoch 8/100\n",
      "21600/21600 [==============================] - 0s 11us/sample - loss: 0.5975 - tp: 2678.0000 - fp: 2946.0000 - tn: 13890.0000 - fn: 2086.0000 - accuracy: 0.7670 - precision: 0.4762 - recall: 0.5621 - auc: 0.7476 - val_loss: 0.5813 - val_tp: 713.0000 - val_fp: 753.0000 - val_tn: 3438.0000 - val_fn: 496.0000 - val_accuracy: 0.7687 - val_precision: 0.4864 - val_recall: 0.5897 - val_auc: 0.7607\n",
      "Epoch 9/100\n",
      "21600/21600 [==============================] - 0s 12us/sample - loss: 0.5966 - tp: 2755.0000 - fp: 3103.0000 - tn: 13733.0000 - fn: 2009.0000 - accuracy: 0.7633 - precision: 0.4703 - recall: 0.5783 - auc: 0.7464 - val_loss: 0.5743 - val_tp: 729.0000 - val_fp: 787.0000 - val_tn: 3404.0000 - val_fn: 480.0000 - val_accuracy: 0.7654 - val_precision: 0.4809 - val_recall: 0.6030 - val_auc: 0.7631\n",
      "Epoch 10/100\n",
      "21600/21600 [==============================] - 0s 11us/sample - loss: 0.5927 - tp: 2815.0000 - fp: 3208.0000 - tn: 13628.0000 - fn: 1949.0000 - accuracy: 0.7613 - precision: 0.4674 - recall: 0.5909 - auc: 0.7503 - val_loss: 0.5711 - val_tp: 740.0000 - val_fp: 800.0000 - val_tn: 3391.0000 - val_fn: 469.0000 - val_accuracy: 0.7650 - val_precision: 0.4805 - val_recall: 0.6121 - val_auc: 0.7657\n",
      "Epoch 11/100\n",
      "21600/21600 [==============================] - 0s 11us/sample - loss: 0.5916 - tp: 2831.0000 - fp: 3309.0000 - tn: 13527.0000 - fn: 1933.0000 - accuracy: 0.7573 - precision: 0.4611 - recall: 0.5942 - auc: 0.7524 - val_loss: 0.5671 - val_tp: 745.0000 - val_fp: 806.0000 - val_tn: 3385.0000 - val_fn: 464.0000 - val_accuracy: 0.7648 - val_precision: 0.4803 - val_recall: 0.6162 - val_auc: 0.7668\n",
      "Epoch 12/100\n",
      "21600/21600 [==============================] - 0s 12us/sample - loss: 0.5895 - tp: 2847.0000 - fp: 3260.0000 - tn: 13576.0000 - fn: 1917.0000 - accuracy: 0.7603 - precision: 0.4662 - recall: 0.5976 - auc: 0.7526 - val_loss: 0.5634 - val_tp: 740.0000 - val_fp: 797.0000 - val_tn: 3394.0000 - val_fn: 469.0000 - val_accuracy: 0.7656 - val_precision: 0.4815 - val_recall: 0.6121 - val_auc: 0.7684\n",
      "Epoch 13/100\n",
      "21600/21600 [==============================] - 0s 11us/sample - loss: 0.5894 - tp: 2859.0000 - fp: 3305.0000 - tn: 13531.0000 - fn: 1905.0000 - accuracy: 0.7588 - precision: 0.4638 - recall: 0.6001 - auc: 0.7527 - val_loss: 0.5654 - val_tp: 743.0000 - val_fp: 794.0000 - val_tn: 3397.0000 - val_fn: 466.0000 - val_accuracy: 0.7667 - val_precision: 0.4834 - val_recall: 0.6146 - val_auc: 0.7690\n",
      "Epoch 14/100\n",
      "21600/21600 [==============================] - 0s 11us/sample - loss: 0.5866 - tp: 2871.0000 - fp: 3401.0000 - tn: 13435.0000 - fn: 1893.0000 - accuracy: 0.7549 - precision: 0.4577 - recall: 0.6026 - auc: 0.7552 - val_loss: 0.5643 - val_tp: 745.0000 - val_fp: 804.0000 - val_tn: 3387.0000 - val_fn: 464.0000 - val_accuracy: 0.7652 - val_precision: 0.4810 - val_recall: 0.6162 - val_auc: 0.7703\n",
      "Epoch 15/100\n",
      "21600/21600 [==============================] - 0s 10us/sample - loss: 0.5847 - tp: 2876.0000 - fp: 3400.0000 - tn: 13436.0000 - fn: 1888.0000 - accuracy: 0.7552 - precision: 0.4583 - recall: 0.6037 - auc: 0.7571 - val_loss: 0.5609 - val_tp: 751.0000 - val_fp: 818.0000 - val_tn: 3373.0000 - val_fn: 458.0000 - val_accuracy: 0.7637 - val_precision: 0.4786 - val_recall: 0.6212 - val_auc: 0.7704\n",
      "Epoch 16/100\n",
      "21600/21600 [==============================] - 0s 11us/sample - loss: 0.5852 - tp: 2879.0000 - fp: 3390.0000 - tn: 13446.0000 - fn: 1885.0000 - accuracy: 0.7558 - precision: 0.4592 - recall: 0.6043 - auc: 0.7572 - val_loss: 0.5604 - val_tp: 745.0000 - val_fp: 803.0000 - val_tn: 3388.0000 - val_fn: 464.0000 - val_accuracy: 0.7654 - val_precision: 0.4813 - val_recall: 0.6162 - val_auc: 0.7713\n",
      "Epoch 17/100\n",
      "21600/21600 [==============================] - 0s 10us/sample - loss: 0.5848 - tp: 2846.0000 - fp: 3291.0000 - tn: 13545.0000 - fn: 1918.0000 - accuracy: 0.7588 - precision: 0.4637 - recall: 0.5974 - auc: 0.7561 - val_loss: 0.5595 - val_tp: 746.0000 - val_fp: 807.0000 - val_tn: 3384.0000 - val_fn: 463.0000 - val_accuracy: 0.7648 - val_precision: 0.4804 - val_recall: 0.6170 - val_auc: 0.7716\n",
      "Epoch 18/100\n",
      "21600/21600 [==============================] - 0s 11us/sample - loss: 0.5839 - tp: 2876.0000 - fp: 3316.0000 - tn: 13520.0000 - fn: 1888.0000 - accuracy: 0.7591 - precision: 0.4645 - recall: 0.6037 - auc: 0.7578 - val_loss: 0.5582 - val_tp: 746.0000 - val_fp: 811.0000 - val_tn: 3380.0000 - val_fn: 463.0000 - val_accuracy: 0.7641 - val_precision: 0.4791 - val_recall: 0.6170 - val_auc: 0.7724\n",
      "Epoch 19/100\n",
      "21600/21600 [==============================] - 0s 11us/sample - loss: 0.5814 - tp: 2916.0000 - fp: 3391.0000 - tn: 13445.0000 - fn: 1848.0000 - accuracy: 0.7575 - precision: 0.4623 - recall: 0.6121 - auc: 0.7597 - val_loss: 0.5581 - val_tp: 749.0000 - val_fp: 825.0000 - val_tn: 3366.0000 - val_fn: 460.0000 - val_accuracy: 0.7620 - val_precision: 0.4759 - val_recall: 0.6195 - val_auc: 0.7730\n",
      "Epoch 20/100\n",
      "21600/21600 [==============================] - 0s 11us/sample - loss: 0.5839 - tp: 2905.0000 - fp: 3419.0000 - tn: 13417.0000 - fn: 1859.0000 - accuracy: 0.7556 - precision: 0.4594 - recall: 0.6098 - auc: 0.7590 - val_loss: 0.5559 - val_tp: 750.0000 - val_fp: 831.0000 - val_tn: 3360.0000 - val_fn: 459.0000 - val_accuracy: 0.7611 - val_precision: 0.4744 - val_recall: 0.6203 - val_auc: 0.7735\n",
      "Epoch 21/100\n"
     ]
    },
    {
     "name": "stdout",
     "output_type": "stream",
     "text": [
      "21600/21600 [==============================] - 0s 11us/sample - loss: 0.5818 - tp: 2912.0000 - fp: 3398.0000 - tn: 13438.0000 - fn: 1852.0000 - accuracy: 0.7569 - precision: 0.4615 - recall: 0.6113 - auc: 0.7612 - val_loss: 0.5519 - val_tp: 748.0000 - val_fp: 821.0000 - val_tn: 3370.0000 - val_fn: 461.0000 - val_accuracy: 0.7626 - val_precision: 0.4767 - val_recall: 0.6187 - val_auc: 0.7739\n",
      "Epoch 22/100\n",
      "21600/21600 [==============================] - 0s 11us/sample - loss: 0.5806 - tp: 2897.0000 - fp: 3372.0000 - tn: 13464.0000 - fn: 1867.0000 - accuracy: 0.7575 - precision: 0.4621 - recall: 0.6081 - auc: 0.7608 - val_loss: 0.5557 - val_tp: 751.0000 - val_fp: 837.0000 - val_tn: 3354.0000 - val_fn: 458.0000 - val_accuracy: 0.7602 - val_precision: 0.4729 - val_recall: 0.6212 - val_auc: 0.7737\n",
      "Epoch 23/100\n",
      "21600/21600 [==============================] - 0s 11us/sample - loss: 0.5834 - tp: 2926.0000 - fp: 3476.0000 - tn: 13360.0000 - fn: 1838.0000 - accuracy: 0.7540 - precision: 0.4570 - recall: 0.6142 - auc: 0.7599 - val_loss: 0.5532 - val_tp: 752.0000 - val_fp: 837.0000 - val_tn: 3354.0000 - val_fn: 457.0000 - val_accuracy: 0.7604 - val_precision: 0.4733 - val_recall: 0.6220 - val_auc: 0.7738\n",
      "Epoch 24/100\n",
      "21600/21600 [==============================] - 0s 11us/sample - loss: 0.5802 - tp: 2897.0000 - fp: 3414.0000 - tn: 13422.0000 - fn: 1867.0000 - accuracy: 0.7555 - precision: 0.4590 - recall: 0.6081 - auc: 0.7630 - val_loss: 0.5530 - val_tp: 749.0000 - val_fp: 836.0000 - val_tn: 3355.0000 - val_fn: 460.0000 - val_accuracy: 0.7600 - val_precision: 0.4726 - val_recall: 0.6195 - val_auc: 0.7745\n",
      "Epoch 25/100\n",
      "21600/21600 [==============================] - 0s 11us/sample - loss: 0.5801 - tp: 2915.0000 - fp: 3529.0000 - tn: 13307.0000 - fn: 1849.0000 - accuracy: 0.7510 - precision: 0.4524 - recall: 0.6119 - auc: 0.7634 - val_loss: 0.5543 - val_tp: 751.0000 - val_fp: 848.0000 - val_tn: 3343.0000 - val_fn: 458.0000 - val_accuracy: 0.7581 - val_precision: 0.4697 - val_recall: 0.6212 - val_auc: 0.7746\n",
      "Epoch 26/100\n",
      "21600/21600 [==============================] - 0s 11us/sample - loss: 0.5809 - tp: 2927.0000 - fp: 3456.0000 - tn: 13380.0000 - fn: 1837.0000 - accuracy: 0.7550 - precision: 0.4586 - recall: 0.6144 - auc: 0.7613 - val_loss: 0.5508 - val_tp: 748.0000 - val_fp: 846.0000 - val_tn: 3345.0000 - val_fn: 461.0000 - val_accuracy: 0.7580 - val_precision: 0.4693 - val_recall: 0.6187 - val_auc: 0.7751\n",
      "Epoch 27/100\n",
      "21600/21600 [==============================] - 0s 11us/sample - loss: 0.5790 - tp: 2926.0000 - fp: 3446.0000 - tn: 13390.0000 - fn: 1838.0000 - accuracy: 0.7554 - precision: 0.4592 - recall: 0.6142 - auc: 0.7635 - val_loss: 0.5481 - val_tp: 748.0000 - val_fp: 835.0000 - val_tn: 3356.0000 - val_fn: 461.0000 - val_accuracy: 0.7600 - val_precision: 0.4725 - val_recall: 0.6187 - val_auc: 0.7753\n",
      "Epoch 28/100\n",
      "21600/21600 [==============================] - 0s 11us/sample - loss: 0.5790 - tp: 2943.0000 - fp: 3475.0000 - tn: 13361.0000 - fn: 1821.0000 - accuracy: 0.7548 - precision: 0.4586 - recall: 0.6178 - auc: 0.7643 - val_loss: 0.5485 - val_tp: 748.0000 - val_fp: 844.0000 - val_tn: 3347.0000 - val_fn: 461.0000 - val_accuracy: 0.7583 - val_precision: 0.4698 - val_recall: 0.6187 - val_auc: 0.7760\n",
      "Epoch 29/100\n",
      "21600/21600 [==============================] - 0s 11us/sample - loss: 0.5773 - tp: 2941.0000 - fp: 3499.0000 - tn: 13337.0000 - fn: 1823.0000 - accuracy: 0.7536 - precision: 0.4567 - recall: 0.6173 - auc: 0.7657 - val_loss: 0.5497 - val_tp: 754.0000 - val_fp: 859.0000 - val_tn: 3332.0000 - val_fn: 455.0000 - val_accuracy: 0.7567 - val_precision: 0.4675 - val_recall: 0.6237 - val_auc: 0.7756\n",
      "Epoch 30/100\n",
      "21600/21600 [==============================] - 0s 11us/sample - loss: 0.5793 - tp: 2961.0000 - fp: 3569.0000 - tn: 13267.0000 - fn: 1803.0000 - accuracy: 0.7513 - precision: 0.4534 - recall: 0.6215 - auc: 0.7644 - val_loss: 0.5473 - val_tp: 755.0000 - val_fp: 862.0000 - val_tn: 3329.0000 - val_fn: 454.0000 - val_accuracy: 0.7563 - val_precision: 0.4669 - val_recall: 0.6245 - val_auc: 0.7754\n",
      "Epoch 31/100\n",
      "21600/21600 [==============================] - 0s 11us/sample - loss: 0.5773 - tp: 2999.0000 - fp: 3608.0000 - tn: 13228.0000 - fn: 1765.0000 - accuracy: 0.7513 - precision: 0.4539 - recall: 0.6295 - auc: 0.7655 - val_loss: 0.5481 - val_tp: 756.0000 - val_fp: 857.0000 - val_tn: 3334.0000 - val_fn: 453.0000 - val_accuracy: 0.7574 - val_precision: 0.4687 - val_recall: 0.6253 - val_auc: 0.7762\n",
      "Epoch 32/100\n",
      "21600/21600 [==============================] - 0s 11us/sample - loss: 0.5802 - tp: 2965.0000 - fp: 3643.0000 - tn: 13193.0000 - fn: 1799.0000 - accuracy: 0.7481 - precision: 0.4487 - recall: 0.6224 - auc: 0.7644 - val_loss: 0.5485 - val_tp: 755.0000 - val_fp: 861.0000 - val_tn: 3330.0000 - val_fn: 454.0000 - val_accuracy: 0.7565 - val_precision: 0.4672 - val_recall: 0.6245 - val_auc: 0.7765\n",
      "Epoch 33/100\n",
      "21600/21600 [==============================] - 0s 11us/sample - loss: 0.5786 - tp: 2967.0000 - fp: 3641.0000 - tn: 13195.0000 - fn: 1797.0000 - accuracy: 0.7482 - precision: 0.4490 - recall: 0.6228 - auc: 0.7650 - val_loss: 0.5480 - val_tp: 753.0000 - val_fp: 856.0000 - val_tn: 3335.0000 - val_fn: 456.0000 - val_accuracy: 0.7570 - val_precision: 0.4680 - val_recall: 0.6228 - val_auc: 0.7766\n",
      "Epoch 34/100\n",
      "21600/21600 [==============================] - 0s 10us/sample - loss: 0.5771 - tp: 3003.0000 - fp: 3614.0000 - tn: 13222.0000 - fn: 1761.0000 - accuracy: 0.7512 - precision: 0.4538 - recall: 0.6304 - auc: 0.7664 - val_loss: 0.5467 - val_tp: 755.0000 - val_fp: 857.0000 - val_tn: 3334.0000 - val_fn: 454.0000 - val_accuracy: 0.7572 - val_precision: 0.4684 - val_recall: 0.6245 - val_auc: 0.7765\n",
      "Epoch 35/100\n",
      "21600/21600 [==============================] - 0s 11us/sample - loss: 0.5810 - tp: 2973.0000 - fp: 3662.0000 - tn: 13174.0000 - fn: 1791.0000 - accuracy: 0.7475 - precision: 0.4481 - recall: 0.6241 - auc: 0.7634 - val_loss: 0.5431 - val_tp: 753.0000 - val_fp: 856.0000 - val_tn: 3335.0000 - val_fn: 456.0000 - val_accuracy: 0.7570 - val_precision: 0.4680 - val_recall: 0.6228 - val_auc: 0.7768\n",
      "Epoch 36/100\n",
      "21600/21600 [==============================] - 0s 11us/sample - loss: 0.5773 - tp: 2955.0000 - fp: 3641.0000 - tn: 13195.0000 - fn: 1809.0000 - accuracy: 0.7477 - precision: 0.4480 - recall: 0.6203 - auc: 0.7636 - val_loss: 0.5430 - val_tp: 754.0000 - val_fp: 847.0000 - val_tn: 3344.0000 - val_fn: 455.0000 - val_accuracy: 0.7589 - val_precision: 0.4710 - val_recall: 0.6237 - val_auc: 0.7769\n",
      "Epoch 37/100\n",
      "21600/21600 [==============================] - 0s 11us/sample - loss: 0.5772 - tp: 2944.0000 - fp: 3579.0000 - tn: 13257.0000 - fn: 1820.0000 - accuracy: 0.7500 - precision: 0.4513 - recall: 0.6180 - auc: 0.7644 - val_loss: 0.5419 - val_tp: 752.0000 - val_fp: 849.0000 - val_tn: 3342.0000 - val_fn: 457.0000 - val_accuracy: 0.7581 - val_precision: 0.4697 - val_recall: 0.6220 - val_auc: 0.7770\n",
      "Epoch 38/100\n",
      "21600/21600 [==============================] - 0s 11us/sample - loss: 0.5779 - tp: 2975.0000 - fp: 3702.0000 - tn: 13134.0000 - fn: 1789.0000 - accuracy: 0.7458 - precision: 0.4456 - recall: 0.6245 - auc: 0.7649 - val_loss: 0.5486 - val_tp: 759.0000 - val_fp: 874.0000 - val_tn: 3317.0000 - val_fn: 450.0000 - val_accuracy: 0.7548 - val_precision: 0.4648 - val_recall: 0.6278 - val_auc: 0.7769\n",
      "Epoch 39/100\n",
      "21600/21600 [==============================] - 0s 11us/sample - loss: 0.5769 - tp: 2977.0000 - fp: 3629.0000 - tn: 13207.0000 - fn: 1787.0000 - accuracy: 0.7493 - precision: 0.4507 - recall: 0.6249 - auc: 0.7654 - val_loss: 0.5414 - val_tp: 752.0000 - val_fp: 849.0000 - val_tn: 3342.0000 - val_fn: 457.0000 - val_accuracy: 0.7581 - val_precision: 0.4697 - val_recall: 0.6220 - val_auc: 0.7768\n",
      "Epoch 40/100\n",
      "21600/21600 [==============================] - 0s 11us/sample - loss: 0.5790 - tp: 2940.0000 - fp: 3601.0000 - tn: 13235.0000 - fn: 1824.0000 - accuracy: 0.7488 - precision: 0.4495 - recall: 0.6171 - auc: 0.7631 - val_loss: 0.5455 - val_tp: 757.0000 - val_fp: 864.0000 - val_tn: 3327.0000 - val_fn: 452.0000 - val_accuracy: 0.7563 - val_precision: 0.4670 - val_recall: 0.6261 - val_auc: 0.7766\n",
      "Epoch 41/100\n",
      "21600/21600 [==============================] - 0s 11us/sample - loss: 0.5780 - tp: 2974.0000 - fp: 3735.0000 - tn: 13101.0000 - fn: 1790.0000 - accuracy: 0.7442 - precision: 0.4433 - recall: 0.6243 - auc: 0.7633 - val_loss: 0.5438 - val_tp: 756.0000 - val_fp: 852.0000 - val_tn: 3339.0000 - val_fn: 453.0000 - val_accuracy: 0.7583 - val_precision: 0.4701 - val_recall: 0.6253 - val_auc: 0.7770\n",
      "Epoch 42/100\n",
      "21600/21600 [==============================] - 0s 11us/sample - loss: 0.5770 - tp: 2988.0000 - fp: 3693.0000 - tn: 13143.0000 - fn: 1776.0000 - accuracy: 0.7468 - precision: 0.4472 - recall: 0.6272 - auc: 0.7646 - val_loss: 0.5441 - val_tp: 755.0000 - val_fp: 848.0000 - val_tn: 3343.0000 - val_fn: 454.0000 - val_accuracy: 0.7589 - val_precision: 0.4710 - val_recall: 0.6245 - val_auc: 0.7772\n",
      "Epoch 43/100\n",
      "21600/21600 [==============================] - 0s 11us/sample - loss: 0.5766 - tp: 2958.0000 - fp: 3589.0000 - tn: 13247.0000 - fn: 1806.0000 - accuracy: 0.7502 - precision: 0.4518 - recall: 0.6209 - auc: 0.7649 - val_loss: 0.5396 - val_tp: 752.0000 - val_fp: 837.0000 - val_tn: 3354.0000 - val_fn: 457.0000 - val_accuracy: 0.7604 - val_precision: 0.4733 - val_recall: 0.6220 - val_auc: 0.7774\n",
      "Epoch 44/100\n",
      "21600/21600 [==============================] - 0s 11us/sample - loss: 0.5757 - tp: 2986.0000 - fp: 3690.0000 - tn: 13146.0000 - fn: 1778.0000 - accuracy: 0.7469 - precision: 0.4473 - recall: 0.6268 - auc: 0.7660 - val_loss: 0.5430 - val_tp: 753.0000 - val_fp: 859.0000 - val_tn: 3332.0000 - val_fn: 456.0000 - val_accuracy: 0.7565 - val_precision: 0.4671 - val_recall: 0.6228 - val_auc: 0.7772\n",
      "Epoch 45/100\n",
      "21600/21600 [==============================] - 0s 11us/sample - loss: 0.5750 - tp: 2989.0000 - fp: 3677.0000 - tn: 13159.0000 - fn: 1775.0000 - accuracy: 0.7476 - precision: 0.4484 - recall: 0.6274 - auc: 0.7676 - val_loss: 0.5430 - val_tp: 755.0000 - val_fp: 850.0000 - val_tn: 3341.0000 - val_fn: 454.0000 - val_accuracy: 0.7585 - val_precision: 0.4704 - val_recall: 0.6245 - val_auc: 0.7772\n",
      "Epoch 46/100\n",
      "21600/21600 [==============================] - 0s 11us/sample - loss: 0.5744 - tp: 3032.0000 - fp: 3798.0000 - tn: 13038.0000 - fn: 1732.0000 - accuracy: 0.7440 - precision: 0.4439 - recall: 0.6364 - auc: 0.7690 - val_loss: 0.5433 - val_tp: 756.0000 - val_fp: 857.0000 - val_tn: 3334.0000 - val_fn: 453.0000 - val_accuracy: 0.7574 - val_precision: 0.4687 - val_recall: 0.6253 - val_auc: 0.7769\n",
      "Epoch 47/100\n",
      "21600/21600 [==============================] - 0s 10us/sample - loss: 0.5782 - tp: 2997.0000 - fp: 3788.0000 - tn: 13048.0000 - fn: 1767.0000 - accuracy: 0.7428 - precision: 0.4417 - recall: 0.6291 - auc: 0.7642 - val_loss: 0.5422 - val_tp: 754.0000 - val_fp: 842.0000 - val_tn: 3349.0000 - val_fn: 455.0000 - val_accuracy: 0.7598 - val_precision: 0.4724 - val_recall: 0.6237 - val_auc: 0.7769\n",
      "Epoch 48/100\n",
      "21600/21600 [==============================] - 0s 11us/sample - loss: 0.5773 - tp: 2998.0000 - fp: 3663.0000 - tn: 13173.0000 - fn: 1766.0000 - accuracy: 0.7487 - precision: 0.4501 - recall: 0.6293 - auc: 0.7655 - val_loss: 0.5397 - val_tp: 752.0000 - val_fp: 845.0000 - val_tn: 3346.0000 - val_fn: 457.0000 - val_accuracy: 0.7589 - val_precision: 0.4709 - val_recall: 0.6220 - val_auc: 0.7774\n",
      "Epoch 49/100\n",
      "21600/21600 [==============================] - 0s 10us/sample - loss: 0.5774 - tp: 2972.0000 - fp: 3641.0000 - tn: 13195.0000 - fn: 1792.0000 - accuracy: 0.7485 - precision: 0.4494 - recall: 0.6238 - auc: 0.7648 - val_loss: 0.5419 - val_tp: 754.0000 - val_fp: 854.0000 - val_tn: 3337.0000 - val_fn: 455.0000 - val_accuracy: 0.7576 - val_precision: 0.4689 - val_recall: 0.6237 - val_auc: 0.7780\n",
      "Epoch 50/100\n",
      "21600/21600 [==============================] - 0s 11us/sample - loss: 0.5750 - tp: 3011.0000 - fp: 3764.0000 - tn: 13072.0000 - fn: 1753.0000 - accuracy: 0.7446 - precision: 0.4444 - recall: 0.6320 - auc: 0.7695 - val_loss: 0.5427 - val_tp: 761.0000 - val_fp: 866.0000 - val_tn: 3325.0000 - val_fn: 448.0000 - val_accuracy: 0.7567 - val_precision: 0.4677 - val_recall: 0.6294 - val_auc: 0.7785\n",
      "Epoch 51/100\n",
      "21600/21600 [==============================] - 0s 11us/sample - loss: 0.5746 - tp: 3022.0000 - fp: 3773.0000 - tn: 13063.0000 - fn: 1742.0000 - accuracy: 0.7447 - precision: 0.4447 - recall: 0.6343 - auc: 0.7690 - val_loss: 0.5375 - val_tp: 755.0000 - val_fp: 858.0000 - val_tn: 3333.0000 - val_fn: 454.0000 - val_accuracy: 0.7570 - val_precision: 0.4681 - val_recall: 0.6245 - val_auc: 0.7786\n",
      "Epoch 52/100\n",
      "21600/21600 [==============================] - 0s 11us/sample - loss: 0.5748 - tp: 3039.0000 - fp: 3809.0000 - tn: 13027.0000 - fn: 1725.0000 - accuracy: 0.7438 - precision: 0.4438 - recall: 0.6379 - auc: 0.7688 - val_loss: 0.5443 - val_tp: 760.0000 - val_fp: 875.0000 - val_tn: 3316.0000 - val_fn: 449.0000 - val_accuracy: 0.7548 - val_precision: 0.4648 - val_recall: 0.6286 - val_auc: 0.7785\n",
      "Epoch 53/100\n",
      "21600/21600 [==============================] - 0s 11us/sample - loss: 0.5772 - tp: 3043.0000 - fp: 3881.0000 - tn: 12955.0000 - fn: 1721.0000 - accuracy: 0.7406 - precision: 0.4395 - recall: 0.6387 - auc: 0.7670 - val_loss: 0.5395 - val_tp: 761.0000 - val_fp: 863.0000 - val_tn: 3328.0000 - val_fn: 448.0000 - val_accuracy: 0.7572 - val_precision: 0.4686 - val_recall: 0.6294 - val_auc: 0.7784\n",
      "Epoch 54/100\n",
      "21600/21600 [==============================] - 0s 11us/sample - loss: 0.5742 - tp: 3002.0000 - fp: 3730.0000 - tn: 13106.0000 - fn: 1762.0000 - accuracy: 0.7457 - precision: 0.4459 - recall: 0.6301 - auc: 0.7681 - val_loss: 0.5396 - val_tp: 756.0000 - val_fp: 870.0000 - val_tn: 3321.0000 - val_fn: 453.0000 - val_accuracy: 0.7550 - val_precision: 0.4649 - val_recall: 0.6253 - val_auc: 0.7786\n",
      "Epoch 55/100\n",
      "21600/21600 [==============================] - 0s 11us/sample - loss: 0.5754 - tp: 3004.0000 - fp: 3704.0000 - tn: 13132.0000 - fn: 1760.0000 - accuracy: 0.7470 - precision: 0.4478 - recall: 0.6306 - auc: 0.7672 - val_loss: 0.5382 - val_tp: 757.0000 - val_fp: 860.0000 - val_tn: 3331.0000 - val_fn: 452.0000 - val_accuracy: 0.7570 - val_precision: 0.4682 - val_recall: 0.6261 - val_auc: 0.7787\n",
      "Epoch 56/100\n",
      "21600/21600 [==============================] - 0s 11us/sample - loss: 0.5732 - tp: 3057.0000 - fp: 3777.0000 - tn: 13059.0000 - fn: 1707.0000 - accuracy: 0.7461 - precision: 0.4473 - recall: 0.6417 - auc: 0.7701 - val_loss: 0.5436 - val_tp: 762.0000 - val_fp: 873.0000 - val_tn: 3318.0000 - val_fn: 447.0000 - val_accuracy: 0.7556 - val_precision: 0.4661 - val_recall: 0.6303 - val_auc: 0.7784\n",
      "Epoch 57/100\n",
      "21600/21600 [==============================] - 0s 12us/sample - loss: 0.5733 - tp: 3081.0000 - fp: 3895.0000 - tn: 12941.0000 - fn: 1683.0000 - accuracy: 0.7418 - precision: 0.4417 - recall: 0.6467 - auc: 0.7691 - val_loss: 0.5371 - val_tp: 756.0000 - val_fp: 865.0000 - val_tn: 3326.0000 - val_fn: 453.0000 - val_accuracy: 0.7559 - val_precision: 0.4664 - val_recall: 0.6253 - val_auc: 0.7782\n",
      "Epoch 58/100\n",
      "21600/21600 [==============================] - 0s 12us/sample - loss: 0.5746 - tp: 3034.0000 - fp: 3718.0000 - tn: 13118.0000 - fn: 1730.0000 - accuracy: 0.7478 - precision: 0.4493 - recall: 0.6369 - auc: 0.7688 - val_loss: 0.5387 - val_tp: 759.0000 - val_fp: 862.0000 - val_tn: 3329.0000 - val_fn: 450.0000 - val_accuracy: 0.7570 - val_precision: 0.4682 - val_recall: 0.6278 - val_auc: 0.7785\n",
      "Epoch 59/100\n",
      "21600/21600 [==============================] - 0s 12us/sample - loss: 0.5744 - tp: 3024.0000 - fp: 3735.0000 - tn: 13101.0000 - fn: 1740.0000 - accuracy: 0.7465 - precision: 0.4474 - recall: 0.6348 - auc: 0.7696 - val_loss: 0.5397 - val_tp: 762.0000 - val_fp: 872.0000 - val_tn: 3319.0000 - val_fn: 447.0000 - val_accuracy: 0.7557 - val_precision: 0.4663 - val_recall: 0.6303 - val_auc: 0.7785\n",
      "Epoch 60/100\n",
      "21600/21600 [==============================] - 0s 12us/sample - loss: 0.5749 - tp: 3055.0000 - fp: 3788.0000 - tn: 13048.0000 - fn: 1709.0000 - accuracy: 0.7455 - precision: 0.4464 - recall: 0.6413 - auc: 0.7690 - val_loss: 0.5392 - val_tp: 760.0000 - val_fp: 870.0000 - val_tn: 3321.0000 - val_fn: 449.0000 - val_accuracy: 0.7557 - val_precision: 0.4663 - val_recall: 0.6286 - val_auc: 0.7787\n",
      "Epoch 61/100\n"
     ]
    },
    {
     "name": "stdout",
     "output_type": "stream",
     "text": [
      "21600/21600 [==============================] - 0s 11us/sample - loss: 0.5743 - tp: 3027.0000 - fp: 3782.0000 - tn: 13054.0000 - fn: 1737.0000 - accuracy: 0.7445 - precision: 0.4446 - recall: 0.6354 - auc: 0.7678 - val_loss: 0.5384 - val_tp: 759.0000 - val_fp: 863.0000 - val_tn: 3328.0000 - val_fn: 450.0000 - val_accuracy: 0.7569 - val_precision: 0.4679 - val_recall: 0.6278 - val_auc: 0.7791\n",
      "Epoch 62/100\n",
      "21600/21600 [==============================] - 0s 11us/sample - loss: 0.5746 - tp: 2988.0000 - fp: 3635.0000 - tn: 13201.0000 - fn: 1776.0000 - accuracy: 0.7495 - precision: 0.4512 - recall: 0.6272 - auc: 0.7669 - val_loss: 0.5376 - val_tp: 757.0000 - val_fp: 851.0000 - val_tn: 3340.0000 - val_fn: 452.0000 - val_accuracy: 0.7587 - val_precision: 0.4708 - val_recall: 0.6261 - val_auc: 0.7790\n",
      "Epoch 63/100\n",
      "21600/21600 [==============================] - 0s 11us/sample - loss: 0.5768 - tp: 3053.0000 - fp: 3813.0000 - tn: 13023.0000 - fn: 1711.0000 - accuracy: 0.7443 - precision: 0.4447 - recall: 0.6408 - auc: 0.7667 - val_loss: 0.5424 - val_tp: 761.0000 - val_fp: 871.0000 - val_tn: 3320.0000 - val_fn: 448.0000 - val_accuracy: 0.7557 - val_precision: 0.4663 - val_recall: 0.6294 - val_auc: 0.7794\n",
      "Epoch 64/100\n",
      "21600/21600 [==============================] - 0s 11us/sample - loss: 0.5747 - tp: 3041.0000 - fp: 3860.0000 - tn: 12976.0000 - fn: 1723.0000 - accuracy: 0.7415 - precision: 0.4407 - recall: 0.6383 - auc: 0.7677 - val_loss: 0.5376 - val_tp: 756.0000 - val_fp: 853.0000 - val_tn: 3338.0000 - val_fn: 453.0000 - val_accuracy: 0.7581 - val_precision: 0.4699 - val_recall: 0.6253 - val_auc: 0.7788\n",
      "Epoch 65/100\n",
      "21600/21600 [==============================] - 0s 11us/sample - loss: 0.5732 - tp: 2977.0000 - fp: 3672.0000 - tn: 13164.0000 - fn: 1787.0000 - accuracy: 0.7473 - precision: 0.4477 - recall: 0.6249 - auc: 0.7708 - val_loss: 0.5349 - val_tp: 756.0000 - val_fp: 856.0000 - val_tn: 3335.0000 - val_fn: 453.0000 - val_accuracy: 0.7576 - val_precision: 0.4690 - val_recall: 0.6253 - val_auc: 0.7789\n",
      "Epoch 66/100\n",
      "21600/21600 [==============================] - 0s 11us/sample - loss: 0.5761 - tp: 3038.0000 - fp: 3782.0000 - tn: 13054.0000 - fn: 1726.0000 - accuracy: 0.7450 - precision: 0.4455 - recall: 0.6377 - auc: 0.7676 - val_loss: 0.5433 - val_tp: 766.0000 - val_fp: 886.0000 - val_tn: 3305.0000 - val_fn: 443.0000 - val_accuracy: 0.7539 - val_precision: 0.4637 - val_recall: 0.6336 - val_auc: 0.7789\n",
      "Epoch 67/100\n",
      "21600/21600 [==============================] - 0s 11us/sample - loss: 0.5747 - tp: 3097.0000 - fp: 3966.0000 - tn: 12870.0000 - fn: 1667.0000 - accuracy: 0.7392 - precision: 0.4385 - recall: 0.6501 - auc: 0.7693 - val_loss: 0.5399 - val_tp: 762.0000 - val_fp: 867.0000 - val_tn: 3324.0000 - val_fn: 447.0000 - val_accuracy: 0.7567 - val_precision: 0.4678 - val_recall: 0.6303 - val_auc: 0.7791\n",
      "Epoch 68/100\n",
      "21600/21600 [==============================] - 0s 11us/sample - loss: 0.5748 - tp: 3030.0000 - fp: 3817.0000 - tn: 13019.0000 - fn: 1734.0000 - accuracy: 0.7430 - precision: 0.4425 - recall: 0.6360 - auc: 0.7676 - val_loss: 0.5379 - val_tp: 762.0000 - val_fp: 857.0000 - val_tn: 3334.0000 - val_fn: 447.0000 - val_accuracy: 0.7585 - val_precision: 0.4707 - val_recall: 0.6303 - val_auc: 0.7789\n",
      "Epoch 69/100\n",
      "21600/21600 [==============================] - 0s 11us/sample - loss: 0.5741 - tp: 3021.0000 - fp: 3829.0000 - tn: 13007.0000 - fn: 1743.0000 - accuracy: 0.7420 - precision: 0.4410 - recall: 0.6341 - auc: 0.7702 - val_loss: 0.5398 - val_tp: 761.0000 - val_fp: 864.0000 - val_tn: 3327.0000 - val_fn: 448.0000 - val_accuracy: 0.7570 - val_precision: 0.4683 - val_recall: 0.6294 - val_auc: 0.7790\n",
      "Epoch 70/100\n",
      "21600/21600 [==============================] - 0s 11us/sample - loss: 0.5745 - tp: 3067.0000 - fp: 3951.0000 - tn: 12885.0000 - fn: 1697.0000 - accuracy: 0.7385 - precision: 0.4370 - recall: 0.6438 - auc: 0.7685 - val_loss: 0.5419 - val_tp: 761.0000 - val_fp: 871.0000 - val_tn: 3320.0000 - val_fn: 448.0000 - val_accuracy: 0.7557 - val_precision: 0.4663 - val_recall: 0.6294 - val_auc: 0.7783\n",
      "Epoch 71/100\n",
      "20480/21600 [===========================>..] - ETA: 0s - loss: 0.5749 - tp: 2884.0000 - fp: 3643.0000 - tn: 12328.0000 - fn: 1625.0000 - accuracy: 0.7428 - precision: 0.4419 - recall: 0.6396 - auc: 0.7679Restoring model weights from the end of the best epoch.\n",
      "21600/21600 [==============================] - 1s 26us/sample - loss: 0.5746 - tp: 3046.0000 - fp: 3813.0000 - tn: 13023.0000 - fn: 1718.0000 - accuracy: 0.7439 - precision: 0.4441 - recall: 0.6394 - auc: 0.7687 - val_loss: 0.5332 - val_tp: 756.0000 - val_fp: 850.0000 - val_tn: 3341.0000 - val_fn: 453.0000 - val_accuracy: 0.7587 - val_precision: 0.4707 - val_recall: 0.6253 - val_auc: 0.7790\n",
      "Epoch 00071: early stopping\n"
     ]
    }
   ],
   "source": [
    "weighted_history = weighted_model.fit(\n",
    "    train_x,\n",
    "    train_y,\n",
    "    batch_size=BATCH_SIZE,\n",
    "    epochs=EPOCHS,\n",
    "    callbacks = [early_stopping],\n",
    "    validation_data=(val_x, val_y),\n",
    "    class_weight=class_weight) "
   ]
  },
  {
   "cell_type": "code",
   "execution_count": 65,
   "metadata": {},
   "outputs": [
    {
     "data": {
      "image/png": "[encoded data removed]",
      "text/plain": [
       "<Figure size 1296x864 with 4 Axes>"
      ]
     },
     "metadata": {
      "needs_background": "light"
     },
     "output_type": "display_data"
    }
   ],
   "source": [
    "plot_metrics(weighted_history)"
   ]
  },
  {
   "cell_type": "code",
   "execution_count": 66,
   "metadata": {},
   "outputs": [],
   "source": [
    "train_predictions_weighted = weighted_model.predict(train_x, batch_size=BATCH_SIZE)\n",
    "val_predictions_weighted = weighted_model.predict(val_x, batch_size=BATCH_SIZE)"
   ]
  },
  {
   "cell_type": "code",
   "execution_count": 67,
   "metadata": {},
   "outputs": [
    {
     "name": "stdout",
     "output_type": "stream",
     "text": [
      "loss :  0.5424483871459961\n",
      "tp :  761.0\n",
      "fp :  871.0\n",
      "tn :  3320.0\n",
      "fn :  448.0\n",
      "accuracy :  0.75574076\n",
      "precision :  0.46629903\n",
      "recall :  0.62944585\n",
      "auc :  0.77936083\n",
      "\n",
      "Legitimate Transactions Detected (True Negatives):  3320\n",
      "Legitimate Transactions Incorrectly Detected (False Positives):  871\n",
      "Fraudulent Transactions Missed (False Negatives):  448\n",
      "Fraudulent Transactions Detected (True Positives):  761\n",
      "Total Fraudulent Transactions:  1209\n"
     ]
    },
    {
     "data": {
      "image/png": "[encoded data removed]",
      "text/plain": [
       "<Figure size 360x360 with 2 Axes>"
      ]
     },
     "metadata": {
      "needs_background": "light"
     },
     "output_type": "display_data"
    }
   ],
   "source": [
    "weighted_results = weighted_model.evaluate(val_x, val_y, batch_size=BATCH_SIZE, verbose=0)\n",
    "\n",
    "for name, value in zip(weighted_model.metrics_names, weighted_results):\n",
    "  print(name, ': ', value)\n",
    "print()\n",
    "\n",
    "plot_cm(val_y, val_predictions_weighted)"
   ]
  },
  {
   "cell_type": "code",
   "execution_count": 68,
   "metadata": {
    "scrolled": false
   },
   "outputs": [
    {
     "data": {
      "text/plain": [
       "<matplotlib.legend.Legend at 0x1a49b53e90>"
      ]
     },
     "execution_count": 68,
     "metadata": {},
     "output_type": "execute_result"
    },
    {
     "data": {
      "image/png": "[encoded data removed]",
      "text/plain": [
       "<Figure size 1296x864 with 1 Axes>"
      ]
     },
     "metadata": {
      "needs_background": "light"
     },
     "output_type": "display_data"
    }
   ],
   "source": [
    "plot_roc(\"Train Baseline\", train_y, train_predictions_baseline, color=colors[0])\n",
    "plot_roc(\"Val Baseline\", val_y, val_predictions_baseline, color=colors[0], linestyle='--')\n",
    "\n",
    "plot_roc(\"Train Weighted\", train_y, train_predictions_weighted, color=colors[1])\n",
    "plot_roc(\"Val Weighted\", val_y, val_predictions_weighted, color=colors[1], linestyle='--')\n",
    "\n",
    "\n",
    "plt.legend(loc='lower right')"
   ]
  },
  {
   "cell_type": "markdown",
   "metadata": {},
   "source": [
    "In termini di AUC non si nota un particolare miglioramento.\n",
    "\n",
    "Tuttavia i valori di precision e racall sono più bilanciati, confermando che questo sistema di pesi aiuta il classificatore a riconoscere i clienti che andranno in default.\n",
    "\n",
    "Finita la fase di training, si applica l'algoritmo al test set per effettuare la previsione. "
   ]
  },
  {
   "cell_type": "markdown",
   "metadata": {},
   "source": [
    "## Test Set prediction"
   ]
  },
  {
   "cell_type": "code",
   "execution_count": 69,
   "metadata": {
    "scrolled": true
   },
   "outputs": [],
   "source": [
    "test_predictions = weighted_model.predict(test_x, batch_size=BATCH_SIZE)"
   ]
  },
  {
   "cell_type": "code",
   "execution_count": 70,
   "metadata": {},
   "outputs": [
    {
     "data": {
      "text/plain": [
       "0.42429647"
      ]
     },
     "execution_count": 70,
     "metadata": {},
     "output_type": "execute_result"
    }
   ],
   "source": [
    "test_predictions.mean()"
   ]
  },
  {
   "cell_type": "code",
   "execution_count": 1,
   "metadata": {},
   "outputs": [
    {
     "ename": "SyntaxError",
     "evalue": "invalid syntax (<ipython-input-1-6970e1f3625a>, line 1)",
     "output_type": "error",
     "traceback": [
      "\u001b[0;36m  File \u001b[0;32m\"<ipython-input-1-6970e1f3625a>\"\u001b[0;36m, line \u001b[0;32m1\u001b[0m\n\u001b[0;31m    bastava y_classes = predictions.argmax(axis=-1)\u001b[0m\n\u001b[0m                    ^\u001b[0m\n\u001b[0;31mSyntaxError\u001b[0m\u001b[0;31m:\u001b[0m invalid syntax\n"
     ]
    }
   ],
   "source": []
  },
  {
   "cell_type": "code",
   "execution_count": null,
   "metadata": {},
   "outputs": [],
   "source": []
  }
 ],
 "metadata": {
  "colab": {
   "collapsed_sections": [],
   "name": "Untitled0.ipynb",
   "provenance": []
  },
  "kernelspec": {
   "display_name": "Python 3",
   "language": "python",
   "name": "python3"
  },
  "language_info": {
   "codemirror_mode": {
    "name": "ipython",
    "version": 3
   },
   "file_extension": ".py",
   "mimetype": "text/x-python",
   "name": "python",
   "nbconvert_exporter": "python",
   "pygments_lexer": "ipython3",
   "version": "3.7.3"
  }
 },
 "nbformat": 4,
 "nbformat_minor": 1
}
